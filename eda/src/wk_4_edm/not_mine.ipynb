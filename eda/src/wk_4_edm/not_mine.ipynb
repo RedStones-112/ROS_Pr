{
 "cells": [
  {
   "cell_type": "code",
   "execution_count": 87,
   "metadata": {},
   "outputs": [
    {
     "name": "stderr",
     "output_type": "stream",
     "text": [
      "/tmp/ipykernel_13280/1357924224.py:9: DtypeWarning:\n",
      "\n",
      "Columns (4,6,31,33,61,62,63,76,79,90,92,94,96,114,115,121) have mixed types. Specify dtype option on import or set low_memory=False.\n",
      "\n"
     ]
    },
    {
     "data": {
      "text/html": [
       "<div>\n",
       "<style scoped>\n",
       "    .dataframe tbody tr th:only-of-type {\n",
       "        vertical-align: middle;\n",
       "    }\n",
       "\n",
       "    .dataframe tbody tr th {\n",
       "        vertical-align: top;\n",
       "    }\n",
       "\n",
       "    .dataframe thead th {\n",
       "        text-align: right;\n",
       "    }\n",
       "</style>\n",
       "<table border=\"1\" class=\"dataframe\">\n",
       "  <thead>\n",
       "    <tr style=\"text-align: right;\">\n",
       "      <th></th>\n",
       "      <th>Year</th>\n",
       "      <th>Month</th>\n",
       "      <th>Day</th>\n",
       "      <th>Country</th>\n",
       "      <th>Region</th>\n",
       "      <th>city</th>\n",
       "      <th>latitude</th>\n",
       "      <th>longitude</th>\n",
       "      <th>AttackType</th>\n",
       "      <th>Killed</th>\n",
       "      <th>Wounded</th>\n",
       "      <th>Target</th>\n",
       "      <th>Summary</th>\n",
       "      <th>Group</th>\n",
       "      <th>Target_type</th>\n",
       "      <th>Weapon_type</th>\n",
       "      <th>Motive</th>\n",
       "      <th>casualities</th>\n",
       "    </tr>\n",
       "  </thead>\n",
       "  <tbody>\n",
       "    <tr>\n",
       "      <th>0</th>\n",
       "      <td>1970</td>\n",
       "      <td>7</td>\n",
       "      <td>2</td>\n",
       "      <td>Dominican Republic</td>\n",
       "      <td>Central America &amp; Caribbean</td>\n",
       "      <td>Santo Domingo</td>\n",
       "      <td>18.456792</td>\n",
       "      <td>-69.951164</td>\n",
       "      <td>Assassination</td>\n",
       "      <td>1.0</td>\n",
       "      <td>0.0</td>\n",
       "      <td>Julio Guzman</td>\n",
       "      <td>NaN</td>\n",
       "      <td>MANO-D</td>\n",
       "      <td>Private Citizens &amp; Property</td>\n",
       "      <td>Unknown</td>\n",
       "      <td>NaN</td>\n",
       "      <td>1.0</td>\n",
       "    </tr>\n",
       "    <tr>\n",
       "      <th>1</th>\n",
       "      <td>1970</td>\n",
       "      <td>0</td>\n",
       "      <td>0</td>\n",
       "      <td>Mexico</td>\n",
       "      <td>North America</td>\n",
       "      <td>Mexico city</td>\n",
       "      <td>19.371887</td>\n",
       "      <td>-99.086624</td>\n",
       "      <td>Hostage Taking (Kidnapping)</td>\n",
       "      <td>0.0</td>\n",
       "      <td>0.0</td>\n",
       "      <td>Nadine Chaval, daughter</td>\n",
       "      <td>NaN</td>\n",
       "      <td>23rd of September Communist League</td>\n",
       "      <td>Government (Diplomatic)</td>\n",
       "      <td>Unknown</td>\n",
       "      <td>NaN</td>\n",
       "      <td>0.0</td>\n",
       "    </tr>\n",
       "    <tr>\n",
       "      <th>2</th>\n",
       "      <td>1970</td>\n",
       "      <td>1</td>\n",
       "      <td>0</td>\n",
       "      <td>Philippines</td>\n",
       "      <td>Southeast Asia</td>\n",
       "      <td>Unknown</td>\n",
       "      <td>15.478598</td>\n",
       "      <td>120.599741</td>\n",
       "      <td>Assassination</td>\n",
       "      <td>1.0</td>\n",
       "      <td>0.0</td>\n",
       "      <td>Employee</td>\n",
       "      <td>NaN</td>\n",
       "      <td>Unknown</td>\n",
       "      <td>Journalists &amp; Media</td>\n",
       "      <td>Unknown</td>\n",
       "      <td>NaN</td>\n",
       "      <td>1.0</td>\n",
       "    </tr>\n",
       "  </tbody>\n",
       "</table>\n",
       "</div>"
      ],
      "text/plain": [
       "   Year  Month  Day             Country                       Region  \\\n",
       "0  1970      7    2  Dominican Republic  Central America & Caribbean   \n",
       "1  1970      0    0              Mexico                North America   \n",
       "2  1970      1    0         Philippines               Southeast Asia   \n",
       "\n",
       "            city   latitude   longitude                   AttackType  Killed  \\\n",
       "0  Santo Domingo  18.456792  -69.951164                Assassination     1.0   \n",
       "1    Mexico city  19.371887  -99.086624  Hostage Taking (Kidnapping)     0.0   \n",
       "2        Unknown  15.478598  120.599741                Assassination     1.0   \n",
       "\n",
       "   Wounded                   Target Summary  \\\n",
       "0      0.0             Julio Guzman     NaN   \n",
       "1      0.0  Nadine Chaval, daughter     NaN   \n",
       "2      0.0                 Employee     NaN   \n",
       "\n",
       "                                Group                  Target_type  \\\n",
       "0                              MANO-D  Private Citizens & Property   \n",
       "1  23rd of September Communist League      Government (Diplomatic)   \n",
       "2                             Unknown          Journalists & Media   \n",
       "\n",
       "  Weapon_type Motive  casualities  \n",
       "0     Unknown    NaN          1.0  \n",
       "1     Unknown    NaN          0.0  \n",
       "2     Unknown    NaN          1.0  "
      ]
     },
     "execution_count": 87,
     "metadata": {},
     "output_type": "execute_result"
    }
   ],
   "source": [
    "import json\n",
    "import pandas as pd\n",
    "import matplotlib.pyplot as plt\n",
    "import seaborn as sns\n",
    "import koreanize_matplotlib\n",
    "from plotly.offline import iplot\n",
    "import cufflinks\n",
    "\n",
    "terror=pd.read_csv('/home/bo/amr_ws/eda/data/globalterrorismdb_0718dist.csv',encoding='ISO-8859-1')\n",
    "terror.rename(columns={'iyear':'Year','imonth':'Month','iday':'Day','country_txt':'Country','region_txt':'Region','attacktype1_txt':'AttackType','target1':'Target','nkill':'Killed','nwound':'Wounded','summary':'Summary','gname':'Group','targtype1_txt':'Target_type','weaptype1_txt':'Weapon_type','motive':'Motive'},inplace=True)\n",
    "terror=terror[['Year','Month','Day','Country','Region','city','latitude','longitude','AttackType','Killed','Wounded','Target','Summary','Group','Target_type','Weapon_type','Motive']]\n",
    "terror['casualities']=terror['Killed']+terror['Wounded']\n",
    "terror.head(3)"
   ]
  },
  {
   "cell_type": "code",
   "execution_count": 88,
   "metadata": {},
   "outputs": [
    {
     "data": {
      "text/plain": [
       "Year                0\n",
       "Month               0\n",
       "Day                 0\n",
       "Country             0\n",
       "Region              0\n",
       "city              435\n",
       "latitude         4556\n",
       "longitude        4557\n",
       "AttackType          0\n",
       "Killed          10313\n",
       "Wounded         16311\n",
       "Target            638\n",
       "Summary         66129\n",
       "Group               0\n",
       "Target_type         0\n",
       "Weapon_type         0\n",
       "Motive         131130\n",
       "casualities     16874\n",
       "dtype: int64"
      ]
     },
     "execution_count": 88,
     "metadata": {},
     "output_type": "execute_result"
    }
   ],
   "source": [
    "terror.isnull().sum()"
   ]
  },
  {
   "cell_type": "code",
   "execution_count": 89,
   "metadata": {},
   "outputs": [
    {
     "name": "stdout",
     "output_type": "stream",
     "text": [
      "Country with Highest Terrorist Attacks: Iraq\n",
      "Regions with Highest Terrorist Attacks: Middle East & North Africa\n",
      "Maximum people killed in an attack are: 1570.0 that took place in Iraq\n"
     ]
    }
   ],
   "source": [
    "print('Country with Highest Terrorist Attacks:',terror['Country'].value_counts().index[0])\n",
    "print('Regions with Highest Terrorist Attacks:',terror['Region'].value_counts().index[0])\n",
    "print('Maximum people killed in an attack are:',terror['Killed'].max(),'that took place in',terror.loc[terror['Killed'].idxmax()].Country)\n"
   ]
  },
  {
   "cell_type": "code",
   "execution_count": 90,
   "metadata": {},
   "outputs": [
    {
     "name": "stderr",
     "output_type": "stream",
     "text": [
      "/tmp/ipykernel_13280/2185080460.py:2: FutureWarning:\n",
      "\n",
      "\n",
      "\n",
      "Passing `palette` without assigning `hue` is deprecated and will be removed in v0.14.0. Assign the `x` variable to `hue` and set `legend=False` for the same effect.\n",
      "\n",
      "\n"
     ]
    },
    {
     "data": {
      "image/png": "[encoded data removed]",
      "text/plain": [
       "<Figure size 1500x600 with 1 Axes>"
      ]
     },
     "metadata": {},
     "output_type": "display_data"
    }
   ],
   "source": [
    "plt.subplots(figsize=(15,6))\n",
    "sns.countplot(x='Year',data=terror,palette='RdYlGn_r',edgecolor=sns.color_palette('dark',7))\n",
    "plt.xticks(rotation=90)\n",
    "plt.title('Number Of Terrorist Activities Each Year')\n",
    "plt.show()"
   ]
  },
  {
   "cell_type": "code",
   "execution_count": 91,
   "metadata": {},
   "outputs": [
    {
     "name": "stderr",
     "output_type": "stream",
     "text": [
      "/tmp/ipykernel_13280/4102545332.py:2: FutureWarning:\n",
      "\n",
      "\n",
      "\n",
      "Passing `palette` without assigning `hue` is deprecated and will be removed in v0.14.0. Assign the `x` variable to `hue` and set `legend=False` for the same effect.\n",
      "\n",
      "\n"
     ]
    },
    {
     "data": {
      "image/png": "[encoded data removed]",
      "text/plain": [
       "<Figure size 1800x600 with 1 Axes>"
      ]
     },
     "metadata": {},
     "output_type": "display_data"
    }
   ],
   "source": [
    "plt.subplots(figsize=(18,6))\n",
    "sns.barplot(x=terror['Country'].value_counts()[:15].index,y=terror['Country'].value_counts()[:15].values,palette='inferno')\n",
    "plt.title('Top Affected Countries')\n",
    "plt.show()"
   ]
  },
  {
   "cell_type": "code",
   "execution_count": 92,
   "metadata": {},
   "outputs": [],
   "source": [
    "\n",
    "year_=[]\n",
    "for Year in terror[\"Year\"]:\n",
    "    if Year<2012:    \n",
    "        year_.append(\"before\")\n",
    "    else:\n",
    "        year_.append(\"after\")\n",
    "\n"
   ]
  },
  {
   "cell_type": "code",
   "execution_count": 93,
   "metadata": {},
   "outputs": [
    {
     "data": {
      "text/plain": [
       "['before',\n",
       " 'before',\n",
       " 'before',\n",
       " 'before',\n",
       " 'before',\n",
       " 'before',\n",
       " 'before',\n",
       " 'before',\n",
       " 'before',\n",
       " 'before',\n",
       " 'before',\n",
       " 'before',\n",
       " 'before',\n",
       " 'before',\n",
       " 'before',\n",
       " 'before',\n",
       " 'before',\n",
       " 'before',\n",
       " 'before',\n",
       " 'before',\n",
       " 'before',\n",
       " 'before',\n",
       " 'before',\n",
       " 'before',\n",
       " 'before',\n",
       " 'before',\n",
       " 'before',\n",
       " 'before',\n",
       " 'before',\n",
       " 'before',\n",
       " 'before',\n",
       " 'before',\n",
       " 'before',\n",
       " 'before',\n",
       " 'before',\n",
       " 'before',\n",
       " 'before',\n",
       " 'before',\n",
       " 'before',\n",
       " 'before',\n",
       " 'before',\n",
       " 'before',\n",
       " 'before',\n",
       " 'before',\n",
       " 'before',\n",
       " 'before',\n",
       " 'before',\n",
       " 'before',\n",
       " 'before',\n",
       " 'before',\n",
       " 'before',\n",
       " 'before',\n",
       " 'before',\n",
       " 'before',\n",
       " 'before',\n",
       " 'before',\n",
       " 'before',\n",
       " 'before',\n",
       " 'before',\n",
       " 'before',\n",
       " 'before',\n",
       " 'before',\n",
       " 'before',\n",
       " 'before',\n",
       " 'before',\n",
       " 'before',\n",
       " 'before',\n",
       " 'before',\n",
       " 'before',\n",
       " 'before',\n",
       " 'before',\n",
       " 'before',\n",
       " 'before',\n",
       " 'before',\n",
       " 'before',\n",
       " 'before',\n",
       " 'before',\n",
       " 'before',\n",
       " 'before',\n",
       " 'before',\n",
       " 'before',\n",
       " 'before',\n",
       " 'before',\n",
       " 'before',\n",
       " 'before',\n",
       " 'before',\n",
       " 'before',\n",
       " 'before',\n",
       " 'before',\n",
       " 'before',\n",
       " 'before',\n",
       " 'before',\n",
       " 'before',\n",
       " 'before',\n",
       " 'before',\n",
       " 'before',\n",
       " 'before',\n",
       " 'before',\n",
       " 'before',\n",
       " 'before',\n",
       " 'before',\n",
       " 'before',\n",
       " 'before',\n",
       " 'before',\n",
       " 'before',\n",
       " 'before',\n",
       " 'before',\n",
       " 'before',\n",
       " 'before',\n",
       " 'before',\n",
       " 'before',\n",
       " 'before',\n",
       " 'before',\n",
       " 'before',\n",
       " 'before',\n",
       " 'before',\n",
       " 'before',\n",
       " 'before',\n",
       " 'before',\n",
       " 'before',\n",
       " 'before',\n",
       " 'before',\n",
       " 'before',\n",
       " 'before',\n",
       " 'before',\n",
       " 'before',\n",
       " 'before',\n",
       " 'before',\n",
       " 'before',\n",
       " 'before',\n",
       " 'before',\n",
       " 'before',\n",
       " 'before',\n",
       " 'before',\n",
       " 'before',\n",
       " 'before',\n",
       " 'before',\n",
       " 'before',\n",
       " 'before',\n",
       " 'before',\n",
       " 'before',\n",
       " 'before',\n",
       " 'before',\n",
       " 'before',\n",
       " 'before',\n",
       " 'before',\n",
       " 'before',\n",
       " 'before',\n",
       " 'before',\n",
       " 'before',\n",
       " 'before',\n",
       " 'before',\n",
       " 'before',\n",
       " 'before',\n",
       " 'before',\n",
       " 'before',\n",
       " 'before',\n",
       " 'before',\n",
       " 'before',\n",
       " 'before',\n",
       " 'before',\n",
       " 'before',\n",
       " 'before',\n",
       " 'before',\n",
       " 'before',\n",
       " 'before',\n",
       " 'before',\n",
       " 'before',\n",
       " 'before',\n",
       " 'before',\n",
       " 'before',\n",
       " 'before',\n",
       " 'before',\n",
       " 'before',\n",
       " 'before',\n",
       " 'before',\n",
       " 'before',\n",
       " 'before',\n",
       " 'before',\n",
       " 'before',\n",
       " 'before',\n",
       " 'before',\n",
       " 'before',\n",
       " 'before',\n",
       " 'before',\n",
       " 'before',\n",
       " 'before',\n",
       " 'before',\n",
       " 'before',\n",
       " 'before',\n",
       " 'before',\n",
       " 'before',\n",
       " 'before',\n",
       " 'before',\n",
       " 'before',\n",
       " 'before',\n",
       " 'before',\n",
       " 'before',\n",
       " 'before',\n",
       " 'before',\n",
       " 'before',\n",
       " 'before',\n",
       " 'before',\n",
       " 'before',\n",
       " 'before',\n",
       " 'before',\n",
       " 'before',\n",
       " 'before',\n",
       " 'before',\n",
       " 'before',\n",
       " 'before',\n",
       " 'before',\n",
       " 'before',\n",
       " 'before',\n",
       " 'before',\n",
       " 'before',\n",
       " 'before',\n",
       " 'before',\n",
       " 'before',\n",
       " 'before',\n",
       " 'before',\n",
       " 'before',\n",
       " 'before',\n",
       " 'before',\n",
       " 'before',\n",
       " 'before',\n",
       " 'before',\n",
       " 'before',\n",
       " 'before',\n",
       " 'before',\n",
       " 'before',\n",
       " 'before',\n",
       " 'before',\n",
       " 'before',\n",
       " 'before',\n",
       " 'before',\n",
       " 'before',\n",
       " 'before',\n",
       " 'before',\n",
       " 'before',\n",
       " 'before',\n",
       " 'before',\n",
       " 'before',\n",
       " 'before',\n",
       " 'before',\n",
       " 'before',\n",
       " 'before',\n",
       " 'before',\n",
       " 'before',\n",
       " 'before',\n",
       " 'before',\n",
       " 'before',\n",
       " 'before',\n",
       " 'before',\n",
       " 'before',\n",
       " 'before',\n",
       " 'before',\n",
       " 'before',\n",
       " 'before',\n",
       " 'before',\n",
       " 'before',\n",
       " 'before',\n",
       " 'before',\n",
       " 'before',\n",
       " 'before',\n",
       " 'before',\n",
       " 'before',\n",
       " 'before',\n",
       " 'before',\n",
       " 'before',\n",
       " 'before',\n",
       " 'before',\n",
       " 'before',\n",
       " 'before',\n",
       " 'before',\n",
       " 'before',\n",
       " 'before',\n",
       " 'before',\n",
       " 'before',\n",
       " 'before',\n",
       " 'before',\n",
       " 'before',\n",
       " 'before',\n",
       " 'before',\n",
       " 'before',\n",
       " 'before',\n",
       " 'before',\n",
       " 'before',\n",
       " 'before',\n",
       " 'before',\n",
       " 'before',\n",
       " 'before',\n",
       " 'before',\n",
       " 'before',\n",
       " 'before',\n",
       " 'before',\n",
       " 'before',\n",
       " 'before',\n",
       " 'before',\n",
       " 'before',\n",
       " 'before',\n",
       " 'before',\n",
       " 'before',\n",
       " 'before',\n",
       " 'before',\n",
       " 'before',\n",
       " 'before',\n",
       " 'before',\n",
       " 'before',\n",
       " 'before',\n",
       " 'before',\n",
       " 'before',\n",
       " 'before',\n",
       " 'before',\n",
       " 'before',\n",
       " 'before',\n",
       " 'before',\n",
       " 'before',\n",
       " 'before',\n",
       " 'before',\n",
       " 'before',\n",
       " 'before',\n",
       " 'before',\n",
       " 'before',\n",
       " 'before',\n",
       " 'before',\n",
       " 'before',\n",
       " 'before',\n",
       " 'before',\n",
       " 'before',\n",
       " 'before',\n",
       " 'before',\n",
       " 'before',\n",
       " 'before',\n",
       " 'before',\n",
       " 'before',\n",
       " 'before',\n",
       " 'before',\n",
       " 'before',\n",
       " 'before',\n",
       " 'before',\n",
       " 'before',\n",
       " 'before',\n",
       " 'before',\n",
       " 'before',\n",
       " 'before',\n",
       " 'before',\n",
       " 'before',\n",
       " 'before',\n",
       " 'before',\n",
       " 'before',\n",
       " 'before',\n",
       " 'before',\n",
       " 'before',\n",
       " 'before',\n",
       " 'before',\n",
       " 'before',\n",
       " 'before',\n",
       " 'before',\n",
       " 'before',\n",
       " 'before',\n",
       " 'before',\n",
       " 'before',\n",
       " 'before',\n",
       " 'before',\n",
       " 'before',\n",
       " 'before',\n",
       " 'before',\n",
       " 'before',\n",
       " 'before',\n",
       " 'before',\n",
       " 'before',\n",
       " 'before',\n",
       " 'before',\n",
       " 'before',\n",
       " 'before',\n",
       " 'before',\n",
       " 'before',\n",
       " 'before',\n",
       " 'before',\n",
       " 'before',\n",
       " 'before',\n",
       " 'before',\n",
       " 'before',\n",
       " 'before',\n",
       " 'before',\n",
       " 'before',\n",
       " 'before',\n",
       " 'before',\n",
       " 'before',\n",
       " 'before',\n",
       " 'before',\n",
       " 'before',\n",
       " 'before',\n",
       " 'before',\n",
       " 'before',\n",
       " 'before',\n",
       " 'before',\n",
       " 'before',\n",
       " 'before',\n",
       " 'before',\n",
       " 'before',\n",
       " 'before',\n",
       " 'before',\n",
       " 'before',\n",
       " 'before',\n",
       " 'before',\n",
       " 'before',\n",
       " 'before',\n",
       " 'before',\n",
       " 'before',\n",
       " 'before',\n",
       " 'before',\n",
       " 'before',\n",
       " 'before',\n",
       " 'before',\n",
       " 'before',\n",
       " 'before',\n",
       " 'before',\n",
       " 'before',\n",
       " 'before',\n",
       " 'before',\n",
       " 'before',\n",
       " 'before',\n",
       " 'before',\n",
       " 'before',\n",
       " 'before',\n",
       " 'before',\n",
       " 'before',\n",
       " 'before',\n",
       " 'before',\n",
       " 'before',\n",
       " 'before',\n",
       " 'before',\n",
       " 'before',\n",
       " 'before',\n",
       " 'before',\n",
       " 'before',\n",
       " 'before',\n",
       " 'before',\n",
       " 'before',\n",
       " 'before',\n",
       " 'before',\n",
       " 'before',\n",
       " 'before',\n",
       " 'before',\n",
       " 'before',\n",
       " 'before',\n",
       " 'before',\n",
       " 'before',\n",
       " 'before',\n",
       " 'before',\n",
       " 'before',\n",
       " 'before',\n",
       " 'before',\n",
       " 'before',\n",
       " 'before',\n",
       " 'before',\n",
       " 'before',\n",
       " 'before',\n",
       " 'before',\n",
       " 'before',\n",
       " 'before',\n",
       " 'before',\n",
       " 'before',\n",
       " 'before',\n",
       " 'before',\n",
       " 'before',\n",
       " 'before',\n",
       " 'before',\n",
       " 'before',\n",
       " 'before',\n",
       " 'before',\n",
       " 'before',\n",
       " 'before',\n",
       " 'before',\n",
       " 'before',\n",
       " 'before',\n",
       " 'before',\n",
       " 'before',\n",
       " 'before',\n",
       " 'before',\n",
       " 'before',\n",
       " 'before',\n",
       " 'before',\n",
       " 'before',\n",
       " 'before',\n",
       " 'before',\n",
       " 'before',\n",
       " 'before',\n",
       " 'before',\n",
       " 'before',\n",
       " 'before',\n",
       " 'before',\n",
       " 'before',\n",
       " 'before',\n",
       " 'before',\n",
       " 'before',\n",
       " 'before',\n",
       " 'before',\n",
       " 'before',\n",
       " 'before',\n",
       " 'before',\n",
       " 'before',\n",
       " 'before',\n",
       " 'before',\n",
       " 'before',\n",
       " 'before',\n",
       " 'before',\n",
       " 'before',\n",
       " 'before',\n",
       " 'before',\n",
       " 'before',\n",
       " 'before',\n",
       " 'before',\n",
       " 'before',\n",
       " 'before',\n",
       " 'before',\n",
       " 'before',\n",
       " 'before',\n",
       " 'before',\n",
       " 'before',\n",
       " 'before',\n",
       " 'before',\n",
       " 'before',\n",
       " 'before',\n",
       " 'before',\n",
       " 'before',\n",
       " 'before',\n",
       " 'before',\n",
       " 'before',\n",
       " 'before',\n",
       " 'before',\n",
       " 'before',\n",
       " 'before',\n",
       " 'before',\n",
       " 'before',\n",
       " 'before',\n",
       " 'before',\n",
       " 'before',\n",
       " 'before',\n",
       " 'before',\n",
       " 'before',\n",
       " 'before',\n",
       " 'before',\n",
       " 'before',\n",
       " 'before',\n",
       " 'before',\n",
       " 'before',\n",
       " 'before',\n",
       " 'before',\n",
       " 'before',\n",
       " 'before',\n",
       " 'before',\n",
       " 'before',\n",
       " 'before',\n",
       " 'before',\n",
       " 'before',\n",
       " 'before',\n",
       " 'before',\n",
       " 'before',\n",
       " 'before',\n",
       " 'before',\n",
       " 'before',\n",
       " 'before',\n",
       " 'before',\n",
       " 'before',\n",
       " 'before',\n",
       " 'before',\n",
       " 'before',\n",
       " 'before',\n",
       " 'before',\n",
       " 'before',\n",
       " 'before',\n",
       " 'before',\n",
       " 'before',\n",
       " 'before',\n",
       " 'before',\n",
       " 'before',\n",
       " 'before',\n",
       " 'before',\n",
       " 'before',\n",
       " 'before',\n",
       " 'before',\n",
       " 'before',\n",
       " 'before',\n",
       " 'before',\n",
       " 'before',\n",
       " 'before',\n",
       " 'before',\n",
       " 'before',\n",
       " 'before',\n",
       " 'before',\n",
       " 'before',\n",
       " 'before',\n",
       " 'before',\n",
       " 'before',\n",
       " 'before',\n",
       " 'before',\n",
       " 'before',\n",
       " 'before',\n",
       " 'before',\n",
       " 'before',\n",
       " 'before',\n",
       " 'before',\n",
       " 'before',\n",
       " 'before',\n",
       " 'before',\n",
       " 'before',\n",
       " 'before',\n",
       " 'before',\n",
       " 'before',\n",
       " 'before',\n",
       " 'before',\n",
       " 'before',\n",
       " 'before',\n",
       " 'before',\n",
       " 'before',\n",
       " 'before',\n",
       " 'before',\n",
       " 'before',\n",
       " 'before',\n",
       " 'before',\n",
       " 'before',\n",
       " 'before',\n",
       " 'before',\n",
       " 'before',\n",
       " 'before',\n",
       " 'before',\n",
       " 'before',\n",
       " 'before',\n",
       " 'before',\n",
       " 'before',\n",
       " 'before',\n",
       " 'before',\n",
       " 'before',\n",
       " 'before',\n",
       " 'before',\n",
       " 'before',\n",
       " 'before',\n",
       " 'before',\n",
       " 'before',\n",
       " 'before',\n",
       " 'before',\n",
       " 'before',\n",
       " 'before',\n",
       " 'before',\n",
       " 'before',\n",
       " 'before',\n",
       " 'before',\n",
       " 'before',\n",
       " 'before',\n",
       " 'before',\n",
       " 'before',\n",
       " 'before',\n",
       " 'before',\n",
       " 'before',\n",
       " 'before',\n",
       " 'before',\n",
       " 'before',\n",
       " 'before',\n",
       " 'before',\n",
       " 'before',\n",
       " 'before',\n",
       " 'before',\n",
       " 'before',\n",
       " 'before',\n",
       " 'before',\n",
       " 'before',\n",
       " 'before',\n",
       " 'before',\n",
       " 'before',\n",
       " 'before',\n",
       " 'before',\n",
       " 'before',\n",
       " 'before',\n",
       " 'before',\n",
       " 'before',\n",
       " 'before',\n",
       " 'before',\n",
       " 'before',\n",
       " 'before',\n",
       " 'before',\n",
       " 'before',\n",
       " 'before',\n",
       " 'before',\n",
       " 'before',\n",
       " 'before',\n",
       " 'before',\n",
       " 'before',\n",
       " 'before',\n",
       " 'before',\n",
       " 'before',\n",
       " 'before',\n",
       " 'before',\n",
       " 'before',\n",
       " 'before',\n",
       " 'before',\n",
       " 'before',\n",
       " 'before',\n",
       " 'before',\n",
       " 'before',\n",
       " 'before',\n",
       " 'before',\n",
       " 'before',\n",
       " 'before',\n",
       " 'before',\n",
       " 'before',\n",
       " 'before',\n",
       " 'before',\n",
       " 'before',\n",
       " 'before',\n",
       " 'before',\n",
       " 'before',\n",
       " 'before',\n",
       " 'before',\n",
       " 'before',\n",
       " 'before',\n",
       " 'before',\n",
       " 'before',\n",
       " 'before',\n",
       " 'before',\n",
       " 'before',\n",
       " 'before',\n",
       " 'before',\n",
       " 'before',\n",
       " 'before',\n",
       " 'before',\n",
       " 'before',\n",
       " 'before',\n",
       " 'before',\n",
       " 'before',\n",
       " 'before',\n",
       " 'before',\n",
       " 'before',\n",
       " 'before',\n",
       " 'before',\n",
       " 'before',\n",
       " 'before',\n",
       " 'before',\n",
       " 'before',\n",
       " 'before',\n",
       " 'before',\n",
       " 'before',\n",
       " 'before',\n",
       " 'before',\n",
       " 'before',\n",
       " 'before',\n",
       " 'before',\n",
       " 'before',\n",
       " 'before',\n",
       " 'before',\n",
       " 'before',\n",
       " 'before',\n",
       " 'before',\n",
       " 'before',\n",
       " 'before',\n",
       " 'before',\n",
       " 'before',\n",
       " 'before',\n",
       " 'before',\n",
       " 'before',\n",
       " 'before',\n",
       " 'before',\n",
       " 'before',\n",
       " 'before',\n",
       " 'before',\n",
       " 'before',\n",
       " 'before',\n",
       " 'before',\n",
       " 'before',\n",
       " 'before',\n",
       " 'before',\n",
       " 'before',\n",
       " 'before',\n",
       " 'before',\n",
       " 'before',\n",
       " 'before',\n",
       " 'before',\n",
       " 'before',\n",
       " 'before',\n",
       " 'before',\n",
       " 'before',\n",
       " 'before',\n",
       " 'before',\n",
       " 'before',\n",
       " 'before',\n",
       " 'before',\n",
       " 'before',\n",
       " 'before',\n",
       " 'before',\n",
       " 'before',\n",
       " 'before',\n",
       " 'before',\n",
       " 'before',\n",
       " 'before',\n",
       " 'before',\n",
       " 'before',\n",
       " 'before',\n",
       " 'before',\n",
       " 'before',\n",
       " 'before',\n",
       " 'before',\n",
       " 'before',\n",
       " 'before',\n",
       " 'before',\n",
       " 'before',\n",
       " 'before',\n",
       " 'before',\n",
       " 'before',\n",
       " 'before',\n",
       " 'before',\n",
       " 'before',\n",
       " 'before',\n",
       " 'before',\n",
       " 'before',\n",
       " 'before',\n",
       " 'before',\n",
       " 'before',\n",
       " 'before',\n",
       " 'before',\n",
       " 'before',\n",
       " 'before',\n",
       " 'before',\n",
       " 'before',\n",
       " 'before',\n",
       " 'before',\n",
       " 'before',\n",
       " 'before',\n",
       " 'before',\n",
       " 'before',\n",
       " 'before',\n",
       " 'before',\n",
       " 'before',\n",
       " 'before',\n",
       " 'before',\n",
       " 'before',\n",
       " 'before',\n",
       " 'before',\n",
       " 'before',\n",
       " 'before',\n",
       " 'before',\n",
       " 'before',\n",
       " 'before',\n",
       " 'before',\n",
       " 'before',\n",
       " 'before',\n",
       " 'before',\n",
       " 'before',\n",
       " 'before',\n",
       " 'before',\n",
       " 'before',\n",
       " 'before',\n",
       " 'before',\n",
       " 'before',\n",
       " 'before',\n",
       " 'before',\n",
       " 'before',\n",
       " 'before',\n",
       " 'before',\n",
       " 'before',\n",
       " 'before',\n",
       " 'before',\n",
       " 'before',\n",
       " 'before',\n",
       " 'before',\n",
       " 'before',\n",
       " 'before',\n",
       " 'before',\n",
       " 'before',\n",
       " 'before',\n",
       " 'before',\n",
       " 'before',\n",
       " 'before',\n",
       " 'before',\n",
       " 'before',\n",
       " 'before',\n",
       " 'before',\n",
       " 'before',\n",
       " 'before',\n",
       " 'before',\n",
       " 'before',\n",
       " 'before',\n",
       " 'before',\n",
       " 'before',\n",
       " 'before',\n",
       " 'before',\n",
       " 'before',\n",
       " 'before',\n",
       " 'before',\n",
       " 'before',\n",
       " 'before',\n",
       " 'before',\n",
       " 'before',\n",
       " 'before',\n",
       " 'before',\n",
       " 'before',\n",
       " 'before',\n",
       " 'before',\n",
       " 'before',\n",
       " 'before',\n",
       " 'before',\n",
       " 'before',\n",
       " 'before',\n",
       " 'before',\n",
       " 'before',\n",
       " 'before',\n",
       " 'before',\n",
       " 'before',\n",
       " 'before',\n",
       " 'before',\n",
       " 'before',\n",
       " 'before',\n",
       " 'before',\n",
       " 'before',\n",
       " 'before',\n",
       " 'before',\n",
       " 'before',\n",
       " 'before',\n",
       " 'before',\n",
       " 'before',\n",
       " 'before',\n",
       " 'before',\n",
       " 'before',\n",
       " 'before',\n",
       " 'before',\n",
       " 'before',\n",
       " 'before',\n",
       " 'before',\n",
       " 'before',\n",
       " 'before',\n",
       " 'before',\n",
       " 'before',\n",
       " 'before',\n",
       " 'before',\n",
       " 'before',\n",
       " 'before',\n",
       " 'before',\n",
       " 'before',\n",
       " 'before',\n",
       " 'before',\n",
       " 'before',\n",
       " 'before',\n",
       " 'before',\n",
       " 'before',\n",
       " 'before',\n",
       " 'before',\n",
       " 'before',\n",
       " 'before',\n",
       " 'before',\n",
       " 'before',\n",
       " 'before',\n",
       " 'before',\n",
       " 'before',\n",
       " 'before',\n",
       " 'before',\n",
       " 'before',\n",
       " 'before',\n",
       " 'before',\n",
       " 'before',\n",
       " 'before',\n",
       " 'before',\n",
       " 'before',\n",
       " 'before',\n",
       " 'before',\n",
       " 'before',\n",
       " 'before',\n",
       " 'before',\n",
       " 'before',\n",
       " 'before',\n",
       " 'before',\n",
       " 'before',\n",
       " 'before',\n",
       " 'before',\n",
       " 'before',\n",
       " 'before',\n",
       " 'before',\n",
       " 'before',\n",
       " 'before',\n",
       " 'before',\n",
       " 'before',\n",
       " 'before',\n",
       " 'before',\n",
       " 'before',\n",
       " 'before',\n",
       " 'before',\n",
       " 'before',\n",
       " 'before',\n",
       " 'before',\n",
       " 'before',\n",
       " 'before',\n",
       " 'before',\n",
       " 'before',\n",
       " 'before',\n",
       " 'before',\n",
       " 'before',\n",
       " 'before',\n",
       " 'before',\n",
       " 'before',\n",
       " 'before',\n",
       " ...]"
      ]
     },
     "execution_count": 93,
     "metadata": {},
     "output_type": "execute_result"
    }
   ],
   "source": [
    "year_"
   ]
  },
  {
   "cell_type": "code",
   "execution_count": 94,
   "metadata": {},
   "outputs": [],
   "source": [
    "terror[\"when\"]=year_"
   ]
  },
  {
   "cell_type": "code",
   "execution_count": 183,
   "metadata": {},
   "outputs": [
    {
     "name": "stderr",
     "output_type": "stream",
     "text": [
      "/tmp/ipykernel_13280/3181397431.py:3: FutureWarning:\n",
      "\n",
      "The behavior of obj[i:j] with a float-dtype index is deprecated. In a future version, this will be treated as positional instead of label-based. For label-based slicing, use obj.loc[i:j] instead\n",
      "\n",
      "/tmp/ipykernel_13280/3181397431.py:4: FutureWarning:\n",
      "\n",
      "The behavior of obj[i:j] with a float-dtype index is deprecated. In a future version, this will be treated as positional instead of label-based. For label-based slicing, use obj.loc[i:j] instead\n",
      "\n"
     ]
    },
    {
     "data": {
      "text/plain": [
       "Index(['Armed Assault', 'Assassination', 'Hostage Taking (Kidnapping)',\n",
       "       'Facility/Infrastructure Attack', 'Unknown', 'Unarmed Assault',\n",
       "       'Hostage Taking (Barricade Incident)', 'Hijacking'],\n",
       "      dtype='object', name='AttackType')"
      ]
     },
     "execution_count": 183,
     "metadata": {},
     "output_type": "execute_result"
    }
   ],
   "source": [
    "attacktype_index=terror['AttackType'].value_counts()[1:15].index\n",
    "attacktype_values=terror['AttackType'].value_counts()[1:15].values\n",
    "Killed_index=terror['Killed'].value_counts()[1:15].index\n",
    "Killed_values=terror['Killed'].value_counts()[1:15].values\n",
    "attacktype_index"
   ]
  },
  {
   "cell_type": "code",
   "execution_count": 96,
   "metadata": {},
   "outputs": [
    {
     "data": {
      "text/plain": [
       "(array([42669, 19312, 11158, 10356,  7276,  1015,   991,   659]),\n",
       " Index(['Armed Assault', 'Assassination', 'Hostage Taking (Kidnapping)',\n",
       "        'Facility/Infrastructure Attack', 'Unknown', 'Unarmed Assault',\n",
       "        'Hostage Taking (Barricade Incident)', 'Hijacking'],\n",
       "       dtype='object', name='AttackType'),\n",
       " Index([1.0, 2.0, 3.0, 4.0, 5.0, 6.0, 7.0, 8.0, 10.0, 9.0, 11.0, 12.0, 13.0,\n",
       "        15.0],\n",
       "       dtype='float64', name='Killed'),\n",
       " array([36576, 14147,  7738,  4961,  3565,  2552,  1960,  1495,  1192,\n",
       "         1054,   833,   747,   575,   556]))"
      ]
     },
     "execution_count": 96,
     "metadata": {},
     "output_type": "execute_result"
    }
   ],
   "source": [
    "attacktype_values,attacktype_index,Killed_index,Killed_values"
   ]
  },
  {
   "cell_type": "code",
   "execution_count": 97,
   "metadata": {},
   "outputs": [
    {
     "data": {
      "image/png": "[encoded data removed]",
      "text/plain": [
       "<Figure size 1500x600 with 1 Axes>"
      ]
     },
     "metadata": {},
     "output_type": "display_data"
    }
   ],
   "source": [
    "plt.subplots(figsize=(15,6))\n",
    "sns.countplot(x='AttackType',data=terror,palette='inferno',hue=\"when\",order=terror['AttackType'].value_counts()[1:15].index)\n",
    "plt.xticks(rotation=90)\n",
    "plt.title('Attacking Methods by Terrorists ')\n",
    "plt.show()\n"
   ]
  },
  {
   "cell_type": "code",
   "execution_count": 98,
   "metadata": {},
   "outputs": [
    {
     "name": "stderr",
     "output_type": "stream",
     "text": [
      "/tmp/ipykernel_13280/3153694135.py:3: FutureWarning:\n",
      "\n",
      "The behavior of obj[i:j] with a float-dtype index is deprecated. In a future version, this will be treated as positional instead of label-based. For label-based slicing, use obj.loc[i:j] instead\n",
      "\n"
     ]
    },
    {
     "data": {
      "image/png": "[encoded data removed]",
      "text/plain": [
       "<Figure size 2400x1000 with 2 Axes>"
      ]
     },
     "metadata": {},
     "output_type": "display_data"
    }
   ],
   "source": [
    "f, ax=plt.subplots(1,2,figsize=(24,10))\n",
    "\n",
    "sns.countplot(y=\"Killed\",data=terror,palette='inferno',hue=\"when\",order=terror['Killed'].value_counts()[1:15].index,ax=ax[0])\n",
    "ax[0].set_title('Attacking Methods by Terrorists')\n",
    "sns.countplot(y='AttackType',data=terror,palette='inferno',hue=\"when\",order=terror['AttackType'].value_counts().index,ax=ax[1])\n",
    "ax[1].set_title('Attacking Methods by Terrorists')\n",
    "ax[1].tick_params(labelsize=9)\n",
    "plt.show()\n"
   ]
  },
  {
   "cell_type": "code",
   "execution_count": 99,
   "metadata": {},
   "outputs": [
    {
     "data": {
      "text/html": [
       "<div>\n",
       "<style scoped>\n",
       "    .dataframe tbody tr th:only-of-type {\n",
       "        vertical-align: middle;\n",
       "    }\n",
       "\n",
       "    .dataframe tbody tr th {\n",
       "        vertical-align: top;\n",
       "    }\n",
       "\n",
       "    .dataframe thead th {\n",
       "        text-align: right;\n",
       "    }\n",
       "</style>\n",
       "<table border=\"1\" class=\"dataframe\">\n",
       "  <thead>\n",
       "    <tr style=\"text-align: right;\">\n",
       "      <th></th>\n",
       "      <th>Year</th>\n",
       "      <th>Month</th>\n",
       "      <th>Day</th>\n",
       "      <th>Country</th>\n",
       "      <th>Region</th>\n",
       "      <th>city</th>\n",
       "      <th>latitude</th>\n",
       "      <th>longitude</th>\n",
       "      <th>AttackType</th>\n",
       "      <th>Killed</th>\n",
       "      <th>Wounded</th>\n",
       "      <th>Target</th>\n",
       "      <th>Summary</th>\n",
       "      <th>Group</th>\n",
       "      <th>Target_type</th>\n",
       "      <th>Weapon_type</th>\n",
       "      <th>Motive</th>\n",
       "      <th>casualities</th>\n",
       "      <th>when</th>\n",
       "    </tr>\n",
       "  </thead>\n",
       "  <tbody>\n",
       "    <tr>\n",
       "      <th>0</th>\n",
       "      <td>1970</td>\n",
       "      <td>7</td>\n",
       "      <td>2</td>\n",
       "      <td>Dominican Republic</td>\n",
       "      <td>Central America &amp; Caribbean</td>\n",
       "      <td>Santo Domingo</td>\n",
       "      <td>18.456792</td>\n",
       "      <td>-69.951164</td>\n",
       "      <td>Assassination</td>\n",
       "      <td>1.0</td>\n",
       "      <td>0.0</td>\n",
       "      <td>Julio Guzman</td>\n",
       "      <td>0</td>\n",
       "      <td>MANO-D</td>\n",
       "      <td>Private Citizens &amp; Property</td>\n",
       "      <td>Unknown</td>\n",
       "      <td>0</td>\n",
       "      <td>1.0</td>\n",
       "      <td>before</td>\n",
       "    </tr>\n",
       "    <tr>\n",
       "      <th>1</th>\n",
       "      <td>1970</td>\n",
       "      <td>0</td>\n",
       "      <td>0</td>\n",
       "      <td>Mexico</td>\n",
       "      <td>North America</td>\n",
       "      <td>Mexico city</td>\n",
       "      <td>19.371887</td>\n",
       "      <td>-99.086624</td>\n",
       "      <td>Hostage Taking (Kidnapping)</td>\n",
       "      <td>0.0</td>\n",
       "      <td>0.0</td>\n",
       "      <td>Nadine Chaval, daughter</td>\n",
       "      <td>0</td>\n",
       "      <td>23rd of September Communist League</td>\n",
       "      <td>Government (Diplomatic)</td>\n",
       "      <td>Unknown</td>\n",
       "      <td>0</td>\n",
       "      <td>0.0</td>\n",
       "      <td>before</td>\n",
       "    </tr>\n",
       "    <tr>\n",
       "      <th>2</th>\n",
       "      <td>1970</td>\n",
       "      <td>1</td>\n",
       "      <td>0</td>\n",
       "      <td>Philippines</td>\n",
       "      <td>Southeast Asia</td>\n",
       "      <td>Unknown</td>\n",
       "      <td>15.478598</td>\n",
       "      <td>120.599741</td>\n",
       "      <td>Assassination</td>\n",
       "      <td>1.0</td>\n",
       "      <td>0.0</td>\n",
       "      <td>Employee</td>\n",
       "      <td>0</td>\n",
       "      <td>Unknown</td>\n",
       "      <td>Journalists &amp; Media</td>\n",
       "      <td>Unknown</td>\n",
       "      <td>0</td>\n",
       "      <td>1.0</td>\n",
       "      <td>before</td>\n",
       "    </tr>\n",
       "    <tr>\n",
       "      <th>3</th>\n",
       "      <td>1970</td>\n",
       "      <td>1</td>\n",
       "      <td>0</td>\n",
       "      <td>Greece</td>\n",
       "      <td>Western Europe</td>\n",
       "      <td>Athens</td>\n",
       "      <td>37.997490</td>\n",
       "      <td>23.762728</td>\n",
       "      <td>Bombing/Explosion</td>\n",
       "      <td>0.0</td>\n",
       "      <td>0.0</td>\n",
       "      <td>U.S. Embassy</td>\n",
       "      <td>0</td>\n",
       "      <td>Unknown</td>\n",
       "      <td>Government (Diplomatic)</td>\n",
       "      <td>Explosives</td>\n",
       "      <td>0</td>\n",
       "      <td>0.0</td>\n",
       "      <td>before</td>\n",
       "    </tr>\n",
       "    <tr>\n",
       "      <th>4</th>\n",
       "      <td>1970</td>\n",
       "      <td>1</td>\n",
       "      <td>0</td>\n",
       "      <td>Japan</td>\n",
       "      <td>East Asia</td>\n",
       "      <td>Fukouka</td>\n",
       "      <td>33.580412</td>\n",
       "      <td>130.396361</td>\n",
       "      <td>Facility/Infrastructure Attack</td>\n",
       "      <td>0.0</td>\n",
       "      <td>0.0</td>\n",
       "      <td>U.S. Consulate</td>\n",
       "      <td>0</td>\n",
       "      <td>Unknown</td>\n",
       "      <td>Government (Diplomatic)</td>\n",
       "      <td>Incendiary</td>\n",
       "      <td>0</td>\n",
       "      <td>0.0</td>\n",
       "      <td>before</td>\n",
       "    </tr>\n",
       "  </tbody>\n",
       "</table>\n",
       "</div>"
      ],
      "text/plain": [
       "   Year  Month  Day             Country                       Region  \\\n",
       "0  1970      7    2  Dominican Republic  Central America & Caribbean   \n",
       "1  1970      0    0              Mexico                North America   \n",
       "2  1970      1    0         Philippines               Southeast Asia   \n",
       "3  1970      1    0              Greece               Western Europe   \n",
       "4  1970      1    0               Japan                    East Asia   \n",
       "\n",
       "            city   latitude   longitude                      AttackType  \\\n",
       "0  Santo Domingo  18.456792  -69.951164                   Assassination   \n",
       "1    Mexico city  19.371887  -99.086624     Hostage Taking (Kidnapping)   \n",
       "2        Unknown  15.478598  120.599741                   Assassination   \n",
       "3         Athens  37.997490   23.762728               Bombing/Explosion   \n",
       "4        Fukouka  33.580412  130.396361  Facility/Infrastructure Attack   \n",
       "\n",
       "   Killed  Wounded                   Target Summary  \\\n",
       "0     1.0      0.0             Julio Guzman       0   \n",
       "1     0.0      0.0  Nadine Chaval, daughter       0   \n",
       "2     1.0      0.0                 Employee       0   \n",
       "3     0.0      0.0             U.S. Embassy       0   \n",
       "4     0.0      0.0           U.S. Consulate       0   \n",
       "\n",
       "                                Group                  Target_type  \\\n",
       "0                              MANO-D  Private Citizens & Property   \n",
       "1  23rd of September Communist League      Government (Diplomatic)   \n",
       "2                             Unknown          Journalists & Media   \n",
       "3                             Unknown      Government (Diplomatic)   \n",
       "4                             Unknown      Government (Diplomatic)   \n",
       "\n",
       "  Weapon_type Motive  casualities    when  \n",
       "0     Unknown      0          1.0  before  \n",
       "1     Unknown      0          0.0  before  \n",
       "2     Unknown      0          1.0  before  \n",
       "3  Explosives      0          0.0  before  \n",
       "4  Incendiary      0          0.0  before  "
      ]
     },
     "execution_count": 99,
     "metadata": {},
     "output_type": "execute_result"
    }
   ],
   "source": [
    "terror.fillna(0, inplace=True)\n",
    "terror.head()"
   ]
  },
  {
   "cell_type": "code",
   "execution_count": 100,
   "metadata": {},
   "outputs": [],
   "source": [
    "terror_WesternEurope=terror[terror[\"Region\"]== \"Western Europe\"]\n",
    "terror_SouthAmerica=terror[terror[\"Region\"]== \"South America\"]\n",
    "terror_MiddleEastNorthAfrica=terror[terror[\"Region\"]== \"Middle East & North Africa\"]\n",
    "terror_SoutheastAsia=terror[terror[\"Region\"]== \"Southeast Asia\"]\n",
    "#Western Europe, South America, Middle East& North Africa, Southeast Asia"
   ]
  },
  {
   "cell_type": "code",
   "execution_count": 158,
   "metadata": {},
   "outputs": [],
   "source": [
    "\n",
    "e_year_list=list(terror_WesternEurope['Year'].unique())\n",
    "e_totalKilled=[]\n",
    "e_totalWounded = []\n",
    "am_year_list=list(terror_SouthAmerica['Year'].unique())\n",
    "am_totalKilled=[]\n",
    "am_totalWounded = []\n",
    "af_year_list=list(terror_MiddleEastNorthAfrica['Year'].unique())\n",
    "af_totalKilled=[]\n",
    "af_totalWounded = []\n",
    "as_year_list=list(terror_SoutheastAsia['Year'].unique())\n",
    "as_totalKilled=[]\n",
    "as_totalWounded = []\n"
   ]
  },
  {
   "cell_type": "code",
   "execution_count": 159,
   "metadata": {},
   "outputs": [],
   "source": [
    "for i in e_year_list:\n",
    "    x = terror_WesternEurope[terror_WesternEurope['Year'] == i]\n",
    "    e_TotalKilled = x.Killed.sum()    \n",
    "    e_totalKilled.append(e_TotalKilled)    \n",
    "    e_TotalWounded = x.Wounded.sum()    \n",
    "    e_totalWounded.append(e_TotalWounded)\n",
    "for i in am_year_list:\n",
    "    x = terror_SouthAmerica[terror_SouthAmerica['Year'] == i]\n",
    "    am_TotalKilled = x.Killed.sum()    \n",
    "    am_totalKilled.append(am_TotalKilled)    \n",
    "    am_TotalWounded = x.Wounded.sum()    \n",
    "    am_totalWounded.append(am_TotalWounded)\n",
    "for i in af_year_list:\n",
    "    x = terror_MiddleEastNorthAfrica[terror_MiddleEastNorthAfrica['Year'] == i]\n",
    "    af_TotalKilled = x.Killed.sum()    \n",
    "    af_totalKilled.append(af_TotalKilled)    \n",
    "    af_TotalWounded = x.Wounded.sum()    \n",
    "    af_totalWounded.append(af_TotalWounded)\n",
    "for i in as_year_list:\n",
    "    x = terror_SoutheastAsia[terror_SoutheastAsia['Year'] == i]\n",
    "    as_TotalKilled = x.Killed.sum()    \n",
    "    as_totalKilled.append(as_TotalKilled)    \n",
    "    as_TotalWounded = x.Wounded.sum()    \n",
    "    as_totalWounded.append(as_TotalWounded)\n",
    "    \n",
    "\n",
    "\n"
   ]
  },
  {
   "cell_type": "code",
   "execution_count": 160,
   "metadata": {},
   "outputs": [
    {
     "data": {
      "text/html": [
       "<div>\n",
       "<style scoped>\n",
       "    .dataframe tbody tr th:only-of-type {\n",
       "        vertical-align: middle;\n",
       "    }\n",
       "\n",
       "    .dataframe tbody tr th {\n",
       "        vertical-align: top;\n",
       "    }\n",
       "\n",
       "    .dataframe thead th {\n",
       "        text-align: right;\n",
       "    }\n",
       "</style>\n",
       "<table border=\"1\" class=\"dataframe\">\n",
       "  <thead>\n",
       "    <tr style=\"text-align: right;\">\n",
       "      <th></th>\n",
       "      <th>year</th>\n",
       "      <th>killed</th>\n",
       "      <th>wounded</th>\n",
       "    </tr>\n",
       "  </thead>\n",
       "  <tbody>\n",
       "    <tr>\n",
       "      <th>0</th>\n",
       "      <td>1970</td>\n",
       "      <td>41.0</td>\n",
       "      <td>13.0</td>\n",
       "    </tr>\n",
       "    <tr>\n",
       "      <th>1</th>\n",
       "      <td>1971</td>\n",
       "      <td>2.0</td>\n",
       "      <td>10.0</td>\n",
       "    </tr>\n",
       "    <tr>\n",
       "      <th>2</th>\n",
       "      <td>1972</td>\n",
       "      <td>84.0</td>\n",
       "      <td>1.0</td>\n",
       "    </tr>\n",
       "    <tr>\n",
       "      <th>3</th>\n",
       "      <td>1973</td>\n",
       "      <td>0.0</td>\n",
       "      <td>8.0</td>\n",
       "    </tr>\n",
       "    <tr>\n",
       "      <th>4</th>\n",
       "      <td>1974</td>\n",
       "      <td>5.0</td>\n",
       "      <td>0.0</td>\n",
       "    </tr>\n",
       "  </tbody>\n",
       "</table>\n",
       "</div>"
      ],
      "text/plain": [
       "   year  killed  wounded\n",
       "0  1970    41.0     13.0\n",
       "1  1971     2.0     10.0\n",
       "2  1972    84.0      1.0\n",
       "3  1973     0.0      8.0\n",
       "4  1974     5.0      0.0"
      ]
     },
     "execution_count": 160,
     "metadata": {},
     "output_type": "execute_result"
    }
   ],
   "source": [
    "WesternEurope_killed_wounded = pd.DataFrame({'year': e_year_list, 'killed': e_totalKilled, 'wounded':e_totalWounded})\n",
    "WesternEurope_killed_wounded.sort_values(by='year',inplace=True)\n",
    "SouthAmerica_killed_wounded = pd.DataFrame({'year': am_year_list, 'killed': am_totalKilled, 'wounded':am_totalWounded})\n",
    "SouthAmerica_killed_wounded.sort_values(by='year',inplace=True)\n",
    "MiddleEastNorthAfrica_killed_wounded = pd.DataFrame({'year': af_year_list, 'killed': af_totalKilled, 'wounded':af_totalWounded})\n",
    "MiddleEastNorthAfrica_killed_wounded.sort_values(by='year',inplace=True)\n",
    "SoutheastAsia_killed_wounded = pd.DataFrame({'year': as_year_list, 'killed': as_totalKilled, 'wounded':as_totalWounded})\n",
    "SoutheastAsia_killed_wounded.sort_values(by='year',inplace=True)\n",
    "SoutheastAsia_killed_wounded.head()\n"
   ]
  },
  {
   "cell_type": "code",
   "execution_count": 161,
   "metadata": {},
   "outputs": [
    {
     "data": {
      "text/html": [
       "<div>\n",
       "<style scoped>\n",
       "    .dataframe tbody tr th:only-of-type {\n",
       "        vertical-align: middle;\n",
       "    }\n",
       "\n",
       "    .dataframe tbody tr th {\n",
       "        vertical-align: top;\n",
       "    }\n",
       "\n",
       "    .dataframe thead th {\n",
       "        text-align: right;\n",
       "    }\n",
       "</style>\n",
       "<table border=\"1\" class=\"dataframe\">\n",
       "  <thead>\n",
       "    <tr style=\"text-align: right;\">\n",
       "      <th></th>\n",
       "      <th>year</th>\n",
       "      <th>killed</th>\n",
       "      <th>wounded</th>\n",
       "    </tr>\n",
       "  </thead>\n",
       "  <tbody>\n",
       "    <tr>\n",
       "      <th>0</th>\n",
       "      <td>1970</td>\n",
       "      <td>11.0</td>\n",
       "      <td>4.0</td>\n",
       "    </tr>\n",
       "    <tr>\n",
       "      <th>1</th>\n",
       "      <td>1971</td>\n",
       "      <td>6.0</td>\n",
       "      <td>0.0</td>\n",
       "    </tr>\n",
       "    <tr>\n",
       "      <th>2</th>\n",
       "      <td>1972</td>\n",
       "      <td>6.0</td>\n",
       "      <td>1.0</td>\n",
       "    </tr>\n",
       "    <tr>\n",
       "      <th>3</th>\n",
       "      <td>1973</td>\n",
       "      <td>16.0</td>\n",
       "      <td>19.0</td>\n",
       "    </tr>\n",
       "    <tr>\n",
       "      <th>4</th>\n",
       "      <td>1974</td>\n",
       "      <td>21.0</td>\n",
       "      <td>29.0</td>\n",
       "    </tr>\n",
       "  </tbody>\n",
       "</table>\n",
       "</div>"
      ],
      "text/plain": [
       "   year  killed  wounded\n",
       "0  1970    11.0      4.0\n",
       "1  1971     6.0      0.0\n",
       "2  1972     6.0      1.0\n",
       "3  1973    16.0     19.0\n",
       "4  1974    21.0     29.0"
      ]
     },
     "execution_count": 161,
     "metadata": {},
     "output_type": "execute_result"
    }
   ],
   "source": [
    "WesternEurope_killed_wounded.fillna(0.0, inplace=True)\n",
    "SouthAmerica_killed_wounded.fillna(0.0, inplace=True)\n",
    "MiddleEastNorthAfrica_killed_wounded.fillna(0.0, inplace=True)\n",
    "SoutheastAsia_killed_wounded.fillna(0.0, inplace=True)\n",
    "SouthAmerica_killed_wounded.head()\n"
   ]
  },
  {
   "cell_type": "code",
   "execution_count": 173,
   "metadata": {},
   "outputs": [
    {
     "data": {
      "application/vnd.plotly.v1+json": {
       "config": {
        "linkText": "Export to plot.ly",
        "plotlyServerURL": "https://plot.ly",
        "showLink": false
       },
       "data": [
        {
         "marker": {
          "color": "rgba(244,67,54, 0.8)"
         },
         "mode": "lines",
         "name": "Killed(W Europe)",
         "text": [
          79,
          112,
          405,
          295,
          408,
          299,
          323,
          195,
          231,
          301,
          390,
          177,
          178,
          163,
          175,
          261,
          165,
          194,
          437,
          119,
          120,
          170,
          179,
          105,
          68,
          43,
          40,
          54,
          12,
          42,
          40,
          9,
          5,
          196,
          60,
          6,
          17,
          3,
          15,
          5,
          83,
          11,
          7,
          5,
          171,
          238,
          83
         ],
         "type": "scatter",
         "x": [
          1970,
          1971,
          1972,
          1973,
          1974,
          1975,
          1976,
          1977,
          1978,
          1979,
          1980,
          1981,
          1982,
          1983,
          1984,
          1985,
          1986,
          1987,
          1988,
          1989,
          1990,
          1991,
          1992,
          1994,
          1995,
          1996,
          1997,
          1998,
          1999,
          2000,
          2001,
          2002,
          2003,
          2004,
          2005,
          2006,
          2007,
          2008,
          2009,
          2010,
          2011,
          2012,
          2013,
          2014,
          2015,
          2016,
          2017
         ],
         "y": [
          79,
          112,
          405,
          295,
          408,
          299,
          323,
          195,
          231,
          301,
          390,
          177,
          178,
          163,
          175,
          261,
          165,
          194,
          437,
          119,
          120,
          170,
          179,
          105,
          68,
          43,
          40,
          54,
          12,
          42,
          40,
          9,
          5,
          196,
          60,
          6,
          17,
          3,
          15,
          5,
          83,
          11,
          7,
          5,
          171,
          238,
          83
         ]
        },
        {
         "marker": {
          "color": "rgba(255,185,185, 0.8)"
         },
         "mode": "lines",
         "name": "Wounded(W Europe)",
         "text": [
          10,
          6,
          282,
          407,
          601,
          195,
          120,
          201,
          334,
          689,
          883,
          590,
          459,
          488,
          611,
          985,
          846,
          431,
          590,
          234,
          292,
          473,
          838,
          365,
          322,
          589,
          95,
          283,
          221,
          155,
          259,
          94,
          130,
          1853,
          942,
          31,
          44,
          76,
          104,
          42,
          96,
          15,
          85,
          31,
          526,
          900,
          509
         ],
         "type": "scatter",
         "x": [
          1970,
          1971,
          1972,
          1973,
          1974,
          1975,
          1976,
          1977,
          1978,
          1979,
          1980,
          1981,
          1982,
          1983,
          1984,
          1985,
          1986,
          1987,
          1988,
          1989,
          1990,
          1991,
          1992,
          1994,
          1995,
          1996,
          1997,
          1998,
          1999,
          2000,
          2001,
          2002,
          2003,
          2004,
          2005,
          2006,
          2007,
          2008,
          2009,
          2010,
          2011,
          2012,
          2013,
          2014,
          2015,
          2016,
          2017
         ],
         "y": [
          10,
          6,
          282,
          407,
          601,
          195,
          120,
          201,
          334,
          689,
          883,
          590,
          459,
          488,
          611,
          985,
          846,
          431,
          590,
          234,
          292,
          473,
          838,
          365,
          322,
          589,
          95,
          283,
          221,
          155,
          259,
          94,
          130,
          1853,
          942,
          31,
          44,
          76,
          104,
          42,
          96,
          15,
          85,
          31,
          526,
          900,
          509
         ]
        },
        {
         "marker": {
          "color": "rgba(255,152,0, 0.8)"
         },
         "mode": "lines",
         "name": "Killed(S America)",
         "text": [
          11,
          6,
          6,
          16,
          21,
          130,
          134,
          47,
          93,
          183,
          206,
          402,
          672,
          2279,
          2995,
          1700,
          1351,
          1450,
          2024,
          2339,
          1861,
          2238,
          1536,
          406,
          650,
          725,
          1317,
          599,
          293,
          430,
          593,
          369,
          191,
          89,
          152,
          93,
          83,
          109,
          136,
          58,
          43,
          180,
          160,
          157,
          128,
          87,
          101
         ],
         "type": "scatter",
         "x": [
          1970,
          1971,
          1972,
          1973,
          1974,
          1975,
          1976,
          1977,
          1978,
          1979,
          1980,
          1981,
          1982,
          1983,
          1984,
          1985,
          1986,
          1987,
          1988,
          1989,
          1990,
          1991,
          1992,
          1994,
          1995,
          1996,
          1997,
          1998,
          1999,
          2000,
          2001,
          2002,
          2003,
          2004,
          2005,
          2006,
          2007,
          2008,
          2009,
          2010,
          2011,
          2012,
          2013,
          2014,
          2015,
          2016,
          2017
         ],
         "y": [
          11,
          6,
          6,
          16,
          21,
          130,
          134,
          47,
          93,
          183,
          206,
          402,
          672,
          2279,
          2995,
          1700,
          1351,
          1450,
          2024,
          2339,
          1861,
          2238,
          1536,
          406,
          650,
          725,
          1317,
          599,
          293,
          430,
          593,
          369,
          191,
          89,
          152,
          93,
          83,
          109,
          136,
          58,
          43,
          180,
          160,
          157,
          128,
          87,
          101
         ]
        },
        {
         "marker": {
          "color": "rgba(255,219,179, 0.8)"
         },
         "mode": "lines",
         "name": "Wounded(S America)",
         "text": [
          4,
          0,
          1,
          19,
          29,
          16,
          106,
          42,
          51,
          77,
          123,
          76,
          186,
          383,
          984,
          652,
          522,
          718,
          782,
          895,
          1069,
          896,
          1497,
          495,
          472,
          582,
          756,
          191,
          250,
          191,
          446,
          690,
          575,
          218,
          108,
          106,
          163,
          253,
          244,
          149,
          90,
          470,
          292,
          355,
          145,
          179,
          156
         ],
         "type": "scatter",
         "x": [
          1970,
          1971,
          1972,
          1973,
          1974,
          1975,
          1976,
          1977,
          1978,
          1979,
          1980,
          1981,
          1982,
          1983,
          1984,
          1985,
          1986,
          1987,
          1988,
          1989,
          1990,
          1991,
          1992,
          1994,
          1995,
          1996,
          1997,
          1998,
          1999,
          2000,
          2001,
          2002,
          2003,
          2004,
          2005,
          2006,
          2007,
          2008,
          2009,
          2010,
          2011,
          2012,
          2013,
          2014,
          2015,
          2016,
          2017
         ],
         "y": [
          4,
          0,
          1,
          19,
          29,
          16,
          106,
          42,
          51,
          77,
          123,
          76,
          186,
          383,
          984,
          652,
          522,
          718,
          782,
          895,
          1069,
          896,
          1497,
          495,
          472,
          582,
          756,
          191,
          250,
          191,
          446,
          690,
          575,
          218,
          108,
          106,
          163,
          253,
          244,
          149,
          90,
          470,
          292,
          355,
          145,
          179,
          156
         ]
        },
        {
         "marker": {
          "color": "rgba(139,195,74, 0.8)"
         },
         "mode": "lines",
         "name": "Killed(MEN Africa)",
         "text": [
          1,
          7,
          33,
          7,
          81,
          60,
          45,
          43,
          671,
          366,
          442,
          772,
          587,
          756,
          149,
          723,
          409,
          581,
          365,
          480,
          778,
          544,
          1879,
          2065,
          1020,
          961,
          4691,
          1079,
          672,
          624,
          907,
          1175,
          1063,
          2558,
          3918,
          5032,
          7180,
          3467,
          2982,
          2663,
          2651,
          5033,
          10164,
          20080,
          17854,
          19205,
          10819
         ],
         "type": "scatter",
         "x": [
          1970,
          1971,
          1972,
          1973,
          1974,
          1975,
          1976,
          1977,
          1978,
          1979,
          1980,
          1981,
          1982,
          1983,
          1984,
          1985,
          1986,
          1987,
          1988,
          1989,
          1990,
          1991,
          1992,
          1994,
          1995,
          1996,
          1997,
          1998,
          1999,
          2000,
          2001,
          2002,
          2003,
          2004,
          2005,
          2006,
          2007,
          2008,
          2009,
          2010,
          2011,
          2012,
          2013,
          2014,
          2015,
          2016,
          2017
         ],
         "y": [
          1,
          7,
          33,
          7,
          81,
          60,
          45,
          43,
          671,
          366,
          442,
          772,
          587,
          756,
          149,
          723,
          409,
          581,
          365,
          480,
          778,
          544,
          1879,
          2065,
          1020,
          961,
          4691,
          1079,
          672,
          624,
          907,
          1175,
          1063,
          2558,
          3918,
          5032,
          7180,
          3467,
          2982,
          2663,
          2651,
          5033,
          10164,
          20080,
          17854,
          19205,
          10819
         ]
        },
        {
         "marker": {
          "color": "rgba(225,255,219, 0.8)"
         },
         "mode": "lines",
         "name": "Wounded(MEN Africa)",
         "text": [
          5,
          11,
          83,
          18,
          168,
          92,
          388,
          115,
          641,
          953,
          1019,
          1425,
          1738,
          1145,
          763,
          1684,
          1401,
          516,
          807,
          564,
          670,
          892,
          1468,
          1982,
          2205,
          2085,
          2582,
          1291,
          877,
          586,
          1424,
          2157,
          3252,
          5267,
          7220,
          9198,
          14709,
          8545,
          9862,
          7871,
          6089,
          10861,
          21496,
          22601,
          23757,
          23433,
          8392
         ],
         "type": "scatter",
         "x": [
          1970,
          1971,
          1972,
          1973,
          1974,
          1975,
          1976,
          1977,
          1978,
          1979,
          1980,
          1981,
          1982,
          1983,
          1984,
          1985,
          1986,
          1987,
          1988,
          1989,
          1990,
          1991,
          1992,
          1994,
          1995,
          1996,
          1997,
          1998,
          1999,
          2000,
          2001,
          2002,
          2003,
          2004,
          2005,
          2006,
          2007,
          2008,
          2009,
          2010,
          2011,
          2012,
          2013,
          2014,
          2015,
          2016,
          2017
         ],
         "y": [
          5,
          11,
          83,
          18,
          168,
          92,
          388,
          115,
          641,
          953,
          1019,
          1425,
          1738,
          1145,
          763,
          1684,
          1401,
          516,
          807,
          564,
          670,
          892,
          1468,
          1982,
          2205,
          2085,
          2582,
          1291,
          877,
          586,
          1424,
          2157,
          3252,
          5267,
          7220,
          9198,
          14709,
          8545,
          9862,
          7871,
          6089,
          10861,
          21496,
          22601,
          23757,
          23433,
          8392
         ]
        },
        {
         "marker": {
          "color": "rgba(0,212,206, 0.8)"
         },
         "mode": "lines",
         "name": "Killed(SE Asia)",
         "text": [
          41,
          2,
          84,
          0,
          5,
          1,
          47,
          102,
          158,
          260,
          244,
          201,
          143,
          122,
          264,
          459,
          342,
          404,
          662,
          606,
          562,
          574,
          673,
          390,
          312,
          270,
          335,
          54,
          123,
          459,
          311,
          396,
          354,
          281,
          266,
          260,
          390,
          403,
          482,
          322,
          299,
          453,
          723,
          702,
          646,
          639,
          811
         ],
         "type": "scatter",
         "x": [
          1970,
          1971,
          1972,
          1973,
          1974,
          1975,
          1976,
          1977,
          1978,
          1979,
          1980,
          1981,
          1982,
          1983,
          1984,
          1985,
          1986,
          1987,
          1988,
          1989,
          1990,
          1991,
          1992,
          1994,
          1995,
          1996,
          1997,
          1998,
          1999,
          2000,
          2001,
          2002,
          2003,
          2004,
          2005,
          2006,
          2007,
          2008,
          2009,
          2010,
          2011,
          2012,
          2013,
          2014,
          2015,
          2016,
          2017
         ],
         "y": [
          41,
          2,
          84,
          0,
          5,
          1,
          47,
          102,
          158,
          260,
          244,
          201,
          143,
          122,
          264,
          459,
          342,
          404,
          662,
          606,
          562,
          574,
          673,
          390,
          312,
          270,
          335,
          54,
          123,
          459,
          311,
          396,
          354,
          281,
          266,
          260,
          390,
          403,
          482,
          322,
          299,
          453,
          723,
          702,
          646,
          639,
          811
         ]
        },
        {
         "marker": {
          "color": "rgba(204,249,255, 0.8)"
         },
         "mode": "lines",
         "name": "Wounded(SE Asia)",
         "text": [
          13,
          10,
          1,
          8,
          0,
          48,
          73,
          72,
          219,
          300,
          719,
          424,
          270,
          80,
          128,
          391,
          414,
          485,
          507,
          479,
          448,
          429,
          768,
          378,
          310,
          511,
          690,
          137,
          305,
          1054,
          538,
          956,
          759,
          551,
          846,
          582,
          1057,
          1060,
          892,
          634,
          730,
          1526,
          1392,
          1451,
          1386,
          1220,
          1008
         ],
         "type": "scatter",
         "x": [
          1970,
          1971,
          1972,
          1973,
          1974,
          1975,
          1976,
          1977,
          1978,
          1979,
          1980,
          1981,
          1982,
          1983,
          1984,
          1985,
          1986,
          1987,
          1988,
          1989,
          1990,
          1991,
          1992,
          1994,
          1995,
          1996,
          1997,
          1998,
          1999,
          2000,
          2001,
          2002,
          2003,
          2004,
          2005,
          2006,
          2007,
          2008,
          2009,
          2010,
          2011,
          2012,
          2013,
          2014,
          2015,
          2016,
          2017
         ],
         "y": [
          13,
          10,
          1,
          8,
          0,
          48,
          73,
          72,
          219,
          300,
          719,
          424,
          270,
          80,
          128,
          391,
          414,
          485,
          507,
          479,
          448,
          429,
          768,
          378,
          310,
          511,
          690,
          137,
          305,
          1054,
          538,
          956,
          759,
          551,
          846,
          582,
          1057,
          1060,
          892,
          634,
          730,
          1526,
          1392,
          1451,
          1386,
          1220,
          1008
         ]
        }
       ],
       "layout": {
        "height": 1000,
        "template": {
         "data": {
          "bar": [
           {
            "error_x": {
             "color": "#2a3f5f"
            },
            "error_y": {
             "color": "#2a3f5f"
            },
            "marker": {
             "line": {
              "color": "#E5ECF6",
              "width": 0.5
             },
             "pattern": {
              "fillmode": "overlay",
              "size": 10,
              "solidity": 0.2
             }
            },
            "type": "bar"
           }
          ],
          "barpolar": [
           {
            "marker": {
             "line": {
              "color": "#E5ECF6",
              "width": 0.5
             },
             "pattern": {
              "fillmode": "overlay",
              "size": 10,
              "solidity": 0.2
             }
            },
            "type": "barpolar"
           }
          ],
          "carpet": [
           {
            "aaxis": {
             "endlinecolor": "#2a3f5f",
             "gridcolor": "white",
             "linecolor": "white",
             "minorgridcolor": "white",
             "startlinecolor": "#2a3f5f"
            },
            "baxis": {
             "endlinecolor": "#2a3f5f",
             "gridcolor": "white",
             "linecolor": "white",
             "minorgridcolor": "white",
             "startlinecolor": "#2a3f5f"
            },
            "type": "carpet"
           }
          ],
          "choropleth": [
           {
            "colorbar": {
             "outlinewidth": 0,
             "ticks": ""
            },
            "type": "choropleth"
           }
          ],
          "contour": [
           {
            "colorbar": {
             "outlinewidth": 0,
             "ticks": ""
            },
            "colorscale": [
             [
              0,
              "#0d0887"
             ],
             [
              0.1111111111111111,
              "#46039f"
             ],
             [
              0.2222222222222222,
              "#7201a8"
             ],
             [
              0.3333333333333333,
              "#9c179e"
             ],
             [
              0.4444444444444444,
              "#bd3786"
             ],
             [
              0.5555555555555556,
              "#d8576b"
             ],
             [
              0.6666666666666666,
              "#ed7953"
             ],
             [
              0.7777777777777778,
              "#fb9f3a"
             ],
             [
              0.8888888888888888,
              "#fdca26"
             ],
             [
              1,
              "#f0f921"
             ]
            ],
            "type": "contour"
           }
          ],
          "contourcarpet": [
           {
            "colorbar": {
             "outlinewidth": 0,
             "ticks": ""
            },
            "type": "contourcarpet"
           }
          ],
          "heatmap": [
           {
            "colorbar": {
             "outlinewidth": 0,
             "ticks": ""
            },
            "colorscale": [
             [
              0,
              "#0d0887"
             ],
             [
              0.1111111111111111,
              "#46039f"
             ],
             [
              0.2222222222222222,
              "#7201a8"
             ],
             [
              0.3333333333333333,
              "#9c179e"
             ],
             [
              0.4444444444444444,
              "#bd3786"
             ],
             [
              0.5555555555555556,
              "#d8576b"
             ],
             [
              0.6666666666666666,
              "#ed7953"
             ],
             [
              0.7777777777777778,
              "#fb9f3a"
             ],
             [
              0.8888888888888888,
              "#fdca26"
             ],
             [
              1,
              "#f0f921"
             ]
            ],
            "type": "heatmap"
           }
          ],
          "heatmapgl": [
           {
            "colorbar": {
             "outlinewidth": 0,
             "ticks": ""
            },
            "colorscale": [
             [
              0,
              "#0d0887"
             ],
             [
              0.1111111111111111,
              "#46039f"
             ],
             [
              0.2222222222222222,
              "#7201a8"
             ],
             [
              0.3333333333333333,
              "#9c179e"
             ],
             [
              0.4444444444444444,
              "#bd3786"
             ],
             [
              0.5555555555555556,
              "#d8576b"
             ],
             [
              0.6666666666666666,
              "#ed7953"
             ],
             [
              0.7777777777777778,
              "#fb9f3a"
             ],
             [
              0.8888888888888888,
              "#fdca26"
             ],
             [
              1,
              "#f0f921"
             ]
            ],
            "type": "heatmapgl"
           }
          ],
          "histogram": [
           {
            "marker": {
             "pattern": {
              "fillmode": "overlay",
              "size": 10,
              "solidity": 0.2
             }
            },
            "type": "histogram"
           }
          ],
          "histogram2d": [
           {
            "colorbar": {
             "outlinewidth": 0,
             "ticks": ""
            },
            "colorscale": [
             [
              0,
              "#0d0887"
             ],
             [
              0.1111111111111111,
              "#46039f"
             ],
             [
              0.2222222222222222,
              "#7201a8"
             ],
             [
              0.3333333333333333,
              "#9c179e"
             ],
             [
              0.4444444444444444,
              "#bd3786"
             ],
             [
              0.5555555555555556,
              "#d8576b"
             ],
             [
              0.6666666666666666,
              "#ed7953"
             ],
             [
              0.7777777777777778,
              "#fb9f3a"
             ],
             [
              0.8888888888888888,
              "#fdca26"
             ],
             [
              1,
              "#f0f921"
             ]
            ],
            "type": "histogram2d"
           }
          ],
          "histogram2dcontour": [
           {
            "colorbar": {
             "outlinewidth": 0,
             "ticks": ""
            },
            "colorscale": [
             [
              0,
              "#0d0887"
             ],
             [
              0.1111111111111111,
              "#46039f"
             ],
             [
              0.2222222222222222,
              "#7201a8"
             ],
             [
              0.3333333333333333,
              "#9c179e"
             ],
             [
              0.4444444444444444,
              "#bd3786"
             ],
             [
              0.5555555555555556,
              "#d8576b"
             ],
             [
              0.6666666666666666,
              "#ed7953"
             ],
             [
              0.7777777777777778,
              "#fb9f3a"
             ],
             [
              0.8888888888888888,
              "#fdca26"
             ],
             [
              1,
              "#f0f921"
             ]
            ],
            "type": "histogram2dcontour"
           }
          ],
          "mesh3d": [
           {
            "colorbar": {
             "outlinewidth": 0,
             "ticks": ""
            },
            "type": "mesh3d"
           }
          ],
          "parcoords": [
           {
            "line": {
             "colorbar": {
              "outlinewidth": 0,
              "ticks": ""
             }
            },
            "type": "parcoords"
           }
          ],
          "pie": [
           {
            "automargin": true,
            "type": "pie"
           }
          ],
          "scatter": [
           {
            "fillpattern": {
             "fillmode": "overlay",
             "size": 10,
             "solidity": 0.2
            },
            "type": "scatter"
           }
          ],
          "scatter3d": [
           {
            "line": {
             "colorbar": {
              "outlinewidth": 0,
              "ticks": ""
             }
            },
            "marker": {
             "colorbar": {
              "outlinewidth": 0,
              "ticks": ""
             }
            },
            "type": "scatter3d"
           }
          ],
          "scattercarpet": [
           {
            "marker": {
             "colorbar": {
              "outlinewidth": 0,
              "ticks": ""
             }
            },
            "type": "scattercarpet"
           }
          ],
          "scattergeo": [
           {
            "marker": {
             "colorbar": {
              "outlinewidth": 0,
              "ticks": ""
             }
            },
            "type": "scattergeo"
           }
          ],
          "scattergl": [
           {
            "marker": {
             "colorbar": {
              "outlinewidth": 0,
              "ticks": ""
             }
            },
            "type": "scattergl"
           }
          ],
          "scattermapbox": [
           {
            "marker": {
             "colorbar": {
              "outlinewidth": 0,
              "ticks": ""
             }
            },
            "type": "scattermapbox"
           }
          ],
          "scatterpolar": [
           {
            "marker": {
             "colorbar": {
              "outlinewidth": 0,
              "ticks": ""
             }
            },
            "type": "scatterpolar"
           }
          ],
          "scatterpolargl": [
           {
            "marker": {
             "colorbar": {
              "outlinewidth": 0,
              "ticks": ""
             }
            },
            "type": "scatterpolargl"
           }
          ],
          "scatterternary": [
           {
            "marker": {
             "colorbar": {
              "outlinewidth": 0,
              "ticks": ""
             }
            },
            "type": "scatterternary"
           }
          ],
          "surface": [
           {
            "colorbar": {
             "outlinewidth": 0,
             "ticks": ""
            },
            "colorscale": [
             [
              0,
              "#0d0887"
             ],
             [
              0.1111111111111111,
              "#46039f"
             ],
             [
              0.2222222222222222,
              "#7201a8"
             ],
             [
              0.3333333333333333,
              "#9c179e"
             ],
             [
              0.4444444444444444,
              "#bd3786"
             ],
             [
              0.5555555555555556,
              "#d8576b"
             ],
             [
              0.6666666666666666,
              "#ed7953"
             ],
             [
              0.7777777777777778,
              "#fb9f3a"
             ],
             [
              0.8888888888888888,
              "#fdca26"
             ],
             [
              1,
              "#f0f921"
             ]
            ],
            "type": "surface"
           }
          ],
          "table": [
           {
            "cells": {
             "fill": {
              "color": "#EBF0F8"
             },
             "line": {
              "color": "white"
             }
            },
            "header": {
             "fill": {
              "color": "#C8D4E3"
             },
             "line": {
              "color": "white"
             }
            },
            "type": "table"
           }
          ]
         },
         "layout": {
          "annotationdefaults": {
           "arrowcolor": "#2a3f5f",
           "arrowhead": 0,
           "arrowwidth": 1
          },
          "autotypenumbers": "strict",
          "coloraxis": {
           "colorbar": {
            "outlinewidth": 0,
            "ticks": ""
           }
          },
          "colorscale": {
           "diverging": [
            [
             0,
             "#8e0152"
            ],
            [
             0.1,
             "#c51b7d"
            ],
            [
             0.2,
             "#de77ae"
            ],
            [
             0.3,
             "#f1b6da"
            ],
            [
             0.4,
             "#fde0ef"
            ],
            [
             0.5,
             "#f7f7f7"
            ],
            [
             0.6,
             "#e6f5d0"
            ],
            [
             0.7,
             "#b8e186"
            ],
            [
             0.8,
             "#7fbc41"
            ],
            [
             0.9,
             "#4d9221"
            ],
            [
             1,
             "#276419"
            ]
           ],
           "sequential": [
            [
             0,
             "#0d0887"
            ],
            [
             0.1111111111111111,
             "#46039f"
            ],
            [
             0.2222222222222222,
             "#7201a8"
            ],
            [
             0.3333333333333333,
             "#9c179e"
            ],
            [
             0.4444444444444444,
             "#bd3786"
            ],
            [
             0.5555555555555556,
             "#d8576b"
            ],
            [
             0.6666666666666666,
             "#ed7953"
            ],
            [
             0.7777777777777778,
             "#fb9f3a"
            ],
            [
             0.8888888888888888,
             "#fdca26"
            ],
            [
             1,
             "#f0f921"
            ]
           ],
           "sequentialminus": [
            [
             0,
             "#0d0887"
            ],
            [
             0.1111111111111111,
             "#46039f"
            ],
            [
             0.2222222222222222,
             "#7201a8"
            ],
            [
             0.3333333333333333,
             "#9c179e"
            ],
            [
             0.4444444444444444,
             "#bd3786"
            ],
            [
             0.5555555555555556,
             "#d8576b"
            ],
            [
             0.6666666666666666,
             "#ed7953"
            ],
            [
             0.7777777777777778,
             "#fb9f3a"
            ],
            [
             0.8888888888888888,
             "#fdca26"
            ],
            [
             1,
             "#f0f921"
            ]
           ]
          },
          "colorway": [
           "#636efa",
           "#EF553B",
           "#00cc96",
           "#ab63fa",
           "#FFA15A",
           "#19d3f3",
           "#FF6692",
           "#B6E880",
           "#FF97FF",
           "#FECB52"
          ],
          "font": {
           "color": "#2a3f5f"
          },
          "geo": {
           "bgcolor": "white",
           "lakecolor": "white",
           "landcolor": "#E5ECF6",
           "showlakes": true,
           "showland": true,
           "subunitcolor": "white"
          },
          "hoverlabel": {
           "align": "left"
          },
          "hovermode": "closest",
          "mapbox": {
           "style": "light"
          },
          "paper_bgcolor": "white",
          "plot_bgcolor": "#E5ECF6",
          "polar": {
           "angularaxis": {
            "gridcolor": "white",
            "linecolor": "white",
            "ticks": ""
           },
           "bgcolor": "#E5ECF6",
           "radialaxis": {
            "gridcolor": "white",
            "linecolor": "white",
            "ticks": ""
           }
          },
          "scene": {
           "xaxis": {
            "backgroundcolor": "#E5ECF6",
            "gridcolor": "white",
            "gridwidth": 2,
            "linecolor": "white",
            "showbackground": true,
            "ticks": "",
            "zerolinecolor": "white"
           },
           "yaxis": {
            "backgroundcolor": "#E5ECF6",
            "gridcolor": "white",
            "gridwidth": 2,
            "linecolor": "white",
            "showbackground": true,
            "ticks": "",
            "zerolinecolor": "white"
           },
           "zaxis": {
            "backgroundcolor": "#E5ECF6",
            "gridcolor": "white",
            "gridwidth": 2,
            "linecolor": "white",
            "showbackground": true,
            "ticks": "",
            "zerolinecolor": "white"
           }
          },
          "shapedefaults": {
           "line": {
            "color": "#2a3f5f"
           }
          },
          "ternary": {
           "aaxis": {
            "gridcolor": "white",
            "linecolor": "white",
            "ticks": ""
           },
           "baxis": {
            "gridcolor": "white",
            "linecolor": "white",
            "ticks": ""
           },
           "bgcolor": "#E5ECF6",
           "caxis": {
            "gridcolor": "white",
            "linecolor": "white",
            "ticks": ""
           }
          },
          "title": {
           "x": 0.05
          },
          "xaxis": {
           "automargin": true,
           "gridcolor": "white",
           "linecolor": "white",
           "ticks": "",
           "title": {
            "standoff": 15
           },
           "zerolinecolor": "white",
           "zerolinewidth": 2
          },
          "yaxis": {
           "automargin": true,
           "gridcolor": "white",
           "linecolor": "white",
           "ticks": "",
           "title": {
            "standoff": 15
           },
           "zerolinecolor": "white",
           "zerolinewidth": 2
          }
         }
        },
        "title": {
         "text": "KILLED , WOUNDED"
        },
        "width": 1800,
        "xaxis": {
         "ticklen": 15,
         "title": {
          "text": "Year"
         },
         "zeroline": true
        }
       }
      }
     },
     "metadata": {},
     "output_type": "display_data"
    }
   ],
   "source": [
    "import plotly.graph_objs as go\n",
    "\n",
    "# Creating trace1\n",
    "trace1 = go.Scatter(\n",
    "                    x = WesternEurope_killed_wounded.year,\n",
    "                    y = WesternEurope_killed_wounded.killed,\n",
    "                    mode = \"lines\",\n",
    "                    name = \"Killed(W Europe)\",\n",
    "                    marker = dict(color = 'rgba(244,67,54, 0.8)'),\n",
    "                    text= WesternEurope_killed_wounded.killed)\n",
    "trace2 = go.Scatter(\n",
    "                    x = WesternEurope_killed_wounded.year,\n",
    "                    y =WesternEurope_killed_wounded.wounded,\n",
    "                    mode = \"lines\",\n",
    "                    name = \"Wounded(W Europe)\",\n",
    "                    marker = dict(color = 'rgba(255,185,185, 0.8)'),\n",
    "                    text= WesternEurope_killed_wounded.wounded)\n",
    "trace3 = go.Scatter(\n",
    "                    x = SouthAmerica_killed_wounded.year,\n",
    "                    y = SouthAmerica_killed_wounded.killed,\n",
    "                    mode = \"lines\",\n",
    "                    name = \"Killed(S America)\",\n",
    "                    marker = dict(color = 'rgba(255,152,0, 0.8)'),\n",
    "                    text= SouthAmerica_killed_wounded.killed)\n",
    "trace4= go.Scatter(\n",
    "                    x = SouthAmerica_killed_wounded.year,\n",
    "                    y = SouthAmerica_killed_wounded.wounded,\n",
    "                    mode = \"lines\",\n",
    "                    name = \"Wounded(S America)\",\n",
    "                    marker = dict(color = 'rgba(255,219,179, 0.8)'),\n",
    "                    text= SouthAmerica_killed_wounded.wounded)\n",
    "trace5 = go.Scatter(\n",
    "                    x = MiddleEastNorthAfrica_killed_wounded.year,\n",
    "                    y = MiddleEastNorthAfrica_killed_wounded.killed,\n",
    "                    mode = \"lines\",\n",
    "                    name = \"Killed(MEN Africa)\",\n",
    "                    marker = dict(color = 'rgba(139,195,74, 0.8)'),\n",
    "                    text= MiddleEastNorthAfrica_killed_wounded.killed)\n",
    "trace6 = go.Scatter(\n",
    "                    x = MiddleEastNorthAfrica_killed_wounded.year,\n",
    "                    y =MiddleEastNorthAfrica_killed_wounded.wounded,\n",
    "                    mode = \"lines\",\n",
    "                    name = \"Wounded(MEN Africa)\",\n",
    "                    marker = dict(color = 'rgba(225,255,219, 0.8)'),\n",
    "                    text= MiddleEastNorthAfrica_killed_wounded.wounded)\n",
    "trace7 = go.Scatter(\n",
    "                    x = SoutheastAsia_killed_wounded.year,\n",
    "                    y = SoutheastAsia_killed_wounded.killed,\n",
    "                    mode = \"lines\",\n",
    "                    name = \"Killed(SE Asia)\",\n",
    "                    marker = dict(color = 'rgba(0,212,206, 0.8)'),\n",
    "                    text= SoutheastAsia_killed_wounded.killed)\n",
    "trace8= go.Scatter(\n",
    "                    x = SoutheastAsia_killed_wounded.year,\n",
    "                    y = SoutheastAsia_killed_wounded.wounded,\n",
    "                    mode = \"lines\",\n",
    "                    name = \"Wounded(SE Asia)\",\n",
    "                    marker = dict(color = 'rgba(204,249,255, 0.8)'),\n",
    "                    text= SoutheastAsia_killed_wounded.wounded)\n",
    "data = [trace1, trace2,trace3,trace4,trace5,trace6,trace7,trace8]\n",
    "layout = dict(title = 'KILLED , WOUNDED',\n",
    "            xaxis= dict(title= 'Year',ticklen= 15,zeroline= True),\n",
    "            height=1000,width=1800)\n",
    "fig = dict(data = data, layout = layout)\n",
    "iplot(fig)\n"
   ]
  },
  {
   "cell_type": "code",
   "execution_count": null,
   "metadata": {},
   "outputs": [],
   "source": []
  },
  {
   "cell_type": "code",
   "execution_count": 175,
   "metadata": {},
   "outputs": [
    {
     "data": {
      "application/vnd.plotly.v1+json": {
       "config": {
        "linkText": "Export to plot.ly",
        "plotlyServerURL": "https://plot.ly",
        "showLink": false
       },
       "data": [
        {
         "marker": {
          "color": "rgba(244,67,54, 0.8)"
         },
         "mode": "lines",
         "name": "Killed(W Europe)",
         "text": [
          79,
          112,
          405,
          295,
          408,
          299,
          323,
          195,
          231,
          301,
          390,
          177,
          178,
          163,
          175,
          261,
          165,
          194,
          437,
          119,
          120,
          170,
          179,
          105,
          68,
          43,
          40,
          54,
          12,
          42,
          40,
          9,
          5,
          196,
          60,
          6,
          17,
          3,
          15,
          5,
          83,
          11,
          7,
          5,
          171,
          238,
          83
         ],
         "type": "scatter",
         "x": [
          1970,
          1971,
          1972,
          1973,
          1974,
          1975,
          1976,
          1977,
          1978,
          1979,
          1980,
          1981,
          1982,
          1983,
          1984,
          1985,
          1986,
          1987,
          1988,
          1989,
          1990,
          1991,
          1992,
          1994,
          1995,
          1996,
          1997,
          1998,
          1999,
          2000,
          2001,
          2002,
          2003,
          2004,
          2005,
          2006,
          2007,
          2008,
          2009,
          2010,
          2011,
          2012,
          2013,
          2014,
          2015,
          2016,
          2017
         ],
         "y": [
          79,
          112,
          405,
          295,
          408,
          299,
          323,
          195,
          231,
          301,
          390,
          177,
          178,
          163,
          175,
          261,
          165,
          194,
          437,
          119,
          120,
          170,
          179,
          105,
          68,
          43,
          40,
          54,
          12,
          42,
          40,
          9,
          5,
          196,
          60,
          6,
          17,
          3,
          15,
          5,
          83,
          11,
          7,
          5,
          171,
          238,
          83
         ]
        },
        {
         "marker": {
          "color": "rgba(255,185,185, 0.8)"
         },
         "mode": "lines",
         "name": "Wounded(W Europe)",
         "text": [
          10,
          6,
          282,
          407,
          601,
          195,
          120,
          201,
          334,
          689,
          883,
          590,
          459,
          488,
          611,
          985,
          846,
          431,
          590,
          234,
          292,
          473,
          838,
          365,
          322,
          589,
          95,
          283,
          221,
          155,
          259,
          94,
          130,
          1853,
          942,
          31,
          44,
          76,
          104,
          42,
          96,
          15,
          85,
          31,
          526,
          900,
          509
         ],
         "type": "scatter",
         "x": [
          1970,
          1971,
          1972,
          1973,
          1974,
          1975,
          1976,
          1977,
          1978,
          1979,
          1980,
          1981,
          1982,
          1983,
          1984,
          1985,
          1986,
          1987,
          1988,
          1989,
          1990,
          1991,
          1992,
          1994,
          1995,
          1996,
          1997,
          1998,
          1999,
          2000,
          2001,
          2002,
          2003,
          2004,
          2005,
          2006,
          2007,
          2008,
          2009,
          2010,
          2011,
          2012,
          2013,
          2014,
          2015,
          2016,
          2017
         ],
         "y": [
          10,
          6,
          282,
          407,
          601,
          195,
          120,
          201,
          334,
          689,
          883,
          590,
          459,
          488,
          611,
          985,
          846,
          431,
          590,
          234,
          292,
          473,
          838,
          365,
          322,
          589,
          95,
          283,
          221,
          155,
          259,
          94,
          130,
          1853,
          942,
          31,
          44,
          76,
          104,
          42,
          96,
          15,
          85,
          31,
          526,
          900,
          509
         ]
        },
        {
         "marker": {
          "color": "rgba(255,152,0, 0.8)"
         },
         "mode": "lines",
         "name": "Killed(S America)",
         "text": [
          11,
          6,
          6,
          16,
          21,
          130,
          134,
          47,
          93,
          183,
          206,
          402,
          672,
          2279,
          2995,
          1700,
          1351,
          1450,
          2024,
          2339,
          1861,
          2238,
          1536,
          406,
          650,
          725,
          1317,
          599,
          293,
          430,
          593,
          369,
          191,
          89,
          152,
          93,
          83,
          109,
          136,
          58,
          43,
          180,
          160,
          157,
          128,
          87,
          101
         ],
         "type": "scatter",
         "x": [
          1970,
          1971,
          1972,
          1973,
          1974,
          1975,
          1976,
          1977,
          1978,
          1979,
          1980,
          1981,
          1982,
          1983,
          1984,
          1985,
          1986,
          1987,
          1988,
          1989,
          1990,
          1991,
          1992,
          1994,
          1995,
          1996,
          1997,
          1998,
          1999,
          2000,
          2001,
          2002,
          2003,
          2004,
          2005,
          2006,
          2007,
          2008,
          2009,
          2010,
          2011,
          2012,
          2013,
          2014,
          2015,
          2016,
          2017
         ],
         "y": [
          11,
          6,
          6,
          16,
          21,
          130,
          134,
          47,
          93,
          183,
          206,
          402,
          672,
          2279,
          2995,
          1700,
          1351,
          1450,
          2024,
          2339,
          1861,
          2238,
          1536,
          406,
          650,
          725,
          1317,
          599,
          293,
          430,
          593,
          369,
          191,
          89,
          152,
          93,
          83,
          109,
          136,
          58,
          43,
          180,
          160,
          157,
          128,
          87,
          101
         ]
        },
        {
         "marker": {
          "color": "rgba(255,219,179, 0.8)"
         },
         "mode": "lines",
         "name": "Wounded(S America)",
         "text": [
          4,
          0,
          1,
          19,
          29,
          16,
          106,
          42,
          51,
          77,
          123,
          76,
          186,
          383,
          984,
          652,
          522,
          718,
          782,
          895,
          1069,
          896,
          1497,
          495,
          472,
          582,
          756,
          191,
          250,
          191,
          446,
          690,
          575,
          218,
          108,
          106,
          163,
          253,
          244,
          149,
          90,
          470,
          292,
          355,
          145,
          179,
          156
         ],
         "type": "scatter",
         "x": [
          1970,
          1971,
          1972,
          1973,
          1974,
          1975,
          1976,
          1977,
          1978,
          1979,
          1980,
          1981,
          1982,
          1983,
          1984,
          1985,
          1986,
          1987,
          1988,
          1989,
          1990,
          1991,
          1992,
          1994,
          1995,
          1996,
          1997,
          1998,
          1999,
          2000,
          2001,
          2002,
          2003,
          2004,
          2005,
          2006,
          2007,
          2008,
          2009,
          2010,
          2011,
          2012,
          2013,
          2014,
          2015,
          2016,
          2017
         ],
         "y": [
          4,
          0,
          1,
          19,
          29,
          16,
          106,
          42,
          51,
          77,
          123,
          76,
          186,
          383,
          984,
          652,
          522,
          718,
          782,
          895,
          1069,
          896,
          1497,
          495,
          472,
          582,
          756,
          191,
          250,
          191,
          446,
          690,
          575,
          218,
          108,
          106,
          163,
          253,
          244,
          149,
          90,
          470,
          292,
          355,
          145,
          179,
          156
         ]
        },
        {
         "marker": {
          "color": "rgba(139,195,74, 0.8)"
         },
         "mode": "lines",
         "name": "Killed(MEN Africa)",
         "text": [
          1,
          7,
          33,
          7,
          81,
          60,
          45,
          43,
          671,
          366,
          442,
          772,
          587,
          756,
          149,
          723,
          409,
          581,
          365,
          480,
          778,
          544,
          1879,
          2065,
          1020,
          961,
          4691,
          1079,
          672,
          624,
          907,
          1175,
          1063,
          2558,
          3918,
          5032,
          7180,
          3467,
          2982,
          2663,
          2651,
          5033,
          10164,
          20080,
          17854,
          19205,
          10819
         ],
         "type": "scatter",
         "x": [
          1970,
          1971,
          1972,
          1973,
          1974,
          1975,
          1976,
          1977,
          1978,
          1979,
          1980,
          1981,
          1982,
          1983,
          1984,
          1985,
          1986,
          1987,
          1988,
          1989,
          1990,
          1991,
          1992,
          1994,
          1995,
          1996,
          1997,
          1998,
          1999,
          2000,
          2001,
          2002,
          2003,
          2004,
          2005,
          2006,
          2007,
          2008,
          2009,
          2010,
          2011,
          2012,
          2013,
          2014,
          2015,
          2016,
          2017
         ],
         "y": [
          1,
          7,
          33,
          7,
          81,
          60,
          45,
          43,
          671,
          366,
          442,
          772,
          587,
          756,
          149,
          723,
          409,
          581,
          365,
          480,
          778,
          544,
          1879,
          2065,
          1020,
          961,
          4691,
          1079,
          672,
          624,
          907,
          1175,
          1063,
          2558,
          3918,
          5032,
          7180,
          3467,
          2982,
          2663,
          2651,
          5033,
          10164,
          20080,
          17854,
          19205,
          10819
         ]
        },
        {
         "marker": {
          "color": "rgba(225,255,219, 0.8)"
         },
         "mode": "lines",
         "name": "Wounded(MEN Africa)",
         "text": [
          5,
          11,
          83,
          18,
          168,
          92,
          388,
          115,
          641,
          953,
          1019,
          1425,
          1738,
          1145,
          763,
          1684,
          1401,
          516,
          807,
          564,
          670,
          892,
          1468,
          1982,
          2205,
          2085,
          2582,
          1291,
          877,
          586,
          1424,
          2157,
          3252,
          5267,
          7220,
          9198,
          14709,
          8545,
          9862,
          7871,
          6089,
          10861,
          21496,
          22601,
          23757,
          23433,
          8392
         ],
         "type": "scatter",
         "x": [
          1970,
          1971,
          1972,
          1973,
          1974,
          1975,
          1976,
          1977,
          1978,
          1979,
          1980,
          1981,
          1982,
          1983,
          1984,
          1985,
          1986,
          1987,
          1988,
          1989,
          1990,
          1991,
          1992,
          1994,
          1995,
          1996,
          1997,
          1998,
          1999,
          2000,
          2001,
          2002,
          2003,
          2004,
          2005,
          2006,
          2007,
          2008,
          2009,
          2010,
          2011,
          2012,
          2013,
          2014,
          2015,
          2016,
          2017
         ],
         "y": [
          5,
          11,
          83,
          18,
          168,
          92,
          388,
          115,
          641,
          953,
          1019,
          1425,
          1738,
          1145,
          763,
          1684,
          1401,
          516,
          807,
          564,
          670,
          892,
          1468,
          1982,
          2205,
          2085,
          2582,
          1291,
          877,
          586,
          1424,
          2157,
          3252,
          5267,
          7220,
          9198,
          14709,
          8545,
          9862,
          7871,
          6089,
          10861,
          21496,
          22601,
          23757,
          23433,
          8392
         ]
        },
        {
         "marker": {
          "color": "rgba(0,212,206, 0.8)"
         },
         "mode": "lines",
         "name": "Killed(SE Asia)",
         "text": [
          41,
          2,
          84,
          0,
          5,
          1,
          47,
          102,
          158,
          260,
          244,
          201,
          143,
          122,
          264,
          459,
          342,
          404,
          662,
          606,
          562,
          574,
          673,
          390,
          312,
          270,
          335,
          54,
          123,
          459,
          311,
          396,
          354,
          281,
          266,
          260,
          390,
          403,
          482,
          322,
          299,
          453,
          723,
          702,
          646,
          639,
          811
         ],
         "type": "scatter",
         "x": [
          1970,
          1971,
          1972,
          1973,
          1974,
          1975,
          1976,
          1977,
          1978,
          1979,
          1980,
          1981,
          1982,
          1983,
          1984,
          1985,
          1986,
          1987,
          1988,
          1989,
          1990,
          1991,
          1992,
          1994,
          1995,
          1996,
          1997,
          1998,
          1999,
          2000,
          2001,
          2002,
          2003,
          2004,
          2005,
          2006,
          2007,
          2008,
          2009,
          2010,
          2011,
          2012,
          2013,
          2014,
          2015,
          2016,
          2017
         ],
         "y": [
          41,
          2,
          84,
          0,
          5,
          1,
          47,
          102,
          158,
          260,
          244,
          201,
          143,
          122,
          264,
          459,
          342,
          404,
          662,
          606,
          562,
          574,
          673,
          390,
          312,
          270,
          335,
          54,
          123,
          459,
          311,
          396,
          354,
          281,
          266,
          260,
          390,
          403,
          482,
          322,
          299,
          453,
          723,
          702,
          646,
          639,
          811
         ]
        },
        {
         "marker": {
          "color": "rgba(204,249,255, 0.8)"
         },
         "mode": "lines",
         "name": "Wounded(SE Asia)",
         "text": [
          13,
          10,
          1,
          8,
          0,
          48,
          73,
          72,
          219,
          300,
          719,
          424,
          270,
          80,
          128,
          391,
          414,
          485,
          507,
          479,
          448,
          429,
          768,
          378,
          310,
          511,
          690,
          137,
          305,
          1054,
          538,
          956,
          759,
          551,
          846,
          582,
          1057,
          1060,
          892,
          634,
          730,
          1526,
          1392,
          1451,
          1386,
          1220,
          1008
         ],
         "type": "scatter",
         "x": [
          1970,
          1971,
          1972,
          1973,
          1974,
          1975,
          1976,
          1977,
          1978,
          1979,
          1980,
          1981,
          1982,
          1983,
          1984,
          1985,
          1986,
          1987,
          1988,
          1989,
          1990,
          1991,
          1992,
          1994,
          1995,
          1996,
          1997,
          1998,
          1999,
          2000,
          2001,
          2002,
          2003,
          2004,
          2005,
          2006,
          2007,
          2008,
          2009,
          2010,
          2011,
          2012,
          2013,
          2014,
          2015,
          2016,
          2017
         ],
         "y": [
          13,
          10,
          1,
          8,
          0,
          48,
          73,
          72,
          219,
          300,
          719,
          424,
          270,
          80,
          128,
          391,
          414,
          485,
          507,
          479,
          448,
          429,
          768,
          378,
          310,
          511,
          690,
          137,
          305,
          1054,
          538,
          956,
          759,
          551,
          846,
          582,
          1057,
          1060,
          892,
          634,
          730,
          1526,
          1392,
          1451,
          1386,
          1220,
          1008
         ]
        }
       ],
       "layout": {
        "height": 1000,
        "template": {
         "data": {
          "bar": [
           {
            "error_x": {
             "color": "#2a3f5f"
            },
            "error_y": {
             "color": "#2a3f5f"
            },
            "marker": {
             "line": {
              "color": "#E5ECF6",
              "width": 0.5
             },
             "pattern": {
              "fillmode": "overlay",
              "size": 10,
              "solidity": 0.2
             }
            },
            "type": "bar"
           }
          ],
          "barpolar": [
           {
            "marker": {
             "line": {
              "color": "#E5ECF6",
              "width": 0.5
             },
             "pattern": {
              "fillmode": "overlay",
              "size": 10,
              "solidity": 0.2
             }
            },
            "type": "barpolar"
           }
          ],
          "carpet": [
           {
            "aaxis": {
             "endlinecolor": "#2a3f5f",
             "gridcolor": "white",
             "linecolor": "white",
             "minorgridcolor": "white",
             "startlinecolor": "#2a3f5f"
            },
            "baxis": {
             "endlinecolor": "#2a3f5f",
             "gridcolor": "white",
             "linecolor": "white",
             "minorgridcolor": "white",
             "startlinecolor": "#2a3f5f"
            },
            "type": "carpet"
           }
          ],
          "choropleth": [
           {
            "colorbar": {
             "outlinewidth": 0,
             "ticks": ""
            },
            "type": "choropleth"
           }
          ],
          "contour": [
           {
            "colorbar": {
             "outlinewidth": 0,
             "ticks": ""
            },
            "colorscale": [
             [
              0,
              "#0d0887"
             ],
             [
              0.1111111111111111,
              "#46039f"
             ],
             [
              0.2222222222222222,
              "#7201a8"
             ],
             [
              0.3333333333333333,
              "#9c179e"
             ],
             [
              0.4444444444444444,
              "#bd3786"
             ],
             [
              0.5555555555555556,
              "#d8576b"
             ],
             [
              0.6666666666666666,
              "#ed7953"
             ],
             [
              0.7777777777777778,
              "#fb9f3a"
             ],
             [
              0.8888888888888888,
              "#fdca26"
             ],
             [
              1,
              "#f0f921"
             ]
            ],
            "type": "contour"
           }
          ],
          "contourcarpet": [
           {
            "colorbar": {
             "outlinewidth": 0,
             "ticks": ""
            },
            "type": "contourcarpet"
           }
          ],
          "heatmap": [
           {
            "colorbar": {
             "outlinewidth": 0,
             "ticks": ""
            },
            "colorscale": [
             [
              0,
              "#0d0887"
             ],
             [
              0.1111111111111111,
              "#46039f"
             ],
             [
              0.2222222222222222,
              "#7201a8"
             ],
             [
              0.3333333333333333,
              "#9c179e"
             ],
             [
              0.4444444444444444,
              "#bd3786"
             ],
             [
              0.5555555555555556,
              "#d8576b"
             ],
             [
              0.6666666666666666,
              "#ed7953"
             ],
             [
              0.7777777777777778,
              "#fb9f3a"
             ],
             [
              0.8888888888888888,
              "#fdca26"
             ],
             [
              1,
              "#f0f921"
             ]
            ],
            "type": "heatmap"
           }
          ],
          "heatmapgl": [
           {
            "colorbar": {
             "outlinewidth": 0,
             "ticks": ""
            },
            "colorscale": [
             [
              0,
              "#0d0887"
             ],
             [
              0.1111111111111111,
              "#46039f"
             ],
             [
              0.2222222222222222,
              "#7201a8"
             ],
             [
              0.3333333333333333,
              "#9c179e"
             ],
             [
              0.4444444444444444,
              "#bd3786"
             ],
             [
              0.5555555555555556,
              "#d8576b"
             ],
             [
              0.6666666666666666,
              "#ed7953"
             ],
             [
              0.7777777777777778,
              "#fb9f3a"
             ],
             [
              0.8888888888888888,
              "#fdca26"
             ],
             [
              1,
              "#f0f921"
             ]
            ],
            "type": "heatmapgl"
           }
          ],
          "histogram": [
           {
            "marker": {
             "pattern": {
              "fillmode": "overlay",
              "size": 10,
              "solidity": 0.2
             }
            },
            "type": "histogram"
           }
          ],
          "histogram2d": [
           {
            "colorbar": {
             "outlinewidth": 0,
             "ticks": ""
            },
            "colorscale": [
             [
              0,
              "#0d0887"
             ],
             [
              0.1111111111111111,
              "#46039f"
             ],
             [
              0.2222222222222222,
              "#7201a8"
             ],
             [
              0.3333333333333333,
              "#9c179e"
             ],
             [
              0.4444444444444444,
              "#bd3786"
             ],
             [
              0.5555555555555556,
              "#d8576b"
             ],
             [
              0.6666666666666666,
              "#ed7953"
             ],
             [
              0.7777777777777778,
              "#fb9f3a"
             ],
             [
              0.8888888888888888,
              "#fdca26"
             ],
             [
              1,
              "#f0f921"
             ]
            ],
            "type": "histogram2d"
           }
          ],
          "histogram2dcontour": [
           {
            "colorbar": {
             "outlinewidth": 0,
             "ticks": ""
            },
            "colorscale": [
             [
              0,
              "#0d0887"
             ],
             [
              0.1111111111111111,
              "#46039f"
             ],
             [
              0.2222222222222222,
              "#7201a8"
             ],
             [
              0.3333333333333333,
              "#9c179e"
             ],
             [
              0.4444444444444444,
              "#bd3786"
             ],
             [
              0.5555555555555556,
              "#d8576b"
             ],
             [
              0.6666666666666666,
              "#ed7953"
             ],
             [
              0.7777777777777778,
              "#fb9f3a"
             ],
             [
              0.8888888888888888,
              "#fdca26"
             ],
             [
              1,
              "#f0f921"
             ]
            ],
            "type": "histogram2dcontour"
           }
          ],
          "mesh3d": [
           {
            "colorbar": {
             "outlinewidth": 0,
             "ticks": ""
            },
            "type": "mesh3d"
           }
          ],
          "parcoords": [
           {
            "line": {
             "colorbar": {
              "outlinewidth": 0,
              "ticks": ""
             }
            },
            "type": "parcoords"
           }
          ],
          "pie": [
           {
            "automargin": true,
            "type": "pie"
           }
          ],
          "scatter": [
           {
            "fillpattern": {
             "fillmode": "overlay",
             "size": 10,
             "solidity": 0.2
            },
            "type": "scatter"
           }
          ],
          "scatter3d": [
           {
            "line": {
             "colorbar": {
              "outlinewidth": 0,
              "ticks": ""
             }
            },
            "marker": {
             "colorbar": {
              "outlinewidth": 0,
              "ticks": ""
             }
            },
            "type": "scatter3d"
           }
          ],
          "scattercarpet": [
           {
            "marker": {
             "colorbar": {
              "outlinewidth": 0,
              "ticks": ""
             }
            },
            "type": "scattercarpet"
           }
          ],
          "scattergeo": [
           {
            "marker": {
             "colorbar": {
              "outlinewidth": 0,
              "ticks": ""
             }
            },
            "type": "scattergeo"
           }
          ],
          "scattergl": [
           {
            "marker": {
             "colorbar": {
              "outlinewidth": 0,
              "ticks": ""
             }
            },
            "type": "scattergl"
           }
          ],
          "scattermapbox": [
           {
            "marker": {
             "colorbar": {
              "outlinewidth": 0,
              "ticks": ""
             }
            },
            "type": "scattermapbox"
           }
          ],
          "scatterpolar": [
           {
            "marker": {
             "colorbar": {
              "outlinewidth": 0,
              "ticks": ""
             }
            },
            "type": "scatterpolar"
           }
          ],
          "scatterpolargl": [
           {
            "marker": {
             "colorbar": {
              "outlinewidth": 0,
              "ticks": ""
             }
            },
            "type": "scatterpolargl"
           }
          ],
          "scatterternary": [
           {
            "marker": {
             "colorbar": {
              "outlinewidth": 0,
              "ticks": ""
             }
            },
            "type": "scatterternary"
           }
          ],
          "surface": [
           {
            "colorbar": {
             "outlinewidth": 0,
             "ticks": ""
            },
            "colorscale": [
             [
              0,
              "#0d0887"
             ],
             [
              0.1111111111111111,
              "#46039f"
             ],
             [
              0.2222222222222222,
              "#7201a8"
             ],
             [
              0.3333333333333333,
              "#9c179e"
             ],
             [
              0.4444444444444444,
              "#bd3786"
             ],
             [
              0.5555555555555556,
              "#d8576b"
             ],
             [
              0.6666666666666666,
              "#ed7953"
             ],
             [
              0.7777777777777778,
              "#fb9f3a"
             ],
             [
              0.8888888888888888,
              "#fdca26"
             ],
             [
              1,
              "#f0f921"
             ]
            ],
            "type": "surface"
           }
          ],
          "table": [
           {
            "cells": {
             "fill": {
              "color": "#EBF0F8"
             },
             "line": {
              "color": "white"
             }
            },
            "header": {
             "fill": {
              "color": "#C8D4E3"
             },
             "line": {
              "color": "white"
             }
            },
            "type": "table"
           }
          ]
         },
         "layout": {
          "annotationdefaults": {
           "arrowcolor": "#2a3f5f",
           "arrowhead": 0,
           "arrowwidth": 1
          },
          "autotypenumbers": "strict",
          "coloraxis": {
           "colorbar": {
            "outlinewidth": 0,
            "ticks": ""
           }
          },
          "colorscale": {
           "diverging": [
            [
             0,
             "#8e0152"
            ],
            [
             0.1,
             "#c51b7d"
            ],
            [
             0.2,
             "#de77ae"
            ],
            [
             0.3,
             "#f1b6da"
            ],
            [
             0.4,
             "#fde0ef"
            ],
            [
             0.5,
             "#f7f7f7"
            ],
            [
             0.6,
             "#e6f5d0"
            ],
            [
             0.7,
             "#b8e186"
            ],
            [
             0.8,
             "#7fbc41"
            ],
            [
             0.9,
             "#4d9221"
            ],
            [
             1,
             "#276419"
            ]
           ],
           "sequential": [
            [
             0,
             "#0d0887"
            ],
            [
             0.1111111111111111,
             "#46039f"
            ],
            [
             0.2222222222222222,
             "#7201a8"
            ],
            [
             0.3333333333333333,
             "#9c179e"
            ],
            [
             0.4444444444444444,
             "#bd3786"
            ],
            [
             0.5555555555555556,
             "#d8576b"
            ],
            [
             0.6666666666666666,
             "#ed7953"
            ],
            [
             0.7777777777777778,
             "#fb9f3a"
            ],
            [
             0.8888888888888888,
             "#fdca26"
            ],
            [
             1,
             "#f0f921"
            ]
           ],
           "sequentialminus": [
            [
             0,
             "#0d0887"
            ],
            [
             0.1111111111111111,
             "#46039f"
            ],
            [
             0.2222222222222222,
             "#7201a8"
            ],
            [
             0.3333333333333333,
             "#9c179e"
            ],
            [
             0.4444444444444444,
             "#bd3786"
            ],
            [
             0.5555555555555556,
             "#d8576b"
            ],
            [
             0.6666666666666666,
             "#ed7953"
            ],
            [
             0.7777777777777778,
             "#fb9f3a"
            ],
            [
             0.8888888888888888,
             "#fdca26"
            ],
            [
             1,
             "#f0f921"
            ]
           ]
          },
          "colorway": [
           "#636efa",
           "#EF553B",
           "#00cc96",
           "#ab63fa",
           "#FFA15A",
           "#19d3f3",
           "#FF6692",
           "#B6E880",
           "#FF97FF",
           "#FECB52"
          ],
          "font": {
           "color": "#2a3f5f"
          },
          "geo": {
           "bgcolor": "white",
           "lakecolor": "white",
           "landcolor": "#E5ECF6",
           "showlakes": true,
           "showland": true,
           "subunitcolor": "white"
          },
          "hoverlabel": {
           "align": "left"
          },
          "hovermode": "closest",
          "mapbox": {
           "style": "light"
          },
          "paper_bgcolor": "white",
          "plot_bgcolor": "#E5ECF6",
          "polar": {
           "angularaxis": {
            "gridcolor": "white",
            "linecolor": "white",
            "ticks": ""
           },
           "bgcolor": "#E5ECF6",
           "radialaxis": {
            "gridcolor": "white",
            "linecolor": "white",
            "ticks": ""
           }
          },
          "scene": {
           "xaxis": {
            "backgroundcolor": "#E5ECF6",
            "gridcolor": "white",
            "gridwidth": 2,
            "linecolor": "white",
            "showbackground": true,
            "ticks": "",
            "zerolinecolor": "white"
           },
           "yaxis": {
            "backgroundcolor": "#E5ECF6",
            "gridcolor": "white",
            "gridwidth": 2,
            "linecolor": "white",
            "showbackground": true,
            "ticks": "",
            "zerolinecolor": "white"
           },
           "zaxis": {
            "backgroundcolor": "#E5ECF6",
            "gridcolor": "white",
            "gridwidth": 2,
            "linecolor": "white",
            "showbackground": true,
            "ticks": "",
            "zerolinecolor": "white"
           }
          },
          "shapedefaults": {
           "line": {
            "color": "#2a3f5f"
           }
          },
          "ternary": {
           "aaxis": {
            "gridcolor": "white",
            "linecolor": "white",
            "ticks": ""
           },
           "baxis": {
            "gridcolor": "white",
            "linecolor": "white",
            "ticks": ""
           },
           "bgcolor": "#E5ECF6",
           "caxis": {
            "gridcolor": "white",
            "linecolor": "white",
            "ticks": ""
           }
          },
          "title": {
           "x": 0.05
          },
          "xaxis": {
           "automargin": true,
           "gridcolor": "white",
           "linecolor": "white",
           "ticks": "",
           "title": {
            "standoff": 15
           },
           "zerolinecolor": "white",
           "zerolinewidth": 2
          },
          "yaxis": {
           "automargin": true,
           "gridcolor": "white",
           "linecolor": "white",
           "ticks": "",
           "title": {
            "standoff": 15
           },
           "zerolinecolor": "white",
           "zerolinewidth": 2
          }
         }
        },
        "title": {
         "text": "KILLED , WOUNDED"
        },
        "width": 1800,
        "xaxis": {
         "ticklen": 15,
         "title": {
          "text": "Year"
         },
         "zeroline": true
        }
       }
      }
     },
     "metadata": {},
     "output_type": "display_data"
    }
   ],
   "source": [
    "#gpt로 줄여본거 ..\n",
    "import plotly.graph_objs as go\n",
    "from plotly.offline import iplot\n",
    "\n",
    "def process_data(region_df):\n",
    "    year_list = list(region_df['Year'].unique())\n",
    "    total_killed = []\n",
    "    total_wounded = []\n",
    "\n",
    "    for year in year_list:\n",
    "        subset = region_df[region_df['Year'] == year]\n",
    "        total_killed.append(subset['Killed'].sum())\n",
    "        total_wounded.append(subset['Wounded'].sum())\n",
    "\n",
    "    result_df = pd.DataFrame({'year': year_list, 'killed': total_killed, 'wounded': total_wounded})\n",
    "    result_df.sort_values(by='year', inplace=True)\n",
    "    result_df.fillna(0.0, inplace=True)\n",
    "\n",
    "    return result_df\n",
    "\n",
    "# Process data for each region\n",
    "WesternEurope_killed_wounded = process_data(terror_WesternEurope)\n",
    "SouthAmerica_killed_wounded = process_data(terror_SouthAmerica)\n",
    "MiddleEastNorthAfrica_killed_wounded = process_data(terror_MiddleEastNorthAfrica)\n",
    "SoutheastAsia_killed_wounded = process_data(terror_SoutheastAsia)\n",
    "\n",
    "# Create traces\n",
    "traces = []\n",
    "regions = ['W Europe', 'S America', 'MEN Africa', 'SE Asia']\n",
    "colors1 = ['rgba(244,67,54, 0.8)', 'rgba(255,152,0, 0.8)', 'rgba(139,195,74, 0.8)', 'rgba(0,212,206, 0.8)']\n",
    "colors2=['rgba(255,185,185, 0.8)','rgba(255,219,179, 0.8)','rgba(225,255,219, 0.8)','rgba(204,249,255, 0.8)']\n",
    "\n",
    "for i, region_df in enumerate([WesternEurope_killed_wounded, SouthAmerica_killed_wounded, MiddleEastNorthAfrica_killed_wounded, SoutheastAsia_killed_wounded]):\n",
    "    traces.append(go.Scatter(\n",
    "        x=region_df['year'],\n",
    "        y=region_df['killed'],\n",
    "        mode=\"lines\",\n",
    "        name=f\"Killed({regions[i]})\",\n",
    "        marker=dict(color=colors1[i]),\n",
    "        text=region_df['killed']\n",
    "    ))\n",
    "    traces.append(go.Scatter(\n",
    "        x=region_df['year'],\n",
    "        y=region_df['wounded'],\n",
    "        mode=\"lines\",\n",
    "        name=f\"Wounded({regions[i]})\",\n",
    "        marker=dict(color=colors2[i]),\n",
    "        text=region_df['wounded']\n",
    "    ))\n",
    "\n",
    "# Create layout\n",
    "layout = dict(title='KILLED , WOUNDED',\n",
    "            xaxis=dict(title='Year', ticklen=15, zeroline=True),\n",
    "            height=1000, width=1800)\n",
    "\n",
    "# Create figure and plot\n",
    "fig = dict(data=traces, layout=layout)\n",
    "iplot(fig)\n"
   ]
  },
  {
   "cell_type": "code",
   "execution_count": 187,
   "metadata": {},
   "outputs": [
    {
     "data": {
      "text/plain": [
       "0"
      ]
     },
     "execution_count": 187,
     "metadata": {},
     "output_type": "execute_result"
    }
   ],
   "source": [
    "attacktype_list=list(terror['AttackType'].unique())\n",
    "europe_attacktype=0\n",
    "for i in attacktype_list:\n",
    "    if terror[terror[\"AttackType\"]==i]:\n",
    "    europe_attacktype=+1\n",
    "europe_attacktype\n",
    "    "
   ]
  },
  {
   "cell_type": "code",
   "execution_count": 179,
   "metadata": {},
   "outputs": [
    {
     "data": {
      "text/plain": [
       "<bound method Series.notnull of 0         False\n",
       "1         False\n",
       "2         False\n",
       "3         False\n",
       "4         False\n",
       "          ...  \n",
       "181686    False\n",
       "181687    False\n",
       "181688    False\n",
       "181689    False\n",
       "181690    False\n",
       "Name: Region, Length: 181691, dtype: bool>"
      ]
     },
     "execution_count": 179,
     "metadata": {},
     "output_type": "execute_result"
    }
   ],
   "source": [
    "fig, axes=plt.subplots(nrows=1, ncols=2, figsize=(14,6))\n",
    "europe=terror[terror['Region']=='WesternEurope']\n",
    "southamerica=terror[terror['sex']=='South America']\n",
    "\n",
    "ax=sns.distplot(europe[europe['survived']==1]['age'],#distplot은 그냥 아래형태 그래프. 추세선원하면 kde=True\n",
    "                label='survived', ax=axes[0], kde=True)\n",
    "ax=sns.distplot(southamerica[southamerica['survived']==0]['age'], bins=40,\n",
    "                label='not_survived', ax=axes[0], kde=True)\n",
    "ax.legend(); ax.set_title('Female')\n",
    "ax=sns.distplot(men[men['survived']==1]['age'], bins=18,\n",
    "                label='survived', ax=axes[1], kde=False)\n",
    "ax=sns.distplot(men[men['survived']==0]['age'], bins=40,\n",
    "                label='not_survived', ax=axes[1], kde=False)\n",
    "ax.legend(); ax.set_title('Male')\n"
   ]
  }
 ],
 "metadata": {
  "kernelspec": {
   "display_name": "eda_venv",
   "language": "python",
   "name": "python3"
  },
  "language_info": {
   "codemirror_mode": {
    "name": "ipython",
    "version": 3
   },
   "file_extension": ".py",
   "mimetype": "text/x-python",
   "name": "python",
   "nbconvert_exporter": "python",
   "pygments_lexer": "ipython3",
   "version": "3.10.12"
  }
 },
 "nbformat": 4,
 "nbformat_minor": 2
}
