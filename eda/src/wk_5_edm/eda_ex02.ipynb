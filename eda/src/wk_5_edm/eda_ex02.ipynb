{
 "cells": [
  {
   "cell_type": "code",
   "execution_count": 201,
   "metadata": {},
   "outputs": [],
   "source": [
    "import pandas as pd\n",
    "from selenium import webdriver\n",
    "from selenium.webdriver.chrome.service import Service\n",
    "from selenium.webdriver.chrome.options import Options\n",
    "from tqdm.notebook import tqdm\n",
    "from selenium.webdriver.support.wait import WebDriverWait\n",
    "from selenium.webdriver.common.keys import Keys\n",
    "from selenium.webdriver.support import expected_conditions as EC\n",
    "from selenium.webdriver.common.action_chains import ActionChains\n",
    "import time\n",
    "from selenium.webdriver.common.by import By\n",
    "import urllib"
   ]
  },
  {
   "cell_type": "code",
   "execution_count": 202,
   "metadata": {},
   "outputs": [],
   "source": [
    "options = webdriver.ChromeOptions()\n",
    "prefs = {\"download.default_directory\":\"/home/rds/amr_ws/edm/data\",\n",
    "         \"download.prompt_for_download\":False}\n",
    "options.add_experimental_option(\"prefs\",prefs)\n",
    "url = \"https://www.imdb.com/\"\n",
    "driver = webdriver.Chrome(service=Service(\"../../driver/chromedriver-linux64/chromedriver\"),\n",
    "                          options=options)\n",
    "driver.get(url)\n",
    "\n",
    "seach_bar_wait = WebDriverWait(driver, timeout=30).until(EC.element_to_be_clickable(\n",
    "            (By.XPATH, \"\"\"//*[@id=\"suggestion-search\"]\"\"\")))\n",
    "seach_bar_wait.click()\n",
    "seach_bar_wait.send_keys(\"The Big Bang Theory\")\n",
    "seach_bar_wait.send_keys(Keys.ENTER)\n",
    "#빅뱅이론 검색\n",
    "result_wait = WebDriverWait(driver, timeout=30).until(EC.element_to_be_clickable(\n",
    "            (By.XPATH, \"\"\"//*[@id=\"__next\"]/main/div[2]/div[3]/section/div/div[1]/section[2]/div[2]/ul/li[1]/div[2]\"\"\")))\n",
    "result_wait.click()\n",
    "\n",
    "driver.execute_script(\"window.scrollTo(0, 800)\")\n",
    "\n",
    "\n",
    "episodes_wait = WebDriverWait(driver, timeout=30).until(EC.element_to_be_clickable(\n",
    "            (By.XPATH, \"\"\"//*[@id=\"__next\"]/main/div/section[1]/div/section/div/div[1]/section[2]/div[1]/a/h3\"\"\")))\n",
    "\n",
    "episodes_wait.click()"
   ]
  },
  {
   "cell_type": "code",
   "execution_count": 203,
   "metadata": {},
   "outputs": [],
   "source": [
    "seasons = driver.find_element(By.XPATH, \"\"\"//*[@id=\"__next\"]/main/div/section/div/section/div/div[1]/section[2]/section[1]/div[2]/ul\"\"\")\n",
    "season = seasons.find_elements(By.TAG_NAME,\"li\")\n",
    "\n",
    "season = season[1:len(season)-1]\n",
    "\n",
    "\n",
    "\n",
    "\n"
   ]
  },
  {
   "cell_type": "code",
   "execution_count": 204,
   "metadata": {},
   "outputs": [],
   "source": [
    "season_list = []\n",
    "rate_list = []\n",
    "date_list = []\n",
    "for page in season: \n",
    "    #driver.implicitly_wait(10)\n",
    "    videos = driver.find_element(By.XPATH, \"\"\"//*[@id=\"__next\"]/main/div/section/div/section/div/div[1]/section[2]/section[2]\"\"\")\n",
    "    video = videos.find_elements(By.TAG_NAME,\"article\")\n",
    "    # view_wait = WebDriverWait(driver, timeout=30).until(EC.element_to_be_clickable(\n",
    "    #     (video[-1])))\n",
    "    for view in video:\n",
    "        season_list.append((view.find_element(By.CLASS_NAME, \"ipc-title__text\")\n",
    "                            .text.split(\"∙\")[0]\n",
    "                            ).split(\".\")[0])\n",
    "        date_list.append(view.find_element(By.CLASS_NAME, \"sc-9115db22-10\").text)\n",
    "        data = view.find_element(By.CLASS_NAME, \"sc-9115db22-12\")\n",
    "        rate_list.append(data.text.split(\"\\n\")[0])\n",
    "        \n",
    "    pisodes_wait = WebDriverWait(driver, timeout=30).until(EC.element_to_be_clickable(\n",
    "        (page)))\n",
    "    \n",
    "\n",
    "    pisodes_wait.click()\n",
    "    # time.sleep(0.5)\n",
    "    #driver.implicitly_wait(10)\n",
    "    time.sleep(3)# 암시적, 명시적 대기 적용 실패"
   ]
  },
  {
   "cell_type": "code",
   "execution_count": 205,
   "metadata": {},
   "outputs": [
    {
     "name": "stdout",
     "output_type": "stream",
     "text": [
      "['S1', 'S1', 'S1', 'S1', 'S1', 'S1', 'S1', 'S1', 'S1', 'S1', 'S1', 'S1', 'S1', 'S1', 'S1', 'S1', 'S1', 'S2', 'S2', 'S2', 'S2', 'S2', 'S2', 'S2', 'S2', 'S2', 'S2', 'S2', 'S2', 'S2', 'S2', 'S2', 'S2', 'S2', 'S2', 'S2', 'S2', 'S2', 'S2', 'S2', 'S3', 'S3', 'S3', 'S3', 'S3', 'S3', 'S3', 'S3', 'S3', 'S3', 'S3', 'S3', 'S3', 'S3', 'S3', 'S3', 'S3', 'S3', 'S3', 'S3', 'S3', 'S3', 'S3', 'S4', 'S4', 'S4', 'S4', 'S4', 'S4', 'S4', 'S4', 'S4', 'S4', 'S4', 'S4', 'S4', 'S4', 'S4', 'S4', 'S4', 'S4', 'S4', 'S4', 'S4', 'S4', 'S4', 'S4', 'S5', 'S5', 'S5', 'S5', 'S5', 'S5', 'S5', 'S5', 'S5', 'S5', 'S5', 'S5', 'S5', 'S5', 'S5', 'S5', 'S5', 'S5', 'S5', 'S5', 'S5', 'S5', 'S5', 'S5', 'S6', 'S6', 'S6', 'S6', 'S6', 'S6', 'S6', 'S6', 'S6', 'S6', 'S6', 'S6', 'S6', 'S6', 'S6', 'S6', 'S6', 'S6', 'S6', 'S6', 'S6', 'S6', 'S6', 'S6', 'S7', 'S7', 'S7', 'S7', 'S7', 'S7', 'S7', 'S7', 'S7', 'S7', 'S7', 'S7', 'S7', 'S7', 'S7', 'S7', 'S7', 'S7', 'S7', 'S7', 'S7', 'S7', 'S7', 'S7', 'S8', 'S8', 'S8', 'S8', 'S8', 'S8', 'S8', 'S8', 'S8', 'S8', 'S8', 'S8', 'S8', 'S8', 'S8', 'S8', 'S8', 'S8', 'S8', 'S8', 'S8', 'S8', 'S8', 'S8', 'S9', 'S9', 'S9', 'S9', 'S9', 'S9', 'S9', 'S9', 'S9', 'S9', 'S9', 'S9', 'S9', 'S9', 'S9', 'S9', 'S9', 'S9', 'S9', 'S9', 'S9', 'S9', 'S9', 'S9', 'S10', 'S10', 'S10', 'S10', 'S10', 'S10', 'S10', 'S10', 'S10', 'S10', 'S10', 'S10', 'S10', 'S10', 'S10', 'S10', 'S10', 'S10', 'S10', 'S10', 'S10', 'S10', 'S10', 'S10', 'S11', 'S11', 'S11', 'S11', 'S11', 'S11', 'S11', 'S11', 'S11', 'S11', 'S11', 'S11', 'S11', 'S11', 'S11', 'S11', 'S11', 'S11', 'S11', 'S11', 'S11', 'S11', 'S11', 'S11', 'S12', 'S12', 'S12', 'S12', 'S12', 'S12', 'S12', 'S12', 'S12', 'S12', 'S12', 'S12', 'S12', 'S12', 'S12', 'S12', 'S12', 'S12', 'S12', 'S12', 'S12', 'S12', 'S12', 'S12']\n",
      "['Mon, Sep 24, 2007', 'Mon, Oct 1, 2007', 'Mon, Oct 8, 2007', 'Mon, Oct 15, 2007', 'Mon, Oct 22, 2007', 'Mon, Oct 29, 2007', 'Mon, Nov 5, 2007', 'Mon, Nov 12, 2007', 'Mon, Mar 17, 2008', 'Mon, Mar 24, 2008', 'Mon, Mar 31, 2008', 'Mon, Apr 14, 2008', 'Mon, Apr 21, 2008', 'Mon, Apr 28, 2008', 'Mon, May 5, 2008', 'Mon, May 12, 2008', 'Mon, May 19, 2008', 'Mon, Sep 22, 2008', 'Mon, Sep 29, 2008', 'Mon, Oct 6, 2008', 'Mon, Oct 13, 2008', 'Mon, Oct 20, 2008', 'Mon, Nov 3, 2008', 'Mon, Nov 10, 2008', 'Mon, Nov 17, 2008', 'Mon, Nov 24, 2008', 'Mon, Dec 8, 2008', 'Mon, Dec 15, 2008', 'Mon, Jan 12, 2009', 'Mon, Jan 19, 2009', 'Mon, Feb 2, 2009', 'Mon, Feb 9, 2009', 'Mon, Mar 2, 2009', 'Mon, Mar 9, 2009', 'Mon, Mar 16, 2009', 'Mon, Mar 30, 2009', 'Mon, Apr 13, 2009', 'Mon, Apr 27, 2009', 'Mon, May 4, 2009', 'Mon, May 11, 2009', 'Mon, Sep 21, 2009', 'Mon, Sep 28, 2009', 'Mon, Oct 5, 2009', 'Mon, Oct 12, 2009', 'Mon, Oct 19, 2009', 'Mon, Nov 2, 2009', 'Mon, Nov 9, 2009', 'Mon, Nov 16, 2009', 'Mon, Nov 23, 2009', 'Mon, Dec 7, 2009', 'Mon, Dec 14, 2009', 'Mon, Jan 11, 2010', 'Mon, Jan 18, 2010', 'Mon, Feb 1, 2010', 'Mon, Feb 8, 2010', 'Mon, Mar 1, 2010', 'Mon, Mar 8, 2010', 'Mon, Mar 22, 2010', 'Mon, Apr 12, 2010', 'Mon, May 3, 2010', 'Mon, May 10, 2010', 'Mon, May 17, 2010', 'Mon, May 24, 2010', 'Thu, Sep 23, 2010', 'Thu, Sep 30, 2010', 'Thu, Oct 7, 2010', 'Thu, Oct 14, 2010', 'Thu, Oct 21, 2010', 'Thu, Oct 28, 2010', 'Thu, Nov 4, 2010', 'Thu, Nov 11, 2010', 'Thu, Nov 18, 2010', 'Thu, Dec 9, 2010', 'Thu, Dec 16, 2010', 'Thu, Jan 6, 2011', 'Thu, Jan 20, 2011', 'Thu, Feb 3, 2011', 'Thu, Feb 10, 2011', 'Thu, Feb 17, 2011', 'Thu, Feb 24, 2011', 'Thu, Mar 10, 2011', 'Thu, Mar 31, 2011', 'Thu, Apr 7, 2011', 'Thu, Apr 28, 2011', 'Thu, May 5, 2011', 'Thu, May 12, 2011', 'Thu, May 19, 2011', 'Thu, Sep 22, 2011', 'Thu, Sep 22, 2011', 'Thu, Sep 29, 2011', 'Thu, Oct 6, 2011', 'Thu, Oct 13, 2011', 'Thu, Oct 20, 2011', 'Thu, Oct 27, 2011', 'Thu, Nov 3, 2011', 'Thu, Nov 10, 2011', 'Thu, Nov 17, 2011', 'Thu, Dec 8, 2011', 'Thu, Jan 12, 2012', 'Thu, Jan 19, 2012', 'Thu, Jan 26, 2012', 'Thu, Feb 2, 2012', 'Thu, Feb 9, 2012', 'Thu, Feb 16, 2012', 'Thu, Feb 23, 2012', 'Thu, Mar 8, 2012', 'Thu, Mar 29, 2012', 'Thu, Apr 5, 2012', 'Thu, Apr 26, 2012', 'Thu, May 3, 2012', 'Thu, May 10, 2012', 'Thu, Sep 27, 2012', 'Thu, Oct 4, 2012', 'Thu, Oct 11, 2012', 'Thu, Oct 18, 2012', 'Thu, Oct 25, 2012', 'Thu, Nov 1, 2012', 'Thu, Nov 8, 2012', 'Thu, Nov 15, 2012', 'Thu, Nov 29, 2012', 'Thu, Dec 6, 2012', 'Thu, Dec 13, 2012', 'Thu, Jan 3, 2013', 'Thu, Jan 10, 2013', 'Thu, Jan 31, 2013', 'Thu, Feb 7, 2013', 'Thu, Feb 14, 2013', 'Thu, Feb 21, 2013', 'Thu, Mar 7, 2013', 'Thu, Mar 14, 2013', 'Thu, Apr 4, 2013', 'Thu, Apr 25, 2013', 'Thu, May 2, 2013', 'Thu, May 9, 2013', 'Thu, May 16, 2013', 'Thu, Sep 26, 2013', 'Thu, Sep 26, 2013', 'Thu, Oct 3, 2013', 'Thu, Oct 10, 2013', 'Thu, Oct 17, 2013', 'Thu, Oct 24, 2013', 'Thu, Nov 7, 2013', 'Thu, Nov 14, 2013', 'Thu, Nov 21, 2013', 'Thu, Dec 5, 2013', 'Thu, Dec 12, 2013', 'Thu, Jan 2, 2014', 'Thu, Jan 9, 2014', 'Thu, Jan 30, 2014', 'Thu, Feb 6, 2014', 'Thu, Feb 27, 2014', 'Thu, Mar 6, 2014', 'Thu, Mar 13, 2014', 'Thu, Apr 3, 2014', 'Thu, Apr 10, 2014', 'Thu, Apr 24, 2014', 'Thu, May 1, 2014', 'Thu, May 8, 2014', 'Thu, May 15, 2014', 'Mon, Sep 22, 2014', 'Mon, Sep 22, 2014', 'Mon, Sep 29, 2014', 'Mon, Oct 6, 2014', 'Mon, Oct 13, 2014', 'Mon, Oct 20, 2014', 'Thu, Oct 30, 2014', 'Thu, Nov 6, 2014', 'Thu, Nov 13, 2014', 'Thu, Nov 20, 2014', 'Thu, Dec 11, 2014', 'Thu, Jan 8, 2015', 'Thu, Jan 29, 2015', 'Thu, Feb 5, 2015', 'Thu, Feb 19, 2015', 'Thu, Feb 26, 2015', 'Thu, Mar 5, 2015', 'Thu, Mar 12, 2015', 'Thu, Apr 2, 2015', 'Thu, Apr 9, 2015', 'Thu, Apr 16, 2015', 'Thu, Apr 23, 2015', 'Thu, Apr 30, 2015', 'Thu, May 7, 2015', 'Mon, Sep 21, 2015', 'Mon, Sep 28, 2015', 'Mon, Oct 5, 2015', 'Mon, Oct 12, 2015', 'Mon, Oct 19, 2015', 'Mon, Oct 26, 2015', 'Thu, Nov 5, 2015', 'Thu, Nov 12, 2015', 'Thu, Nov 19, 2015', 'Thu, Dec 10, 2015', 'Thu, Dec 17, 2015', 'Thu, Jan 7, 2016', 'Thu, Jan 14, 2016', 'Thu, Feb 4, 2016', 'Thu, Feb 11, 2016', 'Thu, Feb 18, 2016', 'Thu, Feb 25, 2016', 'Thu, Mar 10, 2016', 'Thu, Mar 31, 2016', 'Thu, Apr 7, 2016', 'Thu, Apr 21, 2016', 'Thu, Apr 28, 2016', 'Thu, May 5, 2016', 'Thu, May 12, 2016', 'Mon, Sep 19, 2016', 'Mon, Sep 26, 2016', 'Mon, Oct 3, 2016', 'Mon, Oct 10, 2016', 'Mon, Oct 17, 2016', 'Thu, Oct 27, 2016', 'Thu, Nov 3, 2016', 'Thu, Nov 10, 2016', 'Thu, Nov 17, 2016', 'Thu, Dec 1, 2016', 'Thu, Dec 15, 2016', 'Thu, Jan 5, 2017', 'Thu, Jan 19, 2017', 'Thu, Feb 2, 2017', 'Thu, Feb 9, 2017', 'Thu, Feb 16, 2017', 'Thu, Feb 23, 2017', 'Thu, Mar 9, 2017', 'Thu, Mar 30, 2017', 'Thu, Apr 6, 2017', 'Thu, Apr 13, 2017', 'Thu, Apr 27, 2017', 'Thu, May 4, 2017', 'Thu, May 11, 2017', 'Mon, Sep 25, 2017', 'Mon, Oct 2, 2017', 'Mon, Oct 9, 2017', 'Mon, Oct 16, 2017', 'Mon, Oct 23, 2017', 'Thu, Nov 2, 2017', 'Thu, Nov 9, 2017', 'Thu, Nov 16, 2017', 'Thu, Nov 30, 2017', 'Thu, Dec 7, 2017', 'Thu, Dec 14, 2017', 'Thu, Jan 4, 2018', 'Thu, Jan 11, 2018', 'Thu, Jan 18, 2018', 'Thu, Feb 1, 2018', 'Thu, Mar 1, 2018', 'Thu, Mar 8, 2018', 'Thu, Mar 29, 2018', 'Thu, Apr 5, 2018', 'Thu, Apr 12, 2018', 'Thu, Apr 19, 2018', 'Thu, Apr 26, 2018', 'Thu, May 3, 2018', 'Thu, May 10, 2018', 'Mon, Sep 24, 2018', 'Thu, Sep 27, 2018', 'Thu, Oct 4, 2018', 'Thu, Oct 11, 2018', 'Thu, Oct 18, 2018', 'Thu, Oct 25, 2018', 'Thu, Nov 1, 2018', 'Thu, Nov 8, 2018', 'Thu, Nov 15, 2018', 'Thu, Dec 6, 2018', 'Thu, Jan 3, 2019', 'Thu, Jan 10, 2019', 'Thu, Jan 17, 2019', 'Thu, Jan 31, 2019', 'Thu, Feb 7, 2019', 'Thu, Feb 21, 2019', 'Thu, Mar 7, 2019', 'Thu, Apr 4, 2019', 'Thu, Apr 18, 2019', 'Thu, Apr 25, 2019', 'Thu, May 2, 2019', 'Thu, May 9, 2019', 'Thu, May 16, 2019', 'Thu, May 16, 2019']\n",
      "['8.1', '8.2', '7.6', '8.0', '7.9', '8.3', '8.1', '8.2', '8.0', '8.0', '8.2', '7.8', '8.2', '8.0', '8.2', '8.3', '8.5', '8.2', '8.0', '8.7', '7.9', '8.3', '8.2', '8.6', '8.0', '8.1', '7.6', '9.1', '7.9', '7.9', '8.0', '8.8', '8.1', '8.0', '8.1', '8.1', '7.9', '8.5', '8.1', '8.2', '8.3', '7.7', '8.1', '8.0', '8.3', '7.4', '7.8', '8.9', '8.3', '8.4', '8.3', '8.2', '8.0', '8.4', '8.0', '8.2', '8.4', '8.4', '7.8', '8.1', '8.1', '9.0', '8.6', '8.7', '8.3', '7.9', '8.0', '7.6', '8.0', '8.0', '8.1', '8.4', '7.6', '8.6', '7.5', '8.2', '7.7', '7.7', '7.8', '7.9', '8.1', '8.0', '8.2', '8.2', '7.8', '8.0', '8.5', '8.0', '8.0', '7.7', '7.8', '8.0', '7.5', '8.5', '7.6', '8.1', '7.9', '7.3', '7.6', '8.1', '8.2', '7.7', '7.6', '7.8', '8.2', '8.1', '8.1', '8.5', '7.7', '8.1', '8.5', '7.6', '7.6', '7.9', '8.2', '8.0', '7.8', '7.6', '8.4', '8.2', '8.0', '7.8', '8.4', '8.4', '7.8', '8.2', '7.8', '7.6', '7.7', '8.1', '8.0', '8.0', '7.9', '8.1', '7.7', '7.8', '7.9', '8.7', '7.8', '7.6', '8.4', '7.7', '7.5', '8.8', '7.6', '8.1', '7.4', '7.5', '7.9', '8.2', '7.6', '7.4', '7.4', '8.1', '8.0', '7.5', '7.7', '7.8', '8.0', '7.2', '7.5', '7.0', '7.2', '7.5', '7.2', '7.7', '8.0', '7.5', '7.0', '7.4', '7.2', '7.4', '8.0', '8.0', '7.8', '7.5', '7.3', '7.5', '7.5', '7.0', '7.3', '7.5', '7.9', '6.8', '7.3', '7.7', '7.4', '7.4', '7.2', '7.9', '7.9', '7.8', '8.3', '9.0', '7.4', '7.4', '7.5', '7.5', '7.4', '7.5', '7.5', '7.4', '7.4', '7.4', '7.4', '7.4', '7.8', '7.7', '7.3', '7.2', '7.9', '7.4', '7.4', '7.9', '8.0', '7.4', '7.3', '7.5', '7.3', '6.9', '7.2', '7.3', '7.1', '7.4', '7.1', '7.1', '7.2', '7.2', '6.8', '7.1', '8.5', '7.5', '7.2', '7.0', '7.1', '7.3', '7.2', '7.4', '7.1', '7.7', '7.3', '7.1', '7.4', '7.2', '7.2', '7.5', '7.1', '6.8', '7.1', '7.2', '7.1', '7.4', '7.2', '7.7', '9.0', '7.2', '7.6', '7.2', '7.0', '6.8', '8.2', '7.3', '7.3', '7.2', '7.4', '7.3', '7.1', '7.1', '7.1', '7.4', '7.9', '7.1', '7.1', '7.0', '7.1', '7.2', '7.9', '9.0', '9.5']\n"
     ]
    }
   ],
   "source": [
    "print(season_list)\n",
    "print(date_list)\n",
    "print(rate_list)\n"
   ]
  },
  {
   "cell_type": "code",
   "execution_count": 207,
   "metadata": {},
   "outputs": [
    {
     "data": {
      "text/html": [
       "<div>\n",
       "<style scoped>\n",
       "    .dataframe tbody tr th:only-of-type {\n",
       "        vertical-align: middle;\n",
       "    }\n",
       "\n",
       "    .dataframe tbody tr th {\n",
       "        vertical-align: top;\n",
       "    }\n",
       "\n",
       "    .dataframe thead th {\n",
       "        text-align: right;\n",
       "    }\n",
       "</style>\n",
       "<table border=\"1\" class=\"dataframe\">\n",
       "  <thead>\n",
       "    <tr style=\"text-align: right;\">\n",
       "      <th></th>\n",
       "      <th>시즌</th>\n",
       "      <th>방영일자</th>\n",
       "      <th>별점</th>\n",
       "    </tr>\n",
       "  </thead>\n",
       "  <tbody>\n",
       "    <tr>\n",
       "      <th>0</th>\n",
       "      <td>S1</td>\n",
       "      <td>Mon, Sep 24, 2007</td>\n",
       "      <td>8.1</td>\n",
       "    </tr>\n",
       "    <tr>\n",
       "      <th>1</th>\n",
       "      <td>S1</td>\n",
       "      <td>Mon, Oct 1, 2007</td>\n",
       "      <td>8.2</td>\n",
       "    </tr>\n",
       "    <tr>\n",
       "      <th>2</th>\n",
       "      <td>S1</td>\n",
       "      <td>Mon, Oct 8, 2007</td>\n",
       "      <td>7.6</td>\n",
       "    </tr>\n",
       "    <tr>\n",
       "      <th>3</th>\n",
       "      <td>S1</td>\n",
       "      <td>Mon, Oct 15, 2007</td>\n",
       "      <td>8.0</td>\n",
       "    </tr>\n",
       "    <tr>\n",
       "      <th>4</th>\n",
       "      <td>S1</td>\n",
       "      <td>Mon, Oct 22, 2007</td>\n",
       "      <td>7.9</td>\n",
       "    </tr>\n",
       "    <tr>\n",
       "      <th>...</th>\n",
       "      <td>...</td>\n",
       "      <td>...</td>\n",
       "      <td>...</td>\n",
       "    </tr>\n",
       "    <tr>\n",
       "      <th>274</th>\n",
       "      <td>S12</td>\n",
       "      <td>Thu, Apr 25, 2019</td>\n",
       "      <td>7.1</td>\n",
       "    </tr>\n",
       "    <tr>\n",
       "      <th>275</th>\n",
       "      <td>S12</td>\n",
       "      <td>Thu, May 2, 2019</td>\n",
       "      <td>7.2</td>\n",
       "    </tr>\n",
       "    <tr>\n",
       "      <th>276</th>\n",
       "      <td>S12</td>\n",
       "      <td>Thu, May 9, 2019</td>\n",
       "      <td>7.9</td>\n",
       "    </tr>\n",
       "    <tr>\n",
       "      <th>277</th>\n",
       "      <td>S12</td>\n",
       "      <td>Thu, May 16, 2019</td>\n",
       "      <td>9.0</td>\n",
       "    </tr>\n",
       "    <tr>\n",
       "      <th>278</th>\n",
       "      <td>S12</td>\n",
       "      <td>Thu, May 16, 2019</td>\n",
       "      <td>9.5</td>\n",
       "    </tr>\n",
       "  </tbody>\n",
       "</table>\n",
       "<p>279 rows × 3 columns</p>\n",
       "</div>"
      ],
      "text/plain": [
       "      시즌               방영일자   별점\n",
       "0     S1  Mon, Sep 24, 2007  8.1\n",
       "1     S1   Mon, Oct 1, 2007  8.2\n",
       "2     S1   Mon, Oct 8, 2007  7.6\n",
       "3     S1  Mon, Oct 15, 2007  8.0\n",
       "4     S1  Mon, Oct 22, 2007  7.9\n",
       "..   ...                ...  ...\n",
       "274  S12  Thu, Apr 25, 2019  7.1\n",
       "275  S12   Thu, May 2, 2019  7.2\n",
       "276  S12   Thu, May 9, 2019  7.9\n",
       "277  S12  Thu, May 16, 2019  9.0\n",
       "278  S12  Thu, May 16, 2019  9.5\n",
       "\n",
       "[279 rows x 3 columns]"
      ]
     },
     "execution_count": 207,
     "metadata": {},
     "output_type": "execute_result"
    }
   ],
   "source": [
    "bigbang_df = pd.DataFrame()\n",
    "bigbang_df[\"시즌\"] = season_list\n",
    "bigbang_df[\"방영일자\"] = date_list\n",
    "bigbang_df[\"별점\"] = rate_list\n",
    "bigbang_df"
   ]
  },
  {
   "cell_type": "code",
   "execution_count": 200,
   "metadata": {},
   "outputs": [],
   "source": [
    "driver.close()"
   ]
  },
  {
   "cell_type": "code",
   "execution_count": null,
   "metadata": {},
   "outputs": [],
   "source": []
  }
 ],
 "metadata": {
  "kernelspec": {
   "display_name": "test_venv",
   "language": "python",
   "name": "python3"
  },
  "language_info": {
   "codemirror_mode": {
    "name": "ipython",
    "version": 3
   },
   "file_extension": ".py",
   "mimetype": "text/x-python",
   "name": "python",
   "nbconvert_exporter": "python",
   "pygments_lexer": "ipython3",
   "version": "3.10.12"
  }
 },
 "nbformat": 4,
 "nbformat_minor": 2
}
