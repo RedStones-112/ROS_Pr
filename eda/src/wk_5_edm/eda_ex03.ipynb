{
 "cells": [
  {
   "cell_type": "code",
   "execution_count": 2,
   "metadata": {},
   "outputs": [],
   "source": [
    "import pandas as pd\n",
    "from selenium import webdriver\n",
    "from selenium.webdriver.chrome.service import Service\n",
    "from selenium.webdriver.chrome.options import Options\n",
    "from tqdm.notebook import tqdm\n",
    "from selenium.webdriver.support.wait import WebDriverWait\n",
    "from selenium.webdriver.common.keys import Keys\n",
    "from selenium.webdriver.support import expected_conditions as EC\n",
    "from selenium.webdriver.common.action_chains import ActionChains\n",
    "import time\n",
    "from selenium.webdriver.common.by import By\n",
    "import urllib\n"
   ]
  },
  {
   "cell_type": "code",
   "execution_count": 3,
   "metadata": {},
   "outputs": [],
   "source": [
    "options = webdriver.ChromeOptions()\n",
    "prefs = {\"download.default_directory\":\"/home/rds/amr_ws/edm/data\",\n",
    "         \"download.prompt_for_download\":False}\n",
    "options.add_experimental_option(\"prefs\",prefs)\n",
    "url =\"https://land.naver.com/\"\n",
    "driver = webdriver.Chrome(service=Service(\"../../driver/chromedriver-linux64/chromedriver\"),\n",
    "                          options=options)\n",
    "driver.get(url)"
   ]
  },
  {
   "cell_type": "code",
   "execution_count": 137,
   "metadata": {},
   "outputs": [],
   "source": [
    "seach_gu = driver.find_element(By.XPATH,\"\"\"/html/body/div[2]\"\"\")\n",
    "gu_names = seach_gu.find_elements(By.TAG_NAME,\"li\")\n",
    "\n",
    "for i in range(len(gu_names)):# 클릭과정에 문제발생\n",
    "    seach_gu = driver.find_element(By.XPATH,\"\"\"/html/body/div[2]\"\"\")\n",
    "    gu_names = seach_gu.find_elements(By.TAG_NAME,\"li\")\n",
    "    \n",
    "    seach_box_gu = driver.find_element(By.ID, \"loc_view2\")\n",
    "    click_gu = seach_box_gu.find_element(By.CLASS_NAME, \"selectbox-box\")\n",
    "\n",
    "    click_gu.click()\n",
    "    gu_wait = WebDriverWait(driver, timeout=30).until(EC.element_to_be_clickable(\n",
    "        (gu_names[i])))#클릭과정에 문제발생 임의조치\n",
    "    gu_wait.click()\n",
    "\n",
    "    items_box = driver.find_element(By.XPATH, \"\"\"//*[@id=\"complex_map\"]/div[1]/div/div[1]/div[3]/div[1]/div/div[1]\"\"\")\n",
    "    items_list = items_box.find_elements(By.TAG_NAME,\"a\")\n",
    "\n",
    "\n",
    "    time.sleep(1)\n",
    "    driver.back()\n",
    "    time.sleep(1)"
   ]
  },
  {
   "cell_type": "code",
   "execution_count": 138,
   "metadata": {},
   "outputs": [
    {
     "name": "stdout",
     "output_type": "stream",
     "text": [
      "<selenium.webdriver.remote.webelement.WebElement (session=\"a7550c3977556d6e20e56adb23c64722\", element=\"C87F288A863BB5CCD4BCBD823CA8695E_element_7038\")>\n",
      "[<selenium.webdriver.remote.webelement.WebElement (session=\"a7550c3977556d6e20e56adb23c64722\", element=\"C87F288A863BB5CCD4BCBD823CA8695E_element_7039\")>, <selenium.webdriver.remote.webelement.WebElement (session=\"a7550c3977556d6e20e56adb23c64722\", element=\"C87F288A863BB5CCD4BCBD823CA8695E_element_7040\")>, <selenium.webdriver.remote.webelement.WebElement (session=\"a7550c3977556d6e20e56adb23c64722\", element=\"C87F288A863BB5CCD4BCBD823CA8695E_element_7041\")>, <selenium.webdriver.remote.webelement.WebElement (session=\"a7550c3977556d6e20e56adb23c64722\", element=\"C87F288A863BB5CCD4BCBD823CA8695E_element_7042\")>, <selenium.webdriver.remote.webelement.WebElement (session=\"a7550c3977556d6e20e56adb23c64722\", element=\"C87F288A863BB5CCD4BCBD823CA8695E_element_7043\")>, <selenium.webdriver.remote.webelement.WebElement (session=\"a7550c3977556d6e20e56adb23c64722\", element=\"C87F288A863BB5CCD4BCBD823CA8695E_element_7044\")>, <selenium.webdriver.remote.webelement.WebElement (session=\"a7550c3977556d6e20e56adb23c64722\", element=\"C87F288A863BB5CCD4BCBD823CA8695E_element_7045\")>, <selenium.webdriver.remote.webelement.WebElement (session=\"a7550c3977556d6e20e56adb23c64722\", element=\"C87F288A863BB5CCD4BCBD823CA8695E_element_7046\")>, <selenium.webdriver.remote.webelement.WebElement (session=\"a7550c3977556d6e20e56adb23c64722\", element=\"C87F288A863BB5CCD4BCBD823CA8695E_element_7047\")>, <selenium.webdriver.remote.webelement.WebElement (session=\"a7550c3977556d6e20e56adb23c64722\", element=\"C87F288A863BB5CCD4BCBD823CA8695E_element_7048\")>, <selenium.webdriver.remote.webelement.WebElement (session=\"a7550c3977556d6e20e56adb23c64722\", element=\"C87F288A863BB5CCD4BCBD823CA8695E_element_7049\")>, <selenium.webdriver.remote.webelement.WebElement (session=\"a7550c3977556d6e20e56adb23c64722\", element=\"C87F288A863BB5CCD4BCBD823CA8695E_element_7050\")>, <selenium.webdriver.remote.webelement.WebElement (session=\"a7550c3977556d6e20e56adb23c64722\", element=\"C87F288A863BB5CCD4BCBD823CA8695E_element_7051\")>, <selenium.webdriver.remote.webelement.WebElement (session=\"a7550c3977556d6e20e56adb23c64722\", element=\"C87F288A863BB5CCD4BCBD823CA8695E_element_7052\")>, <selenium.webdriver.remote.webelement.WebElement (session=\"a7550c3977556d6e20e56adb23c64722\", element=\"C87F288A863BB5CCD4BCBD823CA8695E_element_7053\")>, <selenium.webdriver.remote.webelement.WebElement (session=\"a7550c3977556d6e20e56adb23c64722\", element=\"C87F288A863BB5CCD4BCBD823CA8695E_element_7054\")>, <selenium.webdriver.remote.webelement.WebElement (session=\"a7550c3977556d6e20e56adb23c64722\", element=\"C87F288A863BB5CCD4BCBD823CA8695E_element_7055\")>, <selenium.webdriver.remote.webelement.WebElement (session=\"a7550c3977556d6e20e56adb23c64722\", element=\"C87F288A863BB5CCD4BCBD823CA8695E_element_7056\")>, <selenium.webdriver.remote.webelement.WebElement (session=\"a7550c3977556d6e20e56adb23c64722\", element=\"C87F288A863BB5CCD4BCBD823CA8695E_element_7057\")>, <selenium.webdriver.remote.webelement.WebElement (session=\"a7550c3977556d6e20e56adb23c64722\", element=\"C87F288A863BB5CCD4BCBD823CA8695E_element_7058\")>, <selenium.webdriver.remote.webelement.WebElement (session=\"a7550c3977556d6e20e56adb23c64722\", element=\"C87F288A863BB5CCD4BCBD823CA8695E_element_7059\")>, <selenium.webdriver.remote.webelement.WebElement (session=\"a7550c3977556d6e20e56adb23c64722\", element=\"C87F288A863BB5CCD4BCBD823CA8695E_element_7060\")>, <selenium.webdriver.remote.webelement.WebElement (session=\"a7550c3977556d6e20e56adb23c64722\", element=\"C87F288A863BB5CCD4BCBD823CA8695E_element_7061\")>, <selenium.webdriver.remote.webelement.WebElement (session=\"a7550c3977556d6e20e56adb23c64722\", element=\"C87F288A863BB5CCD4BCBD823CA8695E_element_7062\")>, <selenium.webdriver.remote.webelement.WebElement (session=\"a7550c3977556d6e20e56adb23c64722\", element=\"C87F288A863BB5CCD4BCBD823CA8695E_element_7063\")>]\n",
      "<selenium.webdriver.remote.webelement.WebElement (session=\"a7550c3977556d6e20e56adb23c64722\", element=\"C87F288A863BB5CCD4BCBD823CA8695E_element_7039\")>\n"
     ]
    }
   ],
   "source": [
    "# print(seach_gu)\n",
    "# print(gu_names)\n",
    "# print(gu_names[0])"
   ]
  },
  {
   "cell_type": "code",
   "execution_count": 132,
   "metadata": {},
   "outputs": [],
   "source": [
    "# seach_gu = driver.find_element(By.XPATH,\"\"\"/html/body/div[2]\"\"\")\n",
    "# gu_names = seach_gu.find_elements(By.TAG_NAME,\"li\")\n",
    "\n",
    "# seach_box_gu = driver.find_element(By.ID, \"loc_view2\")\n",
    "# click_gu = seach_box_gu.find_element(By.CLASS_NAME, \"selectbox-box\")\n",
    "# click_gu.click()\n",
    "# time.sleep(1)\n",
    "# gu_names[1].click()"
   ]
  },
  {
   "cell_type": "code",
   "execution_count": 133,
   "metadata": {},
   "outputs": [],
   "source": [
    "driver.back()"
   ]
  },
  {
   "cell_type": "code",
   "execution_count": null,
   "metadata": {},
   "outputs": [],
   "source": [
    "driver.close()"
   ]
  }
 ],
 "metadata": {
  "kernelspec": {
   "display_name": "test_venv",
   "language": "python",
   "name": "python3"
  },
  "language_info": {
   "codemirror_mode": {
    "name": "ipython",
    "version": 3
   },
   "file_extension": ".py",
   "mimetype": "text/x-python",
   "name": "python",
   "nbconvert_exporter": "python",
   "pygments_lexer": "ipython3",
   "version": "3.10.12"
  }
 },
 "nbformat": 4,
 "nbformat_minor": 2
}
