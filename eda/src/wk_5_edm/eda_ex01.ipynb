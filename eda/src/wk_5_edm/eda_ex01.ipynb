{
 "cells": [
  {
   "cell_type": "code",
   "execution_count": 2,
   "metadata": {},
   "outputs": [],
   "source": [
    "import pandas as pd\n",
    "from selenium import webdriver\n",
    "from selenium.webdriver.chrome.service import Service\n",
    "from selenium.webdriver.chrome.options import Options\n",
    "from tqdm.notebook import tqdm\n",
    "from selenium.webdriver.support.wait import WebDriverWait\n",
    "from selenium.webdriver.common.keys import Keys\n",
    "from selenium.webdriver.support import expected_conditions as EC\n",
    "from selenium.webdriver.common.action_chains import ActionChains\n",
    "import time\n",
    "from selenium.webdriver.common.by import By\n",
    "import urllib"
   ]
  },
  {
   "cell_type": "code",
   "execution_count": 7,
   "metadata": {},
   "outputs": [],
   "source": [
    "options = webdriver.ChromeOptions()\n",
    "prefs = {\"download.default_directory\":\"/home/rds/amr_ws/edm/data\",\n",
    "         \"download.prompt_for_download\":False}\n",
    "options.add_experimental_option(\"prefs\",prefs)\n",
    "url = \"https://www.opinet.co.kr/searRgSelect.do\"\n",
    "driver = webdriver.Chrome(service=Service(\"../../driver/chromedriver-linux64/chromedriver\"),\n",
    "                          options=options)\n",
    "driver.get(url)"
   ]
  },
  {
   "cell_type": "code",
   "execution_count": 8,
   "metadata": {},
   "outputs": [
    {
     "name": "stdout",
     "output_type": "stream",
     "text": [
      "0. \n",
      "1. 서울특별시\n",
      "2. 부산광역시\n",
      "3. 대구광역시\n",
      "4. 인천광역시\n",
      "5. 광주광역시\n",
      "6. 대전광역시\n",
      "7. 울산광역시\n",
      "8. 세종특별자치시\n",
      "9. 경기도\n",
      "10. 강원특별자치도\n",
      "11. 충청북도\n",
      "12. 충청남도\n",
      "13. 전라북도\n",
      "14. 전라남도\n",
      "15. 경상북도\n",
      "16. 경상남도\n",
      "17. 제주특별자치도\n"
     ]
    }
   ],
   "source": [
    "sido = driver.find_element(By.ID, \"SIDO_NM0\")\n",
    "sido_list = sido.find_elements(By.TAG_NAME, \"option\")\n",
    "for idx, sido_name in enumerate(sido_list):\n",
    "    print(str(idx) + \". \" + sido_name.get_attribute(\"value\"))\n",
    "\n",
    "sido_names = [sido_name.get_attribute(\"value\") for sido_name in sido_list]\n",
    "sido_names = sido_names[1:]\n",
    "sido.send_keys(sido_names[0])"
   ]
  },
  {
   "cell_type": "code",
   "execution_count": 9,
   "metadata": {},
   "outputs": [],
   "source": [
    "gu = driver.find_element(By.ID, \"SIGUNGU_NM0\")\n",
    "gu_list = gu.find_elements(By.TAG_NAME, \"option\")\n",
    "gu_names = [gu_name.get_attribute(\"value\") for gu_name in gu_list]\n",
    "gu_names = gu_names[1:]\n"
   ]
  },
  {
   "cell_type": "code",
   "execution_count": 13,
   "metadata": {},
   "outputs": [],
   "source": [
    "import time\n",
    "from bs4 import BeautifulSoup\n",
    "\n",
    "oil_price_D = []\n",
    "oil_price_G = []\n",
    "oil_address = []\n",
    "oil_names = []\n",
    "oil_brand = []\n",
    "oil_more_info = [[],[],[],[],[]]\n",
    "\n",
    "for gu_name in gu_names:\n",
    "    gu = driver.find_element(By.ID, \"SIGUNGU_NM0\")\n",
    "    gu.send_keys(gu_name)\n",
    "\n",
    "    oil_data = driver.find_element(By.TAG_NAME, \"tbody\")\n",
    "    oil_list = oil_data.find_elements(By.TAG_NAME, \"a\")\n",
    "    \n",
    "    \n",
    "    for oil_station in oil_list:\n",
    "        wait = WebDriverWait(driver, timeout=30).until(EC.element_to_be_clickable(\n",
    "            (By.TAG_NAME, \"a\")))\n",
    "        oil_station.click()\n",
    "        page = driver.page_source\n",
    "        \n",
    "        soup = BeautifulSoup(page, \"html.parser\")\n",
    "        \n",
    "\n",
    "\n",
    "        time.sleep(0.1)\n",
    "        oil_name = driver.find_element(By.ID, \"os_nm\")\n",
    "        oil_names.append(soup.find(id=\"os_nm\").string)\n",
    "        oil_address.append(soup.find(id=\"rd_addr\").string)\n",
    "        oil_brand.append(soup.find(id=\"poll_div_nm\").string)\n",
    "        oil_price_G.append(soup.find(id=\"b027_p\").string)\n",
    "        oil_price_D.append(soup.find(id=\"d047_p\").string)\n",
    "        \n",
    "        oil_more_info[0].append((soup.find(id=\"cwsh_yn\")[\"src\"]).find(\"off\"))\n",
    "        oil_more_info[1].append((soup.find(id=\"lpg_yn\")[\"src\"]).find(\"off\"))\n",
    "        oil_more_info[2].append((soup.find(id=\"maint_yn\")[\"src\"]).find(\"off\"))\n",
    "        oil_more_info[3].append((soup.find(id=\"cvs_yn\")[\"src\"]).find(\"off\"))\n",
    "        oil_more_info[4].append((soup.find(id=\"sel24_yn\")[\"src\"]).find(\"off\"))\n",
    "        \n",
    "    \n",
    "\n",
    " "
   ]
  },
  {
   "cell_type": "code",
   "execution_count": 14,
   "metadata": {},
   "outputs": [],
   "source": [
    "for i in range(len(oil_more_info)):\n",
    "    for j in range(len(oil_more_info[i])):\n",
    "        if oil_more_info[i][j] == -1:\n",
    "            oil_more_info[i][j] = 1\n",
    "        else:\n",
    "            oil_more_info[i][j] = 0\n",
    "\n",
    "\n"
   ]
  },
  {
   "cell_type": "code",
   "execution_count": 15,
   "metadata": {},
   "outputs": [
    {
     "name": "stdout",
     "output_type": "stream",
     "text": [
      "[1469.0, 1489.0, 1535.0, 1519.0, 1559.0, 1539.0, 1535.0, 1545.0, 1554.0, 1567.0, 1567.0, 1620.0, 1615.0, 1615.0, 1598.0, 1669.0, 1697.0, 1697.0, 1698.0, 1829.0, 1834.0, 1849.0, 1792.0, 1935.0, 2026.0, 2037.0, 2062.0, 1998.0, 2086.0, 2195.0, 2380.0, 2560.0, 1469.0, 1485.0, 1538.0, 1538.0, 1565.0, 1575.0, 1585.0, 1588.0, 1590.0, 1594.0, 1639.0, 1609.0, 1743.0, 1858.0, 1424.0, 1424.0, 1424.0, 1425.0, 1424.0, 1415.0, 1424.0, 1449.0, 1455.0, 1475.0, 1488.0, 1497.0, 1389.0, 1433.0, 1419.0, 1419.0, 1419.0, 1419.0, 1443.0, 1443.0, 1429.0, 1435.0, 1450.0, 1495.0, 1504.0, 1494.0, 1496.0, 1497.0, 1556.0, 1538.0, 1558.0, 1546.0, 1498.0, 1495.0, 1558.0, 1558.0, 1559.0, 1568.0, 1578.0, 1578.0, 1563.0, 1598.0, 1598.0, 1680.0, 1860.0, 1464.0, 1464.0, 1464.0, 1464.0, 1474.0, 1474.0, 1475.0, 1485.0, 1485.0, 1496.0, 1498.0, 1565.0, 1668.0, 1699.0, 1435.0, 1435.0, 1444.0, 1447.0, 1449.0, 1442.0, 1455.0, 1442.0, 1449.0, 1487.0, 1597.0, 1598.0, 1697.0, 1414.0, 1414.0, 1414.0, 1415.0, 1425.0, 1439.0, 1435.0, 1435.0, 1435.0, 1435.0, 1469.0, 1474.0, 1514.0, 1513.0, 1497.0, 1599.0, 1598.0, 1763.0, 2140.0, 1425.0, 1446.0, 1444.0, 1447.0, 1475.0, 1475.0, 1479.0, 1479.0, 1479.0, 1495.0, 1495.0, 1435.0, 1455.0, 1445.0, 1445.0, 1435.0, 1465.0, 1475.0, 1490.0, 1498.0, 1499.0, 1495.0, 1525.0, 1498.0, 1635.0, 1415.0, 1424.0, 1424.0, 1424.0, 1424.0, 1424.0, 1424.0, 1424.0, 1424.0, 1439.0, 1439.0, 1455.0, 1473.0, 1503.0, 1475.0, 1577.0, 1417.0, 1417.0, 1435.0, 1435.0, 1435.0, 1427.0, 1465.0, 1465.0, 1465.0, 1497.0, 1539.0, 1475.0, 1477.0, 1498.0, 1509.0, 1538.0, 1557.0, 1550.0, 1469.0, 1465.0, 1484.0, 1549.0, 1559.0, 1559.0, 1579.0, 1574.0, 1695.0, 1449.0, 1459.0, 1479.0, 1479.0, 1529.0, 1539.0, 1528.0, 1569.0, 1569.0, 1569.0, 1599.0, 1614.0, 1489.0, 1449.0, 1488.0, 1479.0, 1489.0, 1489.0, 1489.0, 1489.0, 1498.0, 1498.0, 1495.0, 1538.0, 1538.0, 1559.0, 1539.0, 1407.0, 1485.0, 1489.0, 1489.0, 1505.0, 1505.0, 1505.0, 1485.0, 1515.0, 1527.0, 1559.0, 1545.0, 1535.0, 1558.0, 1558.0, 1559.0, 1589.0, 1589.0, 1535.0, 1589.0, 1546.0, 1554.0, 1554.0, 1570.0, 1581.0, 1575.0, 1567.0, 1669.0, 1796.0, 1838.0, 1989.0, 1438.0, 1434.0, 1439.0, 1464.0, 1470.0, 1478.0, 1509.0, 1697.0, 1675.0, 1685.0, 1683.0, 1797.0, 1875.0, 1945.0, 2098.0, 1413.0, 1415.0, 1415.0, 1415.0, 1415.0, 1415.0, 1455.0, 1455.0, 1465.0, 1455.0, 1455.0, 1455.0, 1465.0, 1473.0, 1465.0, 1465.0, 1519.0, 1479.0, 1499.0, 1529.0, 1564.0, 1465.0, 1624.0, 1454.0, 1454.0, 1474.0, 1474.0, 1485.0, 1484.0, 1484.0, 1498.0, 1495.0, 1483.0, 1484.0, 1483.0, 1484.0, 1498.0, 1498.0, 1513.0, 1485.0, 1514.0, 1537.0, 1527.0, 1528.0, 1542.0, 1545.0, 1547.0, 1557.0, 1580.0, 1578.0, 1738.0, 1419.0, 1419.0, 1419.0, 1419.0, 1444.0, 1435.0, 1435.0, 1454.0, 1499.0, 1479.0, 1495.0, 1492.0, 1494.0, 1494.0, 1494.0, 1494.0, 1494.0, 1479.0, 1514.0, 1514.0, 1479.0, 1499.0, 1611.0, 1599.0, 1414.0, 1414.0, 1414.0, 1414.0, 1414.0, 1414.0, 1429.0, 1425.0, 1435.0, 1435.0, 1435.0, 1445.0, 1499.0, 1485.0, 1489.0, 1499.0, 1489.0, 1489.0, 1519.0, 1519.0, 1529.0, 1534.0, 1895.0, 1923.0, 1945.0, 2189.0, 2395.0, 1699.0, 1936.0, 1955.0, 1922.0, 1922.0, 1991.0, 1921.0, 1959.0, 2121.0, 2167.0, 2167.0, 2729.0, 1434.0, 1445.0, 1388.0, 1445.0, 1494.0, 1504.0, 1478.0, 1504.0, 1504.0, 1478.0, 1497.0, 1497.0, 1497.0, 1565.0, 1573.0, 1489.0, 1655.0, 1669.0, 1669.0, 1660.0, 2098.0, 2167.0, 2180.0, 2190.0, 1464.0, 1479.0, 1538.0, 1595.0, 1668.0, 1894.0, 1939.0, 1948.0, 2319.0, 2528.0, 1407.0, 1407.0, 1427.0, 1427.0, 1427.0, 1437.0, 1428.0, 1457.0, 1469.0, 1482.0, 1488.0, 1498.0, 1498.0]\n"
     ]
    }
   ],
   "source": [
    "for i in range(len(oil_price_D)):#가격에서 , 제외 후 float로 변경\n",
    "    oil_price_D[i] = float(oil_price_D[i].replace(\",\",\"\"))\n",
    "    oil_price_G[i] = float(oil_price_G[i].replace(\",\",\"\"))\n",
    "    \n",
    "\n",
    "\n",
    "print(oil_price_D)"
   ]
  },
  {
   "cell_type": "code",
   "execution_count": 16,
   "metadata": {},
   "outputs": [],
   "source": [
    "oil_df = pd.DataFrame(index=oil_names) #데이터 정리\n",
    "oil_df[\"주소\"] = oil_address\n",
    "oil_df[\"브랜드\"] = oil_brand\n",
    "oil_df[\"휘발유\"] = oil_price_G\n",
    "oil_df[\"경유\"] = oil_price_D\n",
    "oil_df[\"세차장\"] = oil_more_info[0]\n",
    "oil_df[\"충전소\"] = oil_more_info[1]\n",
    "oil_df[\"경정비\"] = oil_more_info[2]\n",
    "oil_df[\"편의점\"] = oil_more_info[3]\n",
    "oil_df[\"24시\"] = oil_more_info[4]"
   ]
  },
  {
   "cell_type": "code",
   "execution_count": 180,
   "metadata": {},
   "outputs": [
    {
     "data": {
      "text/html": [
       "<div>\n",
       "<style scoped>\n",
       "    .dataframe tbody tr th:only-of-type {\n",
       "        vertical-align: middle;\n",
       "    }\n",
       "\n",
       "    .dataframe tbody tr th {\n",
       "        vertical-align: top;\n",
       "    }\n",
       "\n",
       "    .dataframe thead th {\n",
       "        text-align: right;\n",
       "    }\n",
       "</style>\n",
       "<table border=\"1\" class=\"dataframe\">\n",
       "  <thead>\n",
       "    <tr style=\"text-align: right;\">\n",
       "      <th></th>\n",
       "      <th>주소</th>\n",
       "      <th>브랜드</th>\n",
       "      <th>휘발유</th>\n",
       "      <th>경유</th>\n",
       "      <th>세차장</th>\n",
       "      <th>충전소</th>\n",
       "      <th>경정비</th>\n",
       "      <th>편의점</th>\n",
       "      <th>24시</th>\n",
       "    </tr>\n",
       "  </thead>\n",
       "  <tbody>\n",
       "    <tr>\n",
       "      <th>(주)보성 세곡주유소</th>\n",
       "      <td>서울 강남구  헌릉로 731 (세곡동)</td>\n",
       "      <td>SK에너지</td>\n",
       "      <td>1559.0</td>\n",
       "      <td>1469.0</td>\n",
       "      <td>1</td>\n",
       "      <td>0</td>\n",
       "      <td>0</td>\n",
       "      <td>0</td>\n",
       "      <td>0</td>\n",
       "    </tr>\n",
       "    <tr>\n",
       "      <th>HD현대오일뱅크㈜직영 산성셀프주유소</th>\n",
       "      <td>서울 강남구 헌릉로 730</td>\n",
       "      <td>HD현대오일뱅크</td>\n",
       "      <td>1569.0</td>\n",
       "      <td>1489.0</td>\n",
       "      <td>1</td>\n",
       "      <td>0</td>\n",
       "      <td>0</td>\n",
       "      <td>0</td>\n",
       "      <td>0</td>\n",
       "    </tr>\n",
       "    <tr>\n",
       "      <th>삼성동주유소</th>\n",
       "      <td>서울 강남구 테헤란로 619 (삼성동)</td>\n",
       "      <td>HD현대오일뱅크</td>\n",
       "      <td>1573.0</td>\n",
       "      <td>1535.0</td>\n",
       "      <td>1</td>\n",
       "      <td>0</td>\n",
       "      <td>0</td>\n",
       "      <td>0</td>\n",
       "      <td>0</td>\n",
       "    </tr>\n",
       "    <tr>\n",
       "      <th>방죽주유소</th>\n",
       "      <td>서울 강남구 밤고개로 215 (율현동)</td>\n",
       "      <td>GS칼텍스</td>\n",
       "      <td>1597.0</td>\n",
       "      <td>1519.0</td>\n",
       "      <td>1</td>\n",
       "      <td>0</td>\n",
       "      <td>0</td>\n",
       "      <td>0</td>\n",
       "      <td>0</td>\n",
       "    </tr>\n",
       "    <tr>\n",
       "      <th>자곡셀프주유소</th>\n",
       "      <td>서울 강남구 밤고개로 120 (자곡동)</td>\n",
       "      <td>SK에너지</td>\n",
       "      <td>1598.0</td>\n",
       "      <td>1559.0</td>\n",
       "      <td>1</td>\n",
       "      <td>0</td>\n",
       "      <td>0</td>\n",
       "      <td>0</td>\n",
       "      <td>0</td>\n",
       "    </tr>\n",
       "    <tr>\n",
       "      <th>...</th>\n",
       "      <td>...</td>\n",
       "      <td>...</td>\n",
       "      <td>...</td>\n",
       "      <td>...</td>\n",
       "      <td>...</td>\n",
       "      <td>...</td>\n",
       "      <td>...</td>\n",
       "      <td>...</td>\n",
       "      <td>...</td>\n",
       "    </tr>\n",
       "    <tr>\n",
       "      <th>(주)태영 구도일주유소 한인</th>\n",
       "      <td>서울 중랑구 망우로 170 (상봉동)</td>\n",
       "      <td>S-OIL</td>\n",
       "      <td>1547.0</td>\n",
       "      <td>1457.0</td>\n",
       "      <td>1</td>\n",
       "      <td>0</td>\n",
       "      <td>1</td>\n",
       "      <td>0</td>\n",
       "      <td>0</td>\n",
       "    </tr>\n",
       "    <tr>\n",
       "      <th>신내주유소</th>\n",
       "      <td>서울 중랑구 용마산로 705 (신내동)</td>\n",
       "      <td>SK에너지</td>\n",
       "      <td>1563.0</td>\n",
       "      <td>1482.0</td>\n",
       "      <td>1</td>\n",
       "      <td>0</td>\n",
       "      <td>0</td>\n",
       "      <td>0</td>\n",
       "      <td>0</td>\n",
       "    </tr>\n",
       "    <tr>\n",
       "      <th>범아주유소</th>\n",
       "      <td>서울 중랑구 동일로 881 (묵동)</td>\n",
       "      <td>S-OIL</td>\n",
       "      <td>1588.0</td>\n",
       "      <td>1498.0</td>\n",
       "      <td>1</td>\n",
       "      <td>0</td>\n",
       "      <td>1</td>\n",
       "      <td>0</td>\n",
       "      <td>0</td>\n",
       "    </tr>\n",
       "    <tr>\n",
       "      <th>용마로주유소</th>\n",
       "      <td>서울 중랑구 용마산로 309 (면목동)</td>\n",
       "      <td>SK에너지</td>\n",
       "      <td>1588.0</td>\n",
       "      <td>1488.0</td>\n",
       "      <td>1</td>\n",
       "      <td>0</td>\n",
       "      <td>0</td>\n",
       "      <td>0</td>\n",
       "      <td>0</td>\n",
       "    </tr>\n",
       "    <tr>\n",
       "      <th>신일셀프주유소</th>\n",
       "      <td>서울 중랑구 상봉로 58 (망우동)</td>\n",
       "      <td>SK에너지</td>\n",
       "      <td>1598.0</td>\n",
       "      <td>1498.0</td>\n",
       "      <td>1</td>\n",
       "      <td>0</td>\n",
       "      <td>1</td>\n",
       "      <td>0</td>\n",
       "      <td>1</td>\n",
       "    </tr>\n",
       "  </tbody>\n",
       "</table>\n",
       "<p>364 rows × 9 columns</p>\n",
       "</div>"
      ],
      "text/plain": [
       "                                        주소       브랜드     휘발유      경유  세차장  \\\n",
       "(주)보성 세곡주유소          서울 강남구  헌릉로 731 (세곡동)     SK에너지  1559.0  1469.0    1   \n",
       "HD현대오일뱅크㈜직영 산성셀프주유소         서울 강남구 헌릉로 730  HD현대오일뱅크  1569.0  1489.0    1   \n",
       "삼성동주유소               서울 강남구 테헤란로 619 (삼성동)  HD현대오일뱅크  1573.0  1535.0    1   \n",
       "방죽주유소                서울 강남구 밤고개로 215 (율현동)     GS칼텍스  1597.0  1519.0    1   \n",
       "자곡셀프주유소              서울 강남구 밤고개로 120 (자곡동)     SK에너지  1598.0  1559.0    1   \n",
       "...                                    ...       ...     ...     ...  ...   \n",
       "(주)태영 구도일주유소 한인       서울 중랑구 망우로 170 (상봉동)     S-OIL  1547.0  1457.0    1   \n",
       "신내주유소                서울 중랑구 용마산로 705 (신내동)     SK에너지  1563.0  1482.0    1   \n",
       "범아주유소                  서울 중랑구 동일로 881 (묵동)     S-OIL  1588.0  1498.0    1   \n",
       "용마로주유소               서울 중랑구 용마산로 309 (면목동)     SK에너지  1588.0  1488.0    1   \n",
       "신일셀프주유소                서울 중랑구 상봉로 58 (망우동)     SK에너지  1598.0  1498.0    1   \n",
       "\n",
       "                     충전소  경정비  편의점  24시  \n",
       "(주)보성 세곡주유소            0    0    0    0  \n",
       "HD현대오일뱅크㈜직영 산성셀프주유소    0    0    0    0  \n",
       "삼성동주유소                 0    0    0    0  \n",
       "방죽주유소                  0    0    0    0  \n",
       "자곡셀프주유소                0    0    0    0  \n",
       "...                  ...  ...  ...  ...  \n",
       "(주)태영 구도일주유소 한인        0    1    0    0  \n",
       "신내주유소                  0    0    0    0  \n",
       "범아주유소                  0    1    0    0  \n",
       "용마로주유소                 0    0    0    0  \n",
       "신일셀프주유소                0    1    0    1  \n",
       "\n",
       "[364 rows x 9 columns]"
      ]
     },
     "execution_count": 180,
     "metadata": {},
     "output_type": "execute_result"
    }
   ],
   "source": [
    "oil_df"
   ]
  },
  {
   "cell_type": "code",
   "execution_count": 17,
   "metadata": {},
   "outputs": [
    {
     "name": "stdout",
     "output_type": "stream",
     "text": [
      "휘발유 평균가 : 1636.6947608200455\n",
      "경유 평균가 : 1562.3507972665147\n"
     ]
    }
   ],
   "source": [
    "print(\"휘발유 평균가 :\",oil_df[\"휘발유\"].mean())\n",
    "print(\"경유 평균가 :\",oil_df[\"경유\"].mean())\n"
   ]
  },
  {
   "cell_type": "code",
   "execution_count": 18,
   "metadata": {},
   "outputs": [],
   "source": [
    "import seaborn as sns\n",
    "import matplotlib.pyplot as plt\n",
    "import matplotlib.font_manager as fm\n",
    "import numpy as np"
   ]
  },
  {
   "cell_type": "code",
   "execution_count": 19,
   "metadata": {},
   "outputs": [
    {
     "data": {
      "text/plain": [
       "<Axes: >"
      ]
     },
     "execution_count": 19,
     "metadata": {},
     "output_type": "execute_result"
    },
    {
     "data": {
      "image/png": "[encoded data removed]",
      "text/plain": [
       "<Figure size 640x480 with 2 Axes>"
      ]
     },
     "metadata": {},
     "output_type": "display_data"
    }
   ],
   "source": [
    "plt.rc(\"font\", family=\"NanumGothic\")\n",
    "oil_heatmap = pd.DataFrame()\n",
    "oil_heatmap[\"세차장\"] = oil_df[\"세차장\"]\n",
    "oil_heatmap[\"충전소\"] = oil_df[\"충전소\"]\n",
    "oil_heatmap[\"경정비\"] = oil_df[\"경정비\"]\n",
    "oil_heatmap[\"편의점\"] = oil_df[\"편의점\"]\n",
    "oil_heatmap[\"24시\"] = oil_df[\"24시\"]\n",
    "sns.heatmap(oil_heatmap.corr(),annot=True)\n",
    "\n"
   ]
  },
  {
   "cell_type": "code",
   "execution_count": 20,
   "metadata": {},
   "outputs": [],
   "source": [
    "driver.close()"
   ]
  },
  {
   "cell_type": "code",
   "execution_count": null,
   "metadata": {},
   "outputs": [],
   "source": []
  }
 ],
 "metadata": {
  "kernelspec": {
   "display_name": "test_venv",
   "language": "python",
   "name": "python3"
  },
  "language_info": {
   "codemirror_mode": {
    "name": "ipython",
    "version": 3
   },
   "file_extension": ".py",
   "mimetype": "text/x-python",
   "name": "python",
   "nbconvert_exporter": "python",
   "pygments_lexer": "ipython3",
   "version": "3.10.12"
  }
 },
 "nbformat": 4,
 "nbformat_minor": 2
}
