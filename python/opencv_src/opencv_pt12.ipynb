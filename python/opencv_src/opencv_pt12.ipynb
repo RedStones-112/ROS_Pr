{
 "cells": [
  {
   "cell_type": "code",
   "execution_count": 2,
   "metadata": {},
   "outputs": [
    {
     "name": "stderr",
     "output_type": "stream",
     "text": [
      "/tmp/ipykernel_8732/1884035176.py:3: DeprecationWarning: \n",
      "Pyarrow will become a required dependency of pandas in the next major release of pandas (pandas 3.0),\n",
      "(to allow more performant data types, such as the Arrow string type, and better interoperability with other libraries)\n",
      "but was not found to be installed on your system.\n",
      "If this would cause problems for you,\n",
      "please provide us feedback at https://github.com/pandas-dev/pandas/issues/54466\n",
      "        \n",
      "  import pandas as pd\n"
     ]
    }
   ],
   "source": [
    "import numpy as np\n",
    "import cv2\n",
    "import pandas as pd\n",
    "import matplotlib.pyplot as plt\n",
    "from PIL import Image\n",
    "import sys"
   ]
  },
  {
   "cell_type": "code",
   "execution_count": 1,
   "metadata": {},
   "outputs": [
    {
     "ename": "NameError",
     "evalue": "name 'cv2' is not defined",
     "output_type": "error",
     "traceback": [
      "\u001b[0;31m---------------------------------------------------------------------------\u001b[0m",
      "\u001b[0;31mNameError\u001b[0m                                 Traceback (most recent call last)",
      "Cell \u001b[0;32mIn[1], line 1\u001b[0m\n\u001b[0;32m----> 1\u001b[0m src \u001b[38;5;241m=\u001b[39m \u001b[43mcv2\u001b[49m\u001b[38;5;241m.\u001b[39mimread(\u001b[38;5;124m\"\u001b[39m\u001b[38;5;124m../cv_data/airplane.bmp\u001b[39m\u001b[38;5;124m\"\u001b[39m)\n\u001b[1;32m      2\u001b[0m \u001b[38;5;28;01mif\u001b[39;00m src \u001b[38;5;129;01mis\u001b[39;00m \u001b[38;5;28;01mNone\u001b[39;00m:\n\u001b[1;32m      3\u001b[0m     \u001b[38;5;28mprint\u001b[39m(\u001b[38;5;124m'\u001b[39m\u001b[38;5;124mImage load failed!\u001b[39m\u001b[38;5;124m'\u001b[39m)\n",
      "\u001b[0;31mNameError\u001b[0m: name 'cv2' is not defined"
     ]
    }
   ],
   "source": [
    "src = cv2.imread(\"../cv_data/airplane.bmp\")\n",
    "if src is None:\n",
    "    print('Image load failed!')\n",
    "    sys.exit()\n",
    "x, y, w, h = cv2.selectROI(src)\n",
    "src_ycrcb = cv2.cvtColor(src, cv2.COLOR_BGR2YCrCb)\n",
    "crop = src_ycrcb[y:y+h, x:x+w]\n",
    "# cv2.imshow(\"test\",crop)\n",
    "\n",
    "channels = [1, 2]\n",
    "cr_bins = 128\n",
    "cb_bins = 128\n",
    "histSize = [cr_bins, cb_bins]\n",
    "cr_range = [0, 256]\n",
    "cb_range = [0, 256]\n",
    "ranges = cr_range + cb_range\n",
    "hist = cv2.calcHist([crop], channels, None, histSize, ranges)\n",
    "hist_norm = cv2.normalize(cv2.log(hist+1), None, 0, 255, cv2.NORM_MINMAX, cv2.CV_8U)\n",
    "\n",
    "backproj = cv2.calcBackProject([src_ycrcb], channels, hist, ranges, 1)\n",
    "dst = cv2.copyTo(src, backproj)\n",
    "cv2.imshow('backproj', backproj)\n",
    "cv2.imshow('hist_norm', hist_norm)\n",
    "cv2.imshow('dst', dst)\n",
    "cv2.waitKey()\n",
    "cv2.destroyAllWindows()\n"
   ]
  },
  {
   "cell_type": "code",
   "execution_count": 22,
   "metadata": {},
   "outputs": [
    {
     "data": {
      "text/plain": [
       "(128, 128)"
      ]
     },
     "execution_count": 22,
     "metadata": {},
     "output_type": "execute_result"
    }
   ],
   "source": [
    "hist.shape"
   ]
  },
  {
   "cell_type": "code",
   "execution_count": 14,
   "metadata": {},
   "outputs": [],
   "source": [
    "ref = cv2.imread('../cv_data/airplane.bmp', cv2.IMREAD_COLOR)\n",
    "mask = cv2.imread('../cv_data/mask_plane.bmp', cv2.IMREAD_GRAYSCALE)\n",
    "\n",
    "if ref is None or mask is None:\n",
    "    print('Image load failed!1')\n",
    "    sys.exit()\n",
    "\n",
    "ref_ycrcb = cv2.cvtColor(ref, cv2.COLOR_BGR2YCrCb)\n",
    "channels = [1, 2]\n",
    "ranges = [0, 256, 0, 256]\n",
    "hist = cv2.calcHist([ref_ycrcb], channels, mask, [128, 128], ranges)\n",
    "hist_norm = cv2.normalize(cv2.log(hist + 1), None, 0, 255,\n",
    "cv2.NORM_MINMAX, cv2.CV_8U)\n",
    "src = cv2.imread('../cv_data/airplane.bmp', cv2.IMREAD_COLOR)\n",
    "\n",
    "if src is None:\n",
    "    print('Image load failed!2')\n",
    "    sys.exit()\n",
    "\n",
    "src_ycrcb = cv2.cvtColor(src, cv2.COLOR_BGR2YCrCb)\n",
    "backproj = cv2.calcBackProject([src_ycrcb], channels, hist, ranges, 1)\n",
    "\n",
    "cv2.imshow('src', src)\n",
    "cv2.imshow('hist_norm', hist_norm)\n",
    "cv2.imshow('backproj', backproj)\n",
    "cv2.waitKey()\n",
    "cv2.destroyAllWindows()"
   ]
  },
  {
   "cell_type": "code",
   "execution_count": 15,
   "metadata": {},
   "outputs": [
    {
     "name": "stdout",
     "output_type": "stream",
     "text": [
      "video open failed!\n"
     ]
    },
    {
     "ename": "SystemExit",
     "evalue": "",
     "output_type": "error",
     "traceback": [
      "An exception has occurred, use %tb to see the full traceback.\n",
      "\u001b[0;31mSystemExit\u001b[0m\n"
     ]
    }
   ],
   "source": [
    "cap1 = cv2.VideoCapture('woman.mp4')#\n",
    "if not cap1.isOpened():\n",
    "    print('video open failed!')\n",
    "    sys.exit()\n",
    "cap2 = cv2.VideoCapture('raining.mp4')#\n",
    "if not cap2.isOpened():\n",
    "    print('video open failed!')\n",
    "    sys.exit()\n",
    "frame_cnt1 = round(cap1.get(cv2.CAP_PROP_FRAME_COUNT))\n",
    "frame_cnt2 = round(cap2.get(cv2.CAP_PROP_FRAME_COUNT))\n",
    "print('frame_cnt1:', frame_cnt1)\n",
    "print('frame_cnt2:', frame_cnt2)\n",
    "fps = cap1.get(cv2.CAP_PROP_FPS)\n",
    "delay = int(1000 / fps)\n",
    "do_composit = False\n",
    "while True:\n",
    "    ret1, frame1 = cap1.read()\n",
    "    if not ret1:\n",
    "        break\n",
    "    if do_composit:\n",
    "        ret2, frame2 = cap2.read()\n",
    "        if not ret2:\n",
    "            break\n",
    "        hsv = cv2.cvtColor(frame1, cv2.COLOR_BGR2HSV)\n",
    "        mask = cv2.inRange(hsv, (50, 150, 0), (70, 255, 255))\n",
    "        cv2.copyTo(frame2, mask, frame1)\n",
    "    cv2.imshow('frame', frame1)\n",
    "    key = cv2.waitKey(delay)\n",
    "\n",
    "    if key == ord(' '):\n",
    "        do_composit = not do_composit\n",
    "    elif key == 27:\n",
    "        break\n",
    "cap1.release()\n",
    "cap2.release()\n",
    "cv2.destroyAllWindows()"
   ]
  },
  {
   "cell_type": "code",
   "execution_count": null,
   "metadata": {},
   "outputs": [],
   "source": []
  }
 ],
 "metadata": {
  "kernelspec": {
   "display_name": "opencv_venv",
   "language": "python",
   "name": "python3"
  },
  "language_info": {
   "codemirror_mode": {
    "name": "ipython",
    "version": 3
   },
   "file_extension": ".py",
   "mimetype": "text/x-python",
   "name": "python",
   "nbconvert_exporter": "python",
   "pygments_lexer": "ipython3",
   "version": "3.10.12"
  }
 },
 "nbformat": 4,
 "nbformat_minor": 2
}
