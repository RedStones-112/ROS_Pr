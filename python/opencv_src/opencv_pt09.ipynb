{
 "cells": [
  {
   "cell_type": "code",
   "execution_count": 24,
   "metadata": {},
   "outputs": [],
   "source": [
    "import numpy as np\n",
    "import cv2\n",
    "import pandas as pd\n",
    "import matplotlib.pyplot as plt\n",
    "from PIL import Image\n",
    "import sys"
   ]
  },
  {
   "cell_type": "code",
   "execution_count": 13,
   "metadata": {},
   "outputs": [],
   "source": [
    "src = cv2.imread(\"../cv_data/cat.bmp\")\n",
    "aff = np.array([[1,0,200],\n",
    "                [0,1,10]], dtype=np.float32)\n",
    "dst = cv2.warpAffine(src, aff, (0,0))\n",
    "cv2.imshow(\"1\",src)\n",
    "cv2.imshow(\"2\",dst)\n",
    "cv2.waitKey()\n",
    "cv2.destroyAllWindows()"
   ]
  },
  {
   "cell_type": "code",
   "execution_count": 23,
   "metadata": {},
   "outputs": [],
   "source": [
    "\n",
    "aff = np.array([[1,0.5,0],\n",
    "                [0.5,1,0]], dtype=np.float32)\n",
    "h, w = src.shape[:2]\n",
    "dst = cv2.warpAffine(src, aff, (w + int(h*0.5), h))\n",
    "\n",
    "cv2.imshow(\"1\",src)\n",
    "cv2.imshow(\"2\",dst)\n",
    "cv2.waitKey()\n",
    "cv2.destroyAllWindows()"
   ]
  },
  {
   "cell_type": "code",
   "execution_count": 35,
   "metadata": {},
   "outputs": [],
   "source": [
    "\n",
    "src = cv2.imread(\"../cv_data/cat.bmp\")\n",
    "\n",
    "cp = (src.shape[1] / 2, src.shape[0] / 2)\n",
    "# cp = (0,0) # 회전 원점\n",
    "aff = cv2.getRotationMatrix2D(cp, 20, 1)\n",
    "\n",
    "dst = cv2.warpAffine(src, aff, (0, 0))\n",
    "\n",
    "cv2.imshow(\"1\",src)\n",
    "cv2.imshow(\"2\",dst)\n",
    "cv2.waitKey()\n",
    "cv2.destroyAllWindows()"
   ]
  },
  {
   "cell_type": "code",
   "execution_count": null,
   "metadata": {},
   "outputs": [],
   "source": []
  }
 ],
 "metadata": {
  "kernelspec": {
   "display_name": "opencv_venv",
   "language": "python",
   "name": "python3"
  },
  "language_info": {
   "codemirror_mode": {
    "name": "ipython",
    "version": 3
   },
   "file_extension": ".py",
   "mimetype": "text/x-python",
   "name": "python",
   "nbconvert_exporter": "python",
   "pygments_lexer": "ipython3",
   "version": "3.10.12"
  }
 },
 "nbformat": 4,
 "nbformat_minor": 2
}
