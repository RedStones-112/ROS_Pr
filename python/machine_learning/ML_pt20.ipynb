{
 "cells": [
  {
   "cell_type": "code",
   "execution_count": 1,
   "metadata": {},
   "outputs": [
    {
     "name": "stderr",
     "output_type": "stream",
     "text": [
      "/tmp/ipykernel_56527/3795836286.py:1: DeprecationWarning: \n",
      "Pyarrow will become a required dependency of pandas in the next major release of pandas (pandas 3.0),\n",
      "(to allow more performant data types, such as the Arrow string type, and better interoperability with other libraries)\n",
      "but was not found to be installed on your system.\n",
      "If this would cause problems for you,\n",
      "please provide us feedback at https://github.com/pandas-dev/pandas/issues/54466\n",
      "        \n",
      "  import pandas as pd\n",
      "2024-02-27 13:51:25.856960: I tensorflow/core/util/port.cc:113] oneDNN custom operations are on. You may see slightly different numerical results due to floating-point round-off errors from different computation orders. To turn them off, set the environment variable `TF_ENABLE_ONEDNN_OPTS=0`.\n",
      "2024-02-27 13:51:25.911730: E external/local_xla/xla/stream_executor/cuda/cuda_dnn.cc:9261] Unable to register cuDNN factory: Attempting to register factory for plugin cuDNN when one has already been registered\n",
      "2024-02-27 13:51:25.911825: E external/local_xla/xla/stream_executor/cuda/cuda_fft.cc:607] Unable to register cuFFT factory: Attempting to register factory for plugin cuFFT when one has already been registered\n",
      "2024-02-27 13:51:25.913828: E external/local_xla/xla/stream_executor/cuda/cuda_blas.cc:1515] Unable to register cuBLAS factory: Attempting to register factory for plugin cuBLAS when one has already been registered\n",
      "2024-02-27 13:51:25.924771: I tensorflow/core/platform/cpu_feature_guard.cc:182] This TensorFlow binary is optimized to use available CPU instructions in performance-critical operations.\n",
      "To enable the following instructions: AVX2 AVX512F AVX512_VNNI FMA, in other operations, rebuild TensorFlow with the appropriate compiler flags.\n",
      "2024-02-27 13:51:27.194205: W tensorflow/compiler/tf2tensorrt/utils/py_utils.cc:38] TF-TRT Warning: Could not find TensorRT\n",
      "2024-02-27 13:51:27.988789: I external/local_xla/xla/stream_executor/cuda/cuda_executor.cc:901] successful NUMA node read from SysFS had negative value (-1), but there must be at least one NUMA node, so returning NUMA node zero. See more at https://github.com/torvalds/linux/blob/v6.0/Documentation/ABI/testing/sysfs-bus-pci#L344-L355\n",
      "2024-02-27 13:51:28.016115: I external/local_xla/xla/stream_executor/cuda/cuda_executor.cc:901] successful NUMA node read from SysFS had negative value (-1), but there must be at least one NUMA node, so returning NUMA node zero. See more at https://github.com/torvalds/linux/blob/v6.0/Documentation/ABI/testing/sysfs-bus-pci#L344-L355\n",
      "2024-02-27 13:51:28.016410: I external/local_xla/xla/stream_executor/cuda/cuda_executor.cc:901] successful NUMA node read from SysFS had negative value (-1), but there must be at least one NUMA node, so returning NUMA node zero. See more at https://github.com/torvalds/linux/blob/v6.0/Documentation/ABI/testing/sysfs-bus-pci#L344-L355\n"
     ]
    }
   ],
   "source": [
    "import pandas as pd\n",
    "import numpy as np\n",
    "import seaborn as sns\n",
    "import matplotlib.pyplot as plt\n",
    "import random\n",
    "import time\n",
    "import os\n",
    "import cv2\n",
    "import tensorflow as tf\n",
    "import matplotlib.image as mpimg\n",
    "from sklearn.datasets import load_iris\n",
    "from sklearn.model_selection import KFold\n",
    "from sklearn.pipeline import Pipeline\n",
    "from sklearn.tree import DecisionTreeClassifier\n",
    "from sklearn.preprocessing import StandardScaler\n",
    "from sklearn.decomposition import PCA\n",
    "from sklearn.ensemble import RandomForestClassifier\n",
    "from sklearn.model_selection import cross_val_score\n",
    "from sklearn.datasets import fetch_olivetti_faces\n",
    "from sklearn.neighbors import KNeighborsClassifier\n",
    "from sklearn.model_selection import GridSearchCV, StratifiedKFold\n",
    "from sklearn.metrics import accuracy_score\n",
    "from skimage.transform import resize\n",
    "from sklearn.preprocessing import LabelEncoder\n",
    "from sklearn.model_selection import train_test_split\n",
    "from skimage.color import rgb2gray\n",
    "from tqdm.notebook import tqdm\n",
    "from mpl_toolkits.mplot3d import Axes3D\n",
    "from tensorflow.keras import layers, models\n",
    "from tensorflow.keras.applications.vgg16 import VGG16\n",
    "from tensorflow.keras.preprocessing.image import img_to_array\n",
    "from tensorflow.keras.applications.vgg16 import preprocess_input, decode_predictions\n",
    "from tensorflow.keras.preprocessing.image import ImageDataGenerator\n",
    "from tensorflow.keras.models import Sequential\n",
    "from tensorflow.keras.layers import GlobalAveragePooling2D, Dense, Dropout\n",
    "\n",
    "gpus = tf.config.experimental.list_physical_devices('GPU') #with import tensorflow\n",
    "tf.config.experimental.set_memory_growth(gpus[0], True) # me too\n",
    "\n"
   ]
  },
  {
   "cell_type": "code",
   "execution_count": null,
   "metadata": {},
   "outputs": [],
   "source": [
    "path = \"/content/train/\" ##\n",
    "\n",
    "seed = 13\n",
    "tf.random.set_seed(seed)\n",
    "np.random.seed(seed)"
   ]
  },
  {
   "cell_type": "code",
   "execution_count": null,
   "metadata": {},
   "outputs": [],
   "source": [
    "train_df = pd.DataFrame({\"file\" : os.listdir(\"./train\")})\n",
    "train_df[\"label\"] = train_df[\"file\"].apply(lambda x: x.split(\".\")[0])\n",
    "train_df.head()"
   ]
  },
  {
   "cell_type": "code",
   "execution_count": null,
   "metadata": {},
   "outputs": [],
   "source": [
    "test_df = pd.DataFrame({\"file\":os.listdir(\"./test1\")})\n",
    "test_df.head()"
   ]
  },
  {
   "cell_type": "code",
   "execution_count": null,
   "metadata": {},
   "outputs": [],
   "source": [
    "train_data, val_data = train_test_split(train_df,\n",
    "                                        test_size=0.2,\n",
    "                                        stratify=train_df[\"label\"],\n",
    "                                        random_state=13)"
   ]
  },
  {
   "cell_type": "code",
   "execution_count": null,
   "metadata": {},
   "outputs": [],
   "source": [
    "\n",
    "train_datagen = ImageDataGenerator(\n",
    "    rotation_range = 15,\n",
    "    horizontal_flip=True,\n",
    "    preprocessing_function = preprocess_input\n",
    ")\n",
    "val_datagen = ImageDataGenerator(preprocessing_function=preprocess_input)"
   ]
  },
  {
   "cell_type": "code",
   "execution_count": null,
   "metadata": {},
   "outputs": [],
   "source": [
    "FILES = \"/content/\" ##\n",
    "\n",
    "batch_size = 160\n",
    "train_generator = train_datagen.flow_from_dataframe(\n",
    "    dataframe = train_data,\n",
    "    directory = FILES + \"train/\",\n",
    "    x_col = \"file\",\n",
    "    y_col = \"label\",\n",
    "    class_mode = \"categorical\",\n",
    "    target_size = (224,224),\n",
    "    batch_size = batch_size,\n",
    "    seed = 13,\n",
    ")"
   ]
  },
  {
   "cell_type": "code",
   "execution_count": null,
   "metadata": {},
   "outputs": [],
   "source": [
    "\n",
    "val_generator = val_datagen.flow_from_dataframe(\n",
    "    dataframe = val_data,\n",
    "    directory = FILES + \"train/\",\n",
    "    x_col = \"file\",\n",
    "    y_col = \"label\",\n",
    "    class_mode = \"categorical\",\n",
    "    target_size = (224,224),\n",
    "    batch_size = batch_size,\n",
    "    seed = 13,\n",
    "    shuffle=False\n",
    ")"
   ]
  },
  {
   "cell_type": "code",
   "execution_count": null,
   "metadata": {},
   "outputs": [],
   "source": [
    "base_model = VGG16(\n",
    "    weights = \"imagenet\",\n",
    "    input_shape = (224,224, 3),\n",
    "    include_top = False\n",
    ")"
   ]
  },
  {
   "cell_type": "code",
   "execution_count": null,
   "metadata": {},
   "outputs": [],
   "source": [
    "for layers in base_model.layers:\n",
    "  layers.trainable=False\n",
    "base_model.summary()"
   ]
  },
  {
   "cell_type": "code",
   "execution_count": null,
   "metadata": {},
   "outputs": [],
   "source": [
    "from tensorflow.keras.models import Sequential\n",
    "from tensorflow.keras.layers import GlobalAveragePooling2D, Dense, Dropout\n",
    "def vgg16_pretrained():\n",
    "  model = Sequential([\n",
    "      base_model,\n",
    "      GlobalAveragePooling2D(),\n",
    "      Dense(100, activation=\"relu\"),\n",
    "      Dropout(0.4),\n",
    "      Dense(64, activation=\"relu\"),\n",
    "      Dense(2,activation=\"softmax\")\n",
    "  ])\n",
    "  return model"
   ]
  },
  {
   "cell_type": "code",
   "execution_count": null,
   "metadata": {},
   "outputs": [],
   "source": [
    "tf.keras.backend.clear_session()"
   ]
  },
  {
   "cell_type": "code",
   "execution_count": null,
   "metadata": {},
   "outputs": [],
   "source": [
    "model = vgg16_pretrained()\n",
    "\n",
    "model.compile(loss=\"categorical_crossentropy\",\n",
    "              optimizer=\"adam\",\n",
    "              metrics=\"accuracy\")\n",
    "model.summary()"
   ]
  },
  {
   "cell_type": "code",
   "execution_count": null,
   "metadata": {},
   "outputs": [],
   "source": [
    "reduce_lr = tf.keras.callbacks.ReduceLROnPlateau(\n",
    "    monitor=\"val_accuracy\",\n",
    "    patience=2,\n",
    "    verbose=1,\n",
    "    factor=0.5,\n",
    "    min_lr=0.000000001\n",
    ")"
   ]
  },
  {
   "cell_type": "code",
   "execution_count": null,
   "metadata": {},
   "outputs": [],
   "source": [
    "early_stopping = tf.keras.callbacks.EarlyStopping(\n",
    "    monitor=\"val_accuracy\",\n",
    "    patience=5,\n",
    "    verbose=1,\n",
    "    mode=\"max\"\n",
    ")"
   ]
  },
  {
   "cell_type": "code",
   "execution_count": null,
   "metadata": {},
   "outputs": [],
   "source": [
    "\n",
    "directory = './'\n",
    "if not os.path.exists(directory):\n",
    "    os.makedirs(directory)\n",
    "checkpoint = tf.keras.callbacks.ModelCheckpoint(\n",
    "    monitor = \"val_accuracy\",\n",
    "    filepath = os.path.join(directory, \"catdog_vgg16_.{epoch:02d}-{val_accuracy:.6f}.hdf5\"),\n",
    "    verbose = 1,\n",
    "    save_best_only = True,\n",
    "    save_weights_only = True\n",
    ")"
   ]
  },
  {
   "cell_type": "code",
   "execution_count": null,
   "metadata": {},
   "outputs": [],
   "source": [
    "history = model.fit(\n",
    "    train_generator,\n",
    "    epochs = 10,\n",
    "    validation_data = val_generator,\n",
    "    validation_steps = val_data.shape[0] // batch_size,\n",
    "    steps_per_epoch = train_data.shape[0] // batch_size,\n",
    "    callbacks = [reduce_lr, early_stopping, checkpoint]\n",
    "    \n",
    ")"
   ]
  },
  {
   "cell_type": "code",
   "execution_count": null,
   "metadata": {},
   "outputs": [],
   "source": [
    "fig, axes = plt.subplots(1, 2, figsize=(12,4))\n",
    "\n",
    "sns.lineplot(x=range(len(history.history[\"loss\"])),\n",
    "             y=history.history[\"loss\"], ax=axes[0],\n",
    "             label = \"Training Loss\")\n",
    "\n",
    "sns.lineplot(x=range(len(history.history[\"loss\"])),\n",
    "             y=history.history[\"val_loss\"], ax=axes[0],\n",
    "             label = \"Validation Loss\")\n",
    "\n",
    "sns.lineplot(x=range(len(history.history[\"accuracy\"])),\n",
    "             y=history.history[\"accuracy\"], ax=axes[1],\n",
    "             label = \"Training Accuracy\")\n",
    "\n",
    "sns.lineplot(x=range(len(history.history[\"accuracy\"])),\n",
    "             y=history.history[\"val_accuracy\"], ax=axes[1],\n",
    "             label = \"Validation Accuracy\")\n",
    "\n",
    "axes[0].set_title(\"Loss\")\n",
    "axes[1].set_title(\"Accuracy\")\n",
    "\n",
    "sns.despine()\n",
    "plt.show()\n"
   ]
  },
  {
   "cell_type": "code",
   "execution_count": null,
   "metadata": {},
   "outputs": [],
   "source": [
    "val_pred = model.predict(val_generator,\n",
    "                         steps=np.ceil(val_data.shape[0] / batch_size))\n",
    "val_data.loc[:, \"val_pred\"] = np.argmax(val_pred, axis=1)\n",
    "\n",
    "labels = dict((v, k) for k, v in val_generator.class_indices.items())\n",
    "\n",
    "val_data.loc[:, \"val_pred\"] = val_data.loc[:, \"val_pred\"].map(labels)\n"
   ]
  },
  {
   "cell_type": "code",
   "execution_count": null,
   "metadata": {},
   "outputs": [],
   "source": [
    "from sklearn.metrics import confusion_matrix\n",
    "from sklearn.metrics import ConfusionMatrixDisplay\n",
    "\n",
    "fig, ax =plt.subplots(figsize = (9, 6))\n",
    "\n",
    "cm = confusion_matrix(val_data[\"label\"], val_data[\"val_pred\"])\n",
    "\n",
    "disp = ConfusionMatrixDisplay(confusion_matrix=cm, display_labels=[\"cat\", \"dog\"])\n",
    "\n",
    "disp.plot(cmap= plt.cm.Blues, ax=ax)\n",
    "\n",
    "ax.set_title(\"valudation Set\")\n",
    "plt.show()"
   ]
  },
  {
   "cell_type": "code",
   "execution_count": null,
   "metadata": {},
   "outputs": [],
   "source": [
    "val_errors = val_data[(val_data.label) != (val_data.val_pred)].reset_index(drop=True)\n",
    "val_errors"
   ]
  },
  {
   "cell_type": "code",
   "execution_count": null,
   "metadata": {},
   "outputs": [],
   "source": [
    "fig = plt.figure(1, figsize=(24, 20))\n",
    "for i in range(81):\n",
    "    if i == len(val_errors):\n",
    "        break\n",
    "    plt.subplot(9, 9, i+1)\n",
    "    image = plt.imread(\"./train/\" + val_errors.file[i])\n",
    "    plt.imshow(image)\n",
    "    plt.axis(\"off\")\n",
    "    plt.title(f\"\"\"True Val : {val_errors[\"label\"][i]} \\n Prediction : {val_errors[\"val_pred\"][i]}\"\"\")\n",
    "\n",
    "plt.tight_layout()\n",
    "plt.show()"
   ]
  }
 ],
 "metadata": {
  "kernelspec": {
   "display_name": "Python 3",
   "language": "python",
   "name": "python3"
  },
  "language_info": {
   "codemirror_mode": {
    "name": "ipython",
    "version": 3
   },
   "file_extension": ".py",
   "mimetype": "text/x-python",
   "name": "python",
   "nbconvert_exporter": "python",
   "pygments_lexer": "ipython3",
   "version": "3.10.12"
  }
 },
 "nbformat": 4,
 "nbformat_minor": 2
}
