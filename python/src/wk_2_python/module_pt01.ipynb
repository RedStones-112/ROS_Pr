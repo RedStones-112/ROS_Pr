{
 "cells": [
  {
   "cell_type": "code",
   "execution_count": 1,
   "metadata": {},
   "outputs": [
    {
     "name": "stdout",
     "output_type": "stream",
     "text": [
      "1명 A석 가격은 50000원 입니다.\n",
      "2명 A석 가격은 100000원 입니다.\n",
      "4명 A석 가격은 200000원 입니다.\n"
     ]
    }
   ],
   "source": [
    "import module_pt01 as clas\n",
    "\n",
    "clas.price_A(1)\n",
    "clas.price_B(2)\n",
    "clas.price_C(4)"
   ]
  }
 ],
 "metadata": {
  "kernelspec": {
   "display_name": "test_venv",
   "language": "python",
   "name": "python3"
  },
  "language_info": {
   "codemirror_mode": {
    "name": "ipython",
    "version": 3
   },
   "file_extension": ".py",
   "mimetype": "text/x-python",
   "name": "python",
   "nbconvert_exporter": "python",
   "pygments_lexer": "ipython3",
   "version": "3.10.12"
  }
 },
 "nbformat": 4,
 "nbformat_minor": 2
}
