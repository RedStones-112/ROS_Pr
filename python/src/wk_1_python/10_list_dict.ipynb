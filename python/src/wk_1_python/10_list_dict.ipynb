{
 "cells": [
  {
   "cell_type": "code",
   "execution_count": 1,
   "metadata": {},
   "outputs": [
    {
     "name": "stdout",
     "output_type": "stream",
     "text": [
      "['아메리크노', '바닐라라떼', '복숭아스무디']\n"
     ]
    }
   ],
   "source": [
    "cafe_menu = ['아메리크노', \"바닐라라떼\", \"복숭아스무디\"]\n",
    "print(cafe_menu)"
   ]
  },
  {
   "cell_type": "code",
   "execution_count": null,
   "metadata": {},
   "outputs": [],
   "source": [
    "cafe_menu.append(\"레몬에이드\")\n",
    "print(cafe_menu)"
   ]
  },
  {
   "cell_type": "code",
   "execution_count": null,
   "metadata": {},
   "outputs": [],
   "source": [
    "cafe_menu.insert(2, \"녹차프라푸치노\")\n",
    "print(cafe_menu)"
   ]
  },
  {
   "cell_type": "code",
   "execution_count": null,
   "metadata": {},
   "outputs": [],
   "source": [
    "print(cafe_menu.pop())\n",
    "print(cafe_menu)"
   ]
  },
  {
   "cell_type": "code",
   "execution_count": null,
   "metadata": {},
   "outputs": [],
   "source": [
    "cafe_menu.append(\"바닐라라떼\")\n",
    "print(cafe_menu)\n",
    "print(cafe_menu.count(\"바닐라라떼\"))"
   ]
  },
  {
   "cell_type": "code",
   "execution_count": null,
   "metadata": {},
   "outputs": [],
   "source": [
    "num_list = [5,2,3,1,4]\n",
    "num_list.sort()\n",
    "print(num_list)"
   ]
  },
  {
   "cell_type": "code",
   "execution_count": null,
   "metadata": {},
   "outputs": [],
   "source": [
    "num_list = ['cat','apple', \"banana\"]\n",
    "num_list.sort()\n",
    "print(num_list)"
   ]
  },
  {
   "cell_type": "code",
   "execution_count": null,
   "metadata": {},
   "outputs": [],
   "source": [
    "num_list = [5,2,3,4,1]\n",
    "num_list.sort()\n",
    "num_list.reverse()\n",
    "print(num_list)"
   ]
  },
  {
   "cell_type": "code",
   "execution_count": null,
   "metadata": {},
   "outputs": [],
   "source": [
    "num_list = [5,2,4,3,1]\n",
    "num_list.sort()\n",
    "num_list.reverse()\n",
    "num_list.clear()"
   ]
  },
  {
   "cell_type": "code",
   "execution_count": null,
   "metadata": {},
   "outputs": [],
   "source": [
    "mix_list = [\"조세호\",20, True]\n",
    "num_list = [5,2,3,4,1]\n",
    "num_list.extend(mix_list)\n",
    "print(num_list)"
   ]
  },
  {
   "cell_type": "code",
   "execution_count": null,
   "metadata": {},
   "outputs": [],
   "source": [
    "cafe_menu = {3:\"자몽에이드\", 100:\"레몬에이드\"}\n",
    "print(cafe_menu[3])\n",
    "print(cafe_menu[100])\n"
   ]
  },
  {
   "cell_type": "code",
   "execution_count": null,
   "metadata": {},
   "outputs": [],
   "source": [
    "cafe_menu = {3:\"자몽에이드\", 100:\"레몬에이드\"}\n",
    "print(cafe_menu.get(3))"
   ]
  },
  {
   "cell_type": "code",
   "execution_count": 2,
   "metadata": {},
   "outputs": [
    {
     "ename": "IndexError",
     "evalue": "list index out of range",
     "output_type": "error",
     "traceback": [
      "\u001b[0;31m---------------------------------------------------------------------------\u001b[0m",
      "\u001b[0;31mIndexError\u001b[0m                                Traceback (most recent call last)",
      "Cell \u001b[0;32mIn[2], line 1\u001b[0m\n\u001b[0;32m----> 1\u001b[0m \u001b[38;5;28mprint\u001b[39m(\u001b[43mcafe_menu\u001b[49m\u001b[43m[\u001b[49m\u001b[38;5;241;43m5\u001b[39;49m\u001b[43m]\u001b[49m)\u001b[38;5;66;03m#error\u001b[39;00m\n\u001b[1;32m      2\u001b[0m \u001b[38;5;28mprint\u001b[39m(cafe_menu\u001b[38;5;241m.\u001b[39mget(\u001b[38;5;241m5\u001b[39m))\u001b[38;5;66;03m#none\u001b[39;00m\n\u001b[1;32m      3\u001b[0m \u001b[38;5;28mprint\u001b[39m(cafe_menu\u001b[38;5;241m.\u001b[39mget(\u001b[38;5;241m5\u001b[39m,\u001b[38;5;124m\"\u001b[39m\u001b[38;5;124m비어있음\u001b[39m\u001b[38;5;124m\"\u001b[39m))\n",
      "\u001b[0;31mIndexError\u001b[0m: list index out of range"
     ]
    }
   ],
   "source": [
    "print(cafe_menu[5])#error\n",
    "print(cafe_menu.get(5))#none\n",
    "print(cafe_menu.get(5,\"비어있음\"))"
   ]
  },
  {
   "cell_type": "code",
   "execution_count": 4,
   "metadata": {},
   "outputs": [
    {
     "name": "stdout",
     "output_type": "stream",
     "text": [
      "True\n",
      "False\n"
     ]
    }
   ],
   "source": [
    "cafe_menu = {3:\"자몽에이드\", 100:\"레몬에이드\"}\n",
    "print(3 in cafe_menu)\n",
    "print(5 in cafe_menu)"
   ]
  },
  {
   "cell_type": "code",
   "execution_count": 6,
   "metadata": {},
   "outputs": [
    {
     "name": "stdout",
     "output_type": "stream",
     "text": [
      "자몽에이드\n",
      "레몬에이드\n",
      "{'D-3': '자몽에이드', 'B-100': '레몬에이드'}\n",
      "{'D-3': '청귤에이드', 'B-100': '레몬에이드', 'C-20': '초코칩쿠키'}\n",
      "{'B-100': '레몬에이드', 'C-20': '초코칩쿠키'}\n",
      "dict_keys(['B-100', 'C-20'])\n",
      "dict_values(['레몬에이드', '초코칩쿠키'])\n",
      "dict_items([('B-100', '레몬에이드'), ('C-20', '초코칩쿠키')])\n",
      "{}\n"
     ]
    }
   ],
   "source": [
    "cafe_menu = {\"D-3\":\"자몽에이드\", \"B-100\":\"레몬에이드\"}\n",
    "print(cafe_menu[\"D-3\"])\n",
    "print(cafe_menu[\"B-100\"])\n",
    "print(cafe_menu)\n",
    "cafe_menu[\"C-20\"] = \"초코칩쿠키\"\n",
    "cafe_menu[\"D-3\"] = \"청귤에이드\"\n",
    "print(cafe_menu)\n",
    "del cafe_menu[\"D-3\"]\n",
    "print(cafe_menu)\n",
    "print(cafe_menu.keys())\n",
    "print(cafe_menu.values())\n",
    "print(cafe_menu.items())\n",
    "cafe_menu.clear()\n",
    "print(cafe_menu)"
   ]
  },
  {
   "cell_type": "code",
   "execution_count": null,
   "metadata": {},
   "outputs": [],
   "source": []
  }
 ],
 "metadata": {
  "kernelspec": {
   "display_name": "python_venv",
   "language": "python",
   "name": "python3"
  },
  "language_info": {
   "codemirror_mode": {
    "name": "ipython",
    "version": 3
   },
   "file_extension": ".py",
   "mimetype": "text/x-python",
   "name": "python",
   "nbconvert_exporter": "python",
   "pygments_lexer": "ipython3",
   "version": "3.10.12"
  }
 },
 "nbformat": 4,
 "nbformat_minor": 2
}
