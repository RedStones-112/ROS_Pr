{
 "cells": [
  {
   "cell_type": "code",
   "execution_count": 2,
   "id": "e04de046-c03b-40bb-9204-2231b121038f",
   "metadata": {},
   "outputs": [
    {
     "name": "stdout",
     "output_type": "stream",
     "text": [
      "test\n"
     ]
    }
   ],
   "source": [
    "print(\"test\")"
   ]
  },
  {
   "cell_type": "markdown",
   "id": "0023350e",
   "metadata": {},
   "source": [
    "---"
   ]
  },
  {
   "cell_type": "markdown",
   "id": "e369b30e",
   "metadata": {},
   "source": [
    "# 제목"
   ]
  },
  {
   "cell_type": "markdown",
   "id": "dd2f5ecc",
   "metadata": {},
   "source": [
    "## 소제목"
   ]
  },
  {
   "cell_type": "markdown",
   "id": "9586c59c",
   "metadata": {},
   "source": [
    "### 더 작은 소제목"
   ]
  },
  {
   "cell_type": "markdown",
   "id": "63e90388",
   "metadata": {},
   "source": [
    "* 번호 없는 목록"
   ]
  },
  {
   "cell_type": "markdown",
   "id": "d771966a",
   "metadata": {},
   "source": [
    "* **두개면 굵게,** * 하나면 기울이기*, ***세개면 굵은 기울임*** 이렇게"
   ]
  },
  {
   "cell_type": "markdown",
   "id": "eba1199b",
   "metadata": {},
   "source": [
    "----"
   ]
  },
  {
   "cell_type": "markdown",
   "id": "da101698",
   "metadata": {},
   "source": [
    "## 인용문\n",
    "* **Pandas**: 단일머신에 맞는 데이터셋으로 작업 할 때 .....\n",
    "> 언어와 상관없이 사용.....\n",
    "* 이런 Pandas는 ...."
   ]
  },
  {
   "cell_type": "markdown",
   "id": "663cbff5",
   "metadata": {},
   "source": []
  }
 ],
 "metadata": {
  "kernelspec": {
   "display_name": "Python 3 (ipykernel)",
   "language": "python",
   "name": "python3"
  },
  "language_info": {
   "codemirror_mode": {
    "name": "ipython",
    "version": 3
   },
   "file_extension": ".py",
   "mimetype": "text/x-python",
   "name": "python",
   "nbconvert_exporter": "python",
   "pygments_lexer": "ipython3",
   "version": "3.10.12"
  }
 },
 "nbformat": 4,
 "nbformat_minor": 5
}
