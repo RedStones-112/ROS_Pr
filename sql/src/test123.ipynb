{
 "cells": [
  {
   "cell_type": "code",
   "execution_count": 187,
   "metadata": {},
   "outputs": [],
   "source": [
    "import mysql.connector\n",
    "import pandas as pd\n",
    "mydb = mysql.connector.connect(\n",
    "    host = \"localhost\",\n",
    "    user = \"root\",\n",
    "    password = \"8470\",\n",
    "    database = \"amrbase\",\n",
    ")"
   ]
  },
  {
   "cell_type": "code",
   "execution_count": 188,
   "metadata": {},
   "outputs": [
    {
     "name": "stdout",
     "output_type": "stream",
     "text": [
      "INSERT INTO sql_file VALUES (1,\"test01.sql\")\n",
      "[]\n",
      "INSERT INTO sql_file VALUES (2,\"test02.sql\")\n",
      "[]\n",
      "INSERT INTO sql_file VALUES (3,\"test03.sql\")\n",
      "[]\n",
      "INSERT INTO sql_file VALUES (4,\"test04.sql\")\n",
      "[]\n"
     ]
    },
    {
     "data": {
      "text/plain": [
       "'\\ncur.execute(\"select * from sql_file\")\\nre = cur.fetchall()\\nfor i in re:\\n    print(i)\\n'"
      ]
     },
     "execution_count": 188,
     "metadata": {},
     "output_type": "execute_result"
    }
   ],
   "source": [
    "cur = mydb.cursor()\n",
    "sql = open(\"test04.sql\").read()\n",
    "\n",
    "for result_iterator in cur.execute(sql, multi=True):\n",
    "    if result_iterator.with_rows:\n",
    "        print(result_iterator.fetchall())\n",
    "        \n",
    "    else:\n",
    "        print(result_iterator.statement)\n",
    "        \n",
    "'''\n",
    "cur.execute(\"select * from sql_file\")\n",
    "re = cur.fetchall()\n",
    "for i in re:\n",
    "    print(i)\n",
    "'''\n"
   ]
  },
  {
   "cell_type": "code",
   "execution_count": 184,
   "metadata": {},
   "outputs": [],
   "source": [
    "mydb.commit()"
   ]
  },
  {
   "cell_type": "code",
   "execution_count": 209,
   "metadata": {},
   "outputs": [],
   "source": [
    "\n",
    "mydb.close()"
   ]
  }
 ],
 "metadata": {
  "kernelspec": {
   "display_name": "test_venv",
   "language": "python",
   "name": "python3"
  },
  "language_info": {
   "codemirror_mode": {
    "name": "ipython",
    "version": 3
   },
   "file_extension": ".py",
   "mimetype": "text/x-python",
   "name": "python",
   "nbconvert_exporter": "python",
   "pygments_lexer": "ipython3",
   "version": "3.10.12"
  }
 },
 "nbformat": 4,
 "nbformat_minor": 2
}
