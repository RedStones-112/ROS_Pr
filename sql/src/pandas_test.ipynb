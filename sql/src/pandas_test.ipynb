{
 "cells": [
  {
   "cell_type": "code",
   "execution_count": 42,
   "metadata": {},
   "outputs": [],
   "source": [
    "import pandas as pd\n",
    "import mysql.connector\n",
    "con = mysql.connector.connect(\n",
    "    host = \"database-1.cxyqwq0ceyfr.ap-northeast-2.rds.amazonaws.com\",\n",
    "    port = \"3306\",\n",
    "    user = \"robot\",\n",
    "    password = \"8470\",\n",
    "    database = \"amrbase\"\n",
    ")\n"
   ]
  },
  {
   "cell_type": "code",
   "execution_count": 43,
   "metadata": {},
   "outputs": [
    {
     "data": {
      "text/html": [
       "<div>\n",
       "<style scoped>\n",
       "    .dataframe tbody tr th:only-of-type {\n",
       "        vertical-align: middle;\n",
       "    }\n",
       "\n",
       "    .dataframe tbody tr th {\n",
       "        vertical-align: top;\n",
       "    }\n",
       "\n",
       "    .dataframe thead th {\n",
       "        text-align: right;\n",
       "    }\n",
       "</style>\n",
       "<table border=\"1\" class=\"dataframe\">\n",
       "  <thead>\n",
       "    <tr style=\"text-align: right;\">\n",
       "      <th></th>\n",
       "      <th>서울특별시경찰청</th>\n",
       "      <th>서울시 종로구 사직로8길 31</th>\n",
       "    </tr>\n",
       "  </thead>\n",
       "  <tbody>\n",
       "    <tr>\n",
       "      <th>0</th>\n",
       "      <td>서울중부경찰서</td>\n",
       "      <td>서울특별시 중구 수표로 27</td>\n",
       "    </tr>\n",
       "    <tr>\n",
       "      <th>1</th>\n",
       "      <td>서울종로경찰서</td>\n",
       "      <td>서울특별시 종로구 율곡로 46</td>\n",
       "    </tr>\n",
       "    <tr>\n",
       "      <th>2</th>\n",
       "      <td>서울남대문경찰서</td>\n",
       "      <td>서울특별시 중구 한강대로 410</td>\n",
       "    </tr>\n",
       "    <tr>\n",
       "      <th>3</th>\n",
       "      <td>서울서대문경찰서</td>\n",
       "      <td>서울특별시 서대문구 통일로 113</td>\n",
       "    </tr>\n",
       "    <tr>\n",
       "      <th>4</th>\n",
       "      <td>서울혜화경찰서</td>\n",
       "      <td>서울특별시 종로구 창경궁로 112-16</td>\n",
       "    </tr>\n",
       "  </tbody>\n",
       "</table>\n",
       "</div>"
      ],
      "text/plain": [
       "   서울특별시경찰청       서울시 종로구 사직로8길 31\n",
       "0   서울중부경찰서        서울특별시 중구 수표로 27\n",
       "1   서울종로경찰서       서울특별시 종로구 율곡로 46\n",
       "2  서울남대문경찰서      서울특별시 중구 한강대로 410\n",
       "3  서울서대문경찰서     서울특별시 서대문구 통일로 113\n",
       "4   서울혜화경찰서  서울특별시 종로구 창경궁로 112-16"
      ]
     },
     "execution_count": 43,
     "metadata": {},
     "output_type": "execute_result"
    }
   ],
   "source": [
    "df = pd.read_csv(\"police_station.csv\")\n",
    "df.head()\n"
   ]
  },
  {
   "cell_type": "code",
   "execution_count": null,
   "metadata": {},
   "outputs": [],
   "source": [
    "cur = con.cursor(buffered=True)\n",
    "sql = \"insert into police_station values (%s, %s)\"\n",
    "for i, row in df.iterrows():\n",
    "    cur.execute(sql, tuple(row))\n",
    "    print(tuple(row))\n",
    "\n",
    "con.commit()"
   ]
  },
  {
   "cell_type": "code",
   "execution_count": 46,
   "metadata": {},
   "outputs": [],
   "source": [
    "con.close()"
   ]
  },
  {
   "cell_type": "code",
   "execution_count": null,
   "metadata": {},
   "outputs": [],
   "source": [
    "cur.execute(\"select * from police_station\")\n",
    "result = cur.fetchall()\n",
    "for row in result:\n",
    "    print(row)\n",
    "df"
   ]
  }
 ],
 "metadata": {
  "kernelspec": {
   "display_name": "test_venv",
   "language": "python",
   "name": "python3"
  },
  "language_info": {
   "codemirror_mode": {
    "name": "ipython",
    "version": 3
   },
   "file_extension": ".py",
   "mimetype": "text/x-python",
   "name": "python",
   "nbconvert_exporter": "python",
   "pygments_lexer": "ipython3",
   "version": "3.10.12"
  }
 },
 "nbformat": 4,
 "nbformat_minor": 2
}
