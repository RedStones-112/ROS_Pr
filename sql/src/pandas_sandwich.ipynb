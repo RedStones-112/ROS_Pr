{
 "cells": [
  {
   "cell_type": "code",
   "execution_count": 3,
   "metadata": {},
   "outputs": [],
   "source": [
    "import pandas as pd\n",
    "import mysql.connector\n",
    "con = mysql.connector.connect(\n",
    "    host = \"database-1.cd2is2gsweff.ap-northeast-2.rds.amazonaws.com\",\n",
    "    port = \"3306\",\n",
    "    user = \"admin\",\n",
    "    password = \"kim82458529\",\n",
    "    database = \"amr_base\"\n",
    ")\n"
   ]
  },
  {
   "cell_type": "code",
   "execution_count": 10,
   "metadata": {},
   "outputs": [],
   "source": [
    "cur = con.cursor(buffered = True)\n",
    "df = pd.read_csv(\"../../edm/data/유신사.csv\")\n",
    "\n",
    "sql = \"insert into yousinsa values(%s,%s,%s,%s,%s,%s,%s,%s,%s,%s,%s,%s,%s)\""
   ]
  },
  {
   "cell_type": "code",
   "execution_count": 14,
   "metadata": {},
   "outputs": [],
   "source": [
    "for i, row in df.iterrows():\n",
    "    \n",
    "    cur.execute(sql,tuple(row))\n",
    "    con.commit()"
   ]
  },
  {
   "cell_type": "code",
   "execution_count": 25,
   "metadata": {},
   "outputs": [],
   "source": [
    "con.commit()"
   ]
  },
  {
   "cell_type": "code",
   "execution_count": 15,
   "metadata": {},
   "outputs": [],
   "source": [
    "con.close()"
   ]
  }
 ],
 "metadata": {
  "kernelspec": {
   "display_name": "test_venv",
   "language": "python",
   "name": "python3"
  },
  "language_info": {
   "codemirror_mode": {
    "name": "ipython",
    "version": 3
   },
   "file_extension": ".py",
   "mimetype": "text/x-python",
   "name": "python",
   "nbconvert_exporter": "python",
   "pygments_lexer": "ipython3",
   "version": "3.10.12"
  }
 },
 "nbformat": 4,
 "nbformat_minor": 2
}
