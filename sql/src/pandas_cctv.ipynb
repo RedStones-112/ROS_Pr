{
 "cells": [
  {
   "cell_type": "code",
   "execution_count": 8,
   "metadata": {},
   "outputs": [],
   "source": [
    "import pandas as pd\n",
    "import mysql.connector\n",
    "con = mysql.connector.connect(\n",
    "    host = \"database-1.cxyqwq0ceyfr.ap-northeast-2.rds.amazonaws.com\",\n",
    "    port = \"3306\",\n",
    "    user = \"robot\",\n",
    "    password = \"8470\",\n",
    "    database = \"amrbase\"\n",
    ")\n"
   ]
  },
  {
   "cell_type": "code",
   "execution_count": null,
   "metadata": {},
   "outputs": [],
   "source": [
    "cur = con.cursor(buffered=True)\n",
    "df = pd.read_csv(\"seoul_cctv.csv\")\n",
    "sql = \"insert into seoul_cctv values(%s, %s, %s, %s, %s, %s)\"\n",
    "df"
   ]
  },
  {
   "cell_type": "code",
   "execution_count": 5,
   "metadata": {},
   "outputs": [],
   "source": [
    "for i,row in df.iterrows():\n",
    "    cur.execute(sql,tuple(row))\n"
   ]
  },
  {
   "cell_type": "code",
   "execution_count": 6,
   "metadata": {},
   "outputs": [],
   "source": [
    "con.commit()"
   ]
  },
  {
   "cell_type": "code",
   "execution_count": null,
   "metadata": {},
   "outputs": [],
   "source": [
    "cur.execute(\"select * from seoul_cctv;\")\n",
    "result = cur.fetchall()\n",
    "for row in result:\n",
    "    print(row)\n",
    "df = pd.DataFrame(result)\n",
    "df.head()"
   ]
  },
  {
   "cell_type": "code",
   "execution_count": 12,
   "metadata": {},
   "outputs": [],
   "source": [
    "con.close()"
   ]
  }
 ],
 "metadata": {
  "kernelspec": {
   "display_name": "test_venv",
   "language": "python",
   "name": "python3"
  },
  "language_info": {
   "codemirror_mode": {
    "name": "ipython",
    "version": 3
   },
   "file_extension": ".py",
   "mimetype": "text/x-python",
   "name": "python",
   "nbconvert_exporter": "python",
   "pygments_lexer": "ipython3",
   "version": "3.10.12"
  }
 },
 "nbformat": 4,
 "nbformat_minor": 2
}
